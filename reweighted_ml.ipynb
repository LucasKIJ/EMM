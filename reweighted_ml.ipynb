{
 "cells": [
  {
   "cell_type": "code",
   "execution_count": 1,
   "id": "cc854056",
   "metadata": {},
   "outputs": [],
   "source": [
    "from rsw import *\n",
    "# data analysis and wrangling\n",
    "import numpy as np\n",
    "import pandas as pd\n",
    "import matplotlib.pyplot as plt\n",
    "import seaborn as sns\n",
    "import os\n",
    "import scipy as sp\n",
    "import warnings\n",
    "warnings.filterwarnings(\"ignore\")\n",
    "%matplotlib inline"
   ]
  },
  {
   "cell_type": "markdown",
   "id": "e2be79a8",
   "metadata": {},
   "source": [
    "### Read data"
   ]
  },
  {
   "cell_type": "code",
   "execution_count": 2,
   "id": "b81465f7",
   "metadata": {},
   "outputs": [],
   "source": [
    "data = pd.read_csv('./data/processed/pima_diabetes/diabetes.csv') "
   ]
  },
  {
   "cell_type": "code",
   "execution_count": 3,
   "id": "21454393",
   "metadata": {
    "scrolled": true
   },
   "outputs": [
    {
     "data": {
      "text/html": [
       "<div>\n",
       "<style scoped>\n",
       "    .dataframe tbody tr th:only-of-type {\n",
       "        vertical-align: middle;\n",
       "    }\n",
       "\n",
       "    .dataframe tbody tr th {\n",
       "        vertical-align: top;\n",
       "    }\n",
       "\n",
       "    .dataframe thead th {\n",
       "        text-align: right;\n",
       "    }\n",
       "</style>\n",
       "<table border=\"1\" class=\"dataframe\">\n",
       "  <thead>\n",
       "    <tr style=\"text-align: right;\">\n",
       "      <th></th>\n",
       "      <th>Pregnancies</th>\n",
       "      <th>Glucose</th>\n",
       "      <th>BloodPressure</th>\n",
       "      <th>SkinThickness</th>\n",
       "      <th>Insulin</th>\n",
       "      <th>BMI</th>\n",
       "      <th>DiabetesPedigreeFunction</th>\n",
       "      <th>Age</th>\n",
       "      <th>Outcome</th>\n",
       "    </tr>\n",
       "  </thead>\n",
       "  <tbody>\n",
       "    <tr>\n",
       "      <th>0</th>\n",
       "      <td>6</td>\n",
       "      <td>148</td>\n",
       "      <td>72</td>\n",
       "      <td>35</td>\n",
       "      <td>0</td>\n",
       "      <td>33.6</td>\n",
       "      <td>0.627</td>\n",
       "      <td>50</td>\n",
       "      <td>1</td>\n",
       "    </tr>\n",
       "    <tr>\n",
       "      <th>1</th>\n",
       "      <td>1</td>\n",
       "      <td>85</td>\n",
       "      <td>66</td>\n",
       "      <td>29</td>\n",
       "      <td>0</td>\n",
       "      <td>26.6</td>\n",
       "      <td>0.351</td>\n",
       "      <td>31</td>\n",
       "      <td>0</td>\n",
       "    </tr>\n",
       "    <tr>\n",
       "      <th>2</th>\n",
       "      <td>8</td>\n",
       "      <td>183</td>\n",
       "      <td>64</td>\n",
       "      <td>0</td>\n",
       "      <td>0</td>\n",
       "      <td>23.3</td>\n",
       "      <td>0.672</td>\n",
       "      <td>32</td>\n",
       "      <td>1</td>\n",
       "    </tr>\n",
       "    <tr>\n",
       "      <th>3</th>\n",
       "      <td>1</td>\n",
       "      <td>89</td>\n",
       "      <td>66</td>\n",
       "      <td>23</td>\n",
       "      <td>94</td>\n",
       "      <td>28.1</td>\n",
       "      <td>0.167</td>\n",
       "      <td>21</td>\n",
       "      <td>0</td>\n",
       "    </tr>\n",
       "    <tr>\n",
       "      <th>4</th>\n",
       "      <td>0</td>\n",
       "      <td>137</td>\n",
       "      <td>40</td>\n",
       "      <td>35</td>\n",
       "      <td>168</td>\n",
       "      <td>43.1</td>\n",
       "      <td>2.288</td>\n",
       "      <td>33</td>\n",
       "      <td>1</td>\n",
       "    </tr>\n",
       "  </tbody>\n",
       "</table>\n",
       "</div>"
      ],
      "text/plain": [
       "   Pregnancies  Glucose  BloodPressure  SkinThickness  Insulin   BMI  \\\n",
       "0            6      148             72             35        0  33.6   \n",
       "1            1       85             66             29        0  26.6   \n",
       "2            8      183             64              0        0  23.3   \n",
       "3            1       89             66             23       94  28.1   \n",
       "4            0      137             40             35      168  43.1   \n",
       "\n",
       "   DiabetesPedigreeFunction  Age  Outcome  \n",
       "0                     0.627   50        1  \n",
       "1                     0.351   31        0  \n",
       "2                     0.672   32        1  \n",
       "3                     0.167   21        0  \n",
       "4                     2.288   33        1  "
      ]
     },
     "execution_count": 3,
     "metadata": {},
     "output_type": "execute_result"
    }
   ],
   "source": [
    "data.head()  #displaying the head of dataset"
   ]
  },
  {
   "cell_type": "code",
   "execution_count": 4,
   "id": "e691c233",
   "metadata": {},
   "outputs": [],
   "source": [
    "#train_test_splitting of the dataset\n",
    "x = data.drop(columns = 'Outcome')\n",
    "# Getting Predicting Value\n",
    "y = data['Outcome']"
   ]
  },
  {
   "cell_type": "code",
   "execution_count": 5,
   "id": "fadad2ee",
   "metadata": {},
   "outputs": [
    {
     "data": {
      "text/html": [
       "<div>\n",
       "<style scoped>\n",
       "    .dataframe tbody tr th:only-of-type {\n",
       "        vertical-align: middle;\n",
       "    }\n",
       "\n",
       "    .dataframe tbody tr th {\n",
       "        vertical-align: top;\n",
       "    }\n",
       "\n",
       "    .dataframe thead th {\n",
       "        text-align: right;\n",
       "    }\n",
       "</style>\n",
       "<table border=\"1\" class=\"dataframe\">\n",
       "  <thead>\n",
       "    <tr style=\"text-align: right;\">\n",
       "      <th></th>\n",
       "      <th>Pregnancies</th>\n",
       "      <th>Glucose</th>\n",
       "      <th>BloodPressure</th>\n",
       "      <th>SkinThickness</th>\n",
       "      <th>Insulin</th>\n",
       "      <th>BMI</th>\n",
       "      <th>DiabetesPedigreeFunction</th>\n",
       "      <th>Age</th>\n",
       "    </tr>\n",
       "    <tr>\n",
       "      <th>Outcome</th>\n",
       "      <th></th>\n",
       "      <th></th>\n",
       "      <th></th>\n",
       "      <th></th>\n",
       "      <th></th>\n",
       "      <th></th>\n",
       "      <th></th>\n",
       "      <th></th>\n",
       "    </tr>\n",
       "  </thead>\n",
       "  <tbody>\n",
       "    <tr>\n",
       "      <th>0</th>\n",
       "      <td>3.298000</td>\n",
       "      <td>109.980000</td>\n",
       "      <td>68.184000</td>\n",
       "      <td>19.664000</td>\n",
       "      <td>68.792000</td>\n",
       "      <td>30.304200</td>\n",
       "      <td>0.429734</td>\n",
       "      <td>31.190000</td>\n",
       "    </tr>\n",
       "    <tr>\n",
       "      <th>1</th>\n",
       "      <td>4.865672</td>\n",
       "      <td>141.257463</td>\n",
       "      <td>70.824627</td>\n",
       "      <td>22.164179</td>\n",
       "      <td>100.335821</td>\n",
       "      <td>35.142537</td>\n",
       "      <td>0.550500</td>\n",
       "      <td>37.067164</td>\n",
       "    </tr>\n",
       "  </tbody>\n",
       "</table>\n",
       "</div>"
      ],
      "text/plain": [
       "         Pregnancies     Glucose  BloodPressure  SkinThickness     Insulin  \\\n",
       "Outcome                                                                      \n",
       "0           3.298000  109.980000      68.184000      19.664000   68.792000   \n",
       "1           4.865672  141.257463      70.824627      22.164179  100.335821   \n",
       "\n",
       "               BMI  DiabetesPedigreeFunction        Age  \n",
       "Outcome                                                  \n",
       "0        30.304200                  0.429734  31.190000  \n",
       "1        35.142537                  0.550500  37.067164  "
      ]
     },
     "execution_count": 5,
     "metadata": {},
     "output_type": "execute_result"
    }
   ],
   "source": [
    "data.groupby('Outcome').mean()"
   ]
  },
  {
   "cell_type": "code",
   "execution_count": 6,
   "id": "56f0c577",
   "metadata": {},
   "outputs": [
    {
     "data": {
      "text/plain": [
       "0.3489583333333333"
      ]
     },
     "execution_count": 6,
     "metadata": {},
     "output_type": "execute_result"
    }
   ],
   "source": [
    "data['Outcome'].mean()"
   ]
  },
  {
   "cell_type": "markdown",
   "id": "a49aa07f",
   "metadata": {},
   "source": [
    "### Match diabetes and non-diabetes means"
   ]
  },
  {
   "cell_type": "code",
   "execution_count": 7,
   "id": "6dd67af5",
   "metadata": {},
   "outputs": [],
   "source": [
    "losses_0 = [\n",
    "    losses.EqualityLoss(3.30),\n",
    "    losses.EqualityLoss(110.0),\n",
    "    losses.EqualityLoss(68.2),\n",
    "    losses.EqualityLoss(19.7),\n",
    "    losses.EqualityLoss(68.8),\n",
    "    losses.EqualityLoss(30.3),\n",
    "    losses.EqualityLoss(0.429),\n",
    "    losses.EqualityLoss(31.19)\n",
    "]\n",
    "\n",
    "losses_1 = [\n",
    "    losses.EqualityLoss(4.87),\n",
    "    losses.EqualityLoss(141.25),\n",
    "    losses.EqualityLoss(70.82),\n",
    "    losses.EqualityLoss(22.16),\n",
    "    losses.EqualityLoss(100.3),\n",
    "    losses.EqualityLoss(35.14),\n",
    "    losses.EqualityLoss(0.55),\n",
    "    losses.EqualityLoss(37.07)\n",
    "]"
   ]
  },
  {
   "cell_type": "markdown",
   "id": "b5307f78",
   "metadata": {},
   "source": [
    "### Re-weight"
   ]
  },
  {
   "cell_type": "code",
   "execution_count": 10,
   "id": "8ad38f57",
   "metadata": {},
   "outputs": [],
   "source": [
    "regularizer = regularizers.EntropyRegularizer(limit=None)\n",
    "w_0, out_0, sol_0 = rsw(x, None, losses_0, regularizer,\n",
    "                      1, verbose=False, rho=75, eps_abs=1e-6, eps_rel=1e-6)"
   ]
  },
  {
   "cell_type": "code",
   "execution_count": 12,
   "id": "0deeaf79",
   "metadata": {},
   "outputs": [],
   "source": [
    "regularizer = regularizers.EntropyRegularizer(limit=20)\n",
    "w_1, out_1, sol_1 = rsw(x, None, losses_1, regularizer,\n",
    "                      1, verbose=False, rho=50, eps_abs=1e-6, eps_rel=1e-6)"
   ]
  },
  {
   "cell_type": "code",
   "execution_count": 13,
   "id": "24ed25b2",
   "metadata": {},
   "outputs": [],
   "source": [
    "x_0 = x.copy()\n",
    "x_0[\"weights\"] = w_0\n",
    "x_1 = x.copy()\n",
    "x_1[\"weights\"] = w_1\n",
    "\n",
    "\n",
    "# Set theoretical outcome to train on reweighted datasets\n",
    "x_0['Outcome'] = 0\n",
    "x_1['Outcome'] = 1"
   ]
  },
  {
   "cell_type": "code",
   "execution_count": 14,
   "id": "2410cf2a",
   "metadata": {
    "scrolled": true
   },
   "outputs": [],
   "source": [
    "# Combine both reweight datasets together\n",
    "weighted_data = pd.concat([x_0,x_1])\n",
    "#train_test_splitting of the dataset\n",
    "\n",
    "x_w = weighted_data.drop(columns = ['Outcome'])\n",
    "\n",
    "# Getting Predicting Value\n",
    "y_w = weighted_data['Outcome']\n",
    "\n",
    "# Test train split\n",
    "from sklearn.model_selection import train_test_split \n",
    "x_train,x_test,y_train,y_test = train_test_split(x_w,y_w,test_size=0.2,random_state=0)\n",
    "w_train = x_train[\"weights\"]\n",
    "w_test = x_test[\"weights\"]\n",
    "x_train = x_train.drop(columns = 'weights')\n",
    "x_test = x_test.drop(columns = 'weights')"
   ]
  },
  {
   "cell_type": "code",
   "execution_count": 18,
   "id": "e1465b0a",
   "metadata": {},
   "outputs": [
    {
     "name": "stdout",
     "output_type": "stream",
     "text": [
      "Classification Report is:\n",
      "               precision    recall  f1-score   support\n",
      "\n",
      "           0       0.85      0.75      0.80       500\n",
      "           1       0.62      0.75      0.68       268\n",
      "\n",
      "    accuracy                           0.75       768\n",
      "   macro avg       0.74      0.75      0.74       768\n",
      "weighted avg       0.77      0.75      0.76       768\n",
      "\n",
      "Confusion Matrix:\n",
      " [[376 124]\n",
      " [ 66 202]]\n",
      "Training Score:\n",
      " 72.12123801441557\n",
      "Mean Squared Error:\n",
      " 0.24739583333333334\n",
      "R2 score is:\n",
      " -0.08895522388059685\n",
      "75.26041666666666\n"
     ]
    }
   ],
   "source": [
    "from sklearn.linear_model import LogisticRegression\n",
    "reg = LogisticRegression(C=1000)\n",
    "# Train on sythetic reweighted dataset\n",
    "reg.fit(x_train,y_train,sample_weight=w_train)\n",
    "\n",
    "# Predict on original dataset as a measure of performance\n",
    "y_pred=reg.predict(x)\n",
    "from sklearn.metrics import accuracy_score,classification_report,confusion_matrix\n",
    "from sklearn.metrics import r2_score\n",
    "from sklearn.metrics import mean_squared_error\n",
    "print(\"Classification Report is:\\n\",classification_report(y,y_pred))\n",
    "print(\"Confusion Matrix:\\n\",confusion_matrix(y,y_pred))\n",
    "print(\"Training Score:\\n\",reg.score(x_train,y_train,sample_weight=w_train)*100)\n",
    "print(\"Mean Squared Error:\\n\",mean_squared_error(y,y_pred))\n",
    "print(\"R2 score is:\\n\",r2_score(y,y_pred))\n",
    "\n",
    "print(accuracy_score())\n",
    "print(accuracy_score(y,y_pred)*100)"
   ]
  },
  {
   "cell_type": "code",
   "execution_count": 19,
   "id": "6f8618ac",
   "metadata": {},
   "outputs": [
    {
     "name": "stdout",
     "output_type": "stream",
     "text": [
      "Classification Report is:\n",
      "               precision    recall  f1-score   support\n",
      "\n",
      "           0       0.82      0.79      0.80       500\n",
      "           1       0.63      0.68      0.66       268\n",
      "\n",
      "    accuracy                           0.75       768\n",
      "   macro avg       0.73      0.73      0.73       768\n",
      "weighted avg       0.76      0.75      0.75       768\n",
      "\n",
      "Confusion Matrix:\n",
      " [[393 107]\n",
      " [ 85 183]]\n",
      "Training Score:\n",
      " 72.12123801441557\n",
      "Mean Squared Error:\n",
      " 0.25\n",
      "R2 score is:\n",
      " -0.06374260568460555\n",
      "75.0\n"
     ]
    }
   ],
   "source": [
    "from sklearn.svm import SVC\n",
    "\n",
    "svc = SVC(C=10000)\n",
    "svc.fit(x_train, y_train, sample_weight=w_train)\n",
    "\n",
    "y_pred=svc.predict(x)\n",
    "from sklearn.metrics import accuracy_score,classification_report,confusion_matrix\n",
    "from sklearn.metrics import r2_score\n",
    "from sklearn.metrics import mean_squared_error\n",
    "print(\"Classification Report is:\\n\",classification_report(y,y_pred))\n",
    "print(\"Confusion Matrix:\\n\",confusion_matrix(y,y_pred))\n",
    "print(\"Training Score:\\n\",reg.score(x_train,y_train,sample_weight=w_train)*100)\n",
    "print(\"Mean Squared Error:\\n\",mean_squared_error(y,y_pred))\n",
    "print(\"R2 score is:\\n\",r2_score(y_pred,y))\n",
    "\n",
    "print(accuracy_score(y_pred,y)*100)"
   ]
  },
  {
   "cell_type": "code",
   "execution_count": null,
   "id": "32df5975",
   "metadata": {},
   "outputs": [],
   "source": []
  }
 ],
 "metadata": {
  "kernelspec": {
   "display_name": "Python 3",
   "language": "python",
   "name": "python3"
  },
  "language_info": {
   "codemirror_mode": {
    "name": "ipython",
    "version": 3
   },
   "file_extension": ".py",
   "mimetype": "text/x-python",
   "name": "python",
   "nbconvert_exporter": "python",
   "pygments_lexer": "ipython3",
   "version": "3.9.0"
  }
 },
 "nbformat": 4,
 "nbformat_minor": 5
}
