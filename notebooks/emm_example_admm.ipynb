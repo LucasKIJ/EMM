{
 "cells": [
  {
   "cell_type": "markdown",
   "id": "f9635dc1",
   "metadata": {},
   "source": [
    "# Example of EMM for machine learning reweighting using ADMM optimisation"
   ]
  },
  {
   "cell_type": "markdown",
   "id": "4a97c3c6",
   "metadata": {},
   "source": [
    "Using the PIMA diabetes dataset we compare the original dataset with labels to the reweighted dataset with artificial labels. We begin by importing the PIMA diabetes dataset, it is already cleaned and does not have any missing values, outliers, etc. This example is also nice since all features are continuous and the labels are binary."
   ]
  },
  {
   "cell_type": "code",
   "execution_count": 5,
   "id": "96a94bea",
   "metadata": {},
   "outputs": [],
   "source": [
    "# Get raw data, convert to csv, and import\n",
    "# Update directory\n",
    "import sys\n",
    "sys.path.insert(1, '../')\n",
    "# Import libraries\n",
    "from emm import *\n",
    "import os.path\n",
    "from get_data import get_data\n",
    "import pandas as pd\n",
    "import matplotlib.pyplot as plt\n",
    "from scipy import stats\n",
    "import numpy as np\n",
    "\n",
    "# Data locations\n",
    "raw_dir = \"../assets/data/raw/pima_diabetes/archive.zip\"\n",
    "processed_dir = \"../assets/data/processed/pima_diabetes/\"\n",
    "\n",
    "# If processed data does exist convert raw to csv\n",
    "if not os.path.exists(processed_dir + \"diabetes.csv\"):\n",
    "    get_data.unzip(raw_dir,processed_dir)\n",
    "    \n",
    "# Get data into dataframe\n",
    "df = pd.read_csv(processed_dir + \"diabetes.csv\",index_col=0)\n",
    "\n",
    "# Replace 0 with nan\n",
    "nan_cols = ['Glucose', 'BloodPressure','SkinThickness','Insulin','BMI']\n",
    "df[nan_cols]=df[nan_cols].replace({'0':np.nan,0:np.nan})"
   ]
  },
  {
   "cell_type": "code",
   "execution_count": 59,
   "id": "1c4eb71a",
   "metadata": {},
   "outputs": [
    {
     "data": {
      "text/plain": [
       "(array([173., 127.,  96.,  61.,  41.,  51.,  47.,  39.,  34.,  18.,  21.,\n",
       "         13.,  15.,  11.,   8.,   8.,   3.,   1.,   0.,   1.]),\n",
       " array([21., 24., 27., 30., 33., 36., 39., 42., 45., 48., 51., 54., 57.,\n",
       "        60., 63., 66., 69., 72., 75., 78., 81.]),\n",
       " <BarContainer object of 20 artists>)"
      ]
     },
     "execution_count": 59,
     "metadata": {},
     "output_type": "execute_result"
    },
    {
     "data": {
      "image/png": "[encoded data removed]",
      "text/plain": [
       "<Figure size 432x288 with 1 Axes>"
      ]
     },
     "metadata": {
      "needs_background": "light"
     },
     "output_type": "display_data"
    }
   ],
   "source": [
    "plt.hist(df['Age'],bins=20)"
   ]
  },
  {
   "cell_type": "markdown",
   "id": "42042dc4",
   "metadata": {},
   "source": [
    "Separating features from labels, useful for training ML models and for re-weighting."
   ]
  },
  {
   "cell_type": "code",
   "execution_count": 6,
   "id": "4d779c23",
   "metadata": {},
   "outputs": [],
   "source": [
    "#train_test_splitting of the dataset\n",
    "X = df.drop(columns = 'Outcome')\n",
    "# Getting Predicting Value\n",
    "y = df['Outcome']"
   ]
  },
  {
   "cell_type": "markdown",
   "id": "e6fabb8a",
   "metadata": {},
   "source": [
    "First, we look at the means for each features according to outcome."
   ]
  },
  {
   "cell_type": "code",
   "execution_count": 7,
   "id": "ede99a18",
   "metadata": {
    "scrolled": false
   },
   "outputs": [
    {
     "data": {
      "text/html": [
       "<div>\n",
       "<style scoped>\n",
       "    .dataframe tbody tr th:only-of-type {\n",
       "        vertical-align: middle;\n",
       "    }\n",
       "\n",
       "    .dataframe tbody tr th {\n",
       "        vertical-align: top;\n",
       "    }\n",
       "\n",
       "    .dataframe thead th {\n",
       "        text-align: right;\n",
       "    }\n",
       "</style>\n",
       "<table border=\"1\" class=\"dataframe\">\n",
       "  <thead>\n",
       "    <tr style=\"text-align: right;\">\n",
       "      <th></th>\n",
       "      <th>Pregnancies</th>\n",
       "      <th>Glucose</th>\n",
       "      <th>BloodPressure</th>\n",
       "      <th>SkinThickness</th>\n",
       "      <th>Insulin</th>\n",
       "      <th>BMI</th>\n",
       "      <th>DiabetesPedigreeFunction</th>\n",
       "      <th>Age</th>\n",
       "    </tr>\n",
       "    <tr>\n",
       "      <th>Outcome</th>\n",
       "      <th></th>\n",
       "      <th></th>\n",
       "      <th></th>\n",
       "      <th></th>\n",
       "      <th></th>\n",
       "      <th></th>\n",
       "      <th></th>\n",
       "      <th></th>\n",
       "    </tr>\n",
       "  </thead>\n",
       "  <tbody>\n",
       "    <tr>\n",
       "      <th>0</th>\n",
       "      <td>3.298000</td>\n",
       "      <td>110.643863</td>\n",
       "      <td>70.877339</td>\n",
       "      <td>27.235457</td>\n",
       "      <td>130.287879</td>\n",
       "      <td>30.859674</td>\n",
       "      <td>0.429734</td>\n",
       "      <td>31.190000</td>\n",
       "    </tr>\n",
       "    <tr>\n",
       "      <th>1</th>\n",
       "      <td>4.865672</td>\n",
       "      <td>142.319549</td>\n",
       "      <td>75.321429</td>\n",
       "      <td>33.000000</td>\n",
       "      <td>206.846154</td>\n",
       "      <td>35.406767</td>\n",
       "      <td>0.550500</td>\n",
       "      <td>37.067164</td>\n",
       "    </tr>\n",
       "  </tbody>\n",
       "</table>\n",
       "</div>"
      ],
      "text/plain": [
       "         Pregnancies     Glucose  BloodPressure  SkinThickness     Insulin  \\\n",
       "Outcome                                                                      \n",
       "0           3.298000  110.643863      70.877339      27.235457  130.287879   \n",
       "1           4.865672  142.319549      75.321429      33.000000  206.846154   \n",
       "\n",
       "               BMI  DiabetesPedigreeFunction        Age  \n",
       "Outcome                                                  \n",
       "0        30.859674                  0.429734  31.190000  \n",
       "1        35.406767                  0.550500  37.067164  "
      ]
     },
     "metadata": {},
     "output_type": "display_data"
    }
   ],
   "source": [
    "marginals_mean = df.groupby('Outcome').mean()\n",
    "display(marginals_mean)"
   ]
  },
  {
   "cell_type": "markdown",
   "id": "e176f6c6",
   "metadata": {},
   "source": [
    "We may also want to consider standard deviation of features."
   ]
  },
  {
   "cell_type": "markdown",
   "id": "71b8fb72",
   "metadata": {},
   "source": [
    "### Matching marginals\n",
    "\n",
    "First we construct functions $F$ upon which we take expectations of under the weighted measure. Mathematically, we express this as\n",
    "$$ \\mathbb E[F(x)] = \\sum^N_{i=1} w_i F(x_i) $$"
   ]
  },
  {
   "cell_type": "code",
   "execution_count": 50,
   "id": "fe17fd0a",
   "metadata": {},
   "outputs": [
    {
     "data": {
      "text/plain": [
       "{'Insulin': ['mean', 'std']}"
      ]
     },
     "execution_count": 50,
     "metadata": {},
     "output_type": "execute_result"
    }
   ],
   "source": [
    "features = [\"Insulin\"]\n",
    "marginals = {}\n",
    "for feature in features:\n",
    "    marginals[feature] = [\"mean\", \"std\"]\n",
    "marginals"
   ]
  },
  {
   "cell_type": "code",
   "execution_count": null,
   "id": "13a7eb97",
   "metadata": {},
   "outputs": [],
   "source": [
    "{'Glucose' : {'marginal': ['mean', 'std'], 'loss' : [LeastSquaresLoss(mu), LeastSquaresLoss(sig)]}}"
   ]
  },
  {
   "cell_type": "markdown",
   "id": "7feb545d",
   "metadata": {},
   "source": [
    "Create loss tables, using least squared loss and "
   ]
  },
  {
   "cell_type": "code",
   "execution_count": 51,
   "id": "e9d29ad8",
   "metadata": {},
   "outputs": [],
   "source": [
    "f = lambda x : x"
   ]
  },
  {
   "cell_type": "code",
   "execution_count": 52,
   "id": "2de102a4",
   "metadata": {},
   "outputs": [],
   "source": [
    "loss_0 = []\n",
    "loss_1 = []\n",
    "for feature in marginals.keys():\n",
    "    for fun in marginals[feature]:\n",
    "        marg = getattr(df[[feature,'Outcome']].groupby('Outcome'),fun)()\n",
    "        loss_0.append(EqualityLoss(marg.loc[0]))\n",
    "        loss_1.append(EqualityLoss(marg.loc[1]))"
   ]
  },
  {
   "cell_type": "code",
   "execution_count": 53,
   "id": "f6ca52ea",
   "metadata": {},
   "outputs": [],
   "source": [
    "#regularizer = regularizers.EntropyRegularizer(limit=None)\n",
    "regularizer = regularizers.ZeroRegularizer()\n",
    "w_0, out_0 = emm(X, marginals, loss_0, regularizer=regularizer, optimizer='admm')\n",
    "w_1, out_1 = emm(X, marginals, loss_1, regularizer, optimizer='admm')"
   ]
  },
  {
   "cell_type": "code",
   "execution_count": 54,
   "id": "0da33a3a",
   "metadata": {},
   "outputs": [],
   "source": [
    "X_0 = X.copy()\n",
    "X_0[\"weights\"] = w_0 \n",
    "X_1 = X.copy()\n",
    "X_1[\"weights\"] = w_1 \n",
    "\n",
    "# Set theoretical outcome to train on reweighted datasets\n",
    "X_0['Outcome'] = 0\n",
    "X_1['Outcome'] = 1\n",
    "\n",
    "df_w = pd.concat([X_0,X_1])"
   ]
  },
  {
   "cell_type": "code",
   "execution_count": 55,
   "id": "810af26f",
   "metadata": {},
   "outputs": [],
   "source": [
    "df_valw = df_w.drop(columns=['Outcome','weights']).multiply(df_w['weights'], axis=\"index\")\n",
    "df_valw['Outcome'] = df_w['Outcome']"
   ]
  },
  {
   "cell_type": "code",
   "execution_count": 56,
   "id": "0b93cfd2",
   "metadata": {},
   "outputs": [],
   "source": [
    "w_marginals = df_valw.groupby('Outcome').sum()"
   ]
  },
  {
   "cell_type": "code",
   "execution_count": 57,
   "id": "461351fb",
   "metadata": {},
   "outputs": [
    {
     "data": {
      "text/html": [
       "<div>\n",
       "<style scoped>\n",
       "    .dataframe tbody tr th:only-of-type {\n",
       "        vertical-align: middle;\n",
       "    }\n",
       "\n",
       "    .dataframe tbody tr th {\n",
       "        vertical-align: top;\n",
       "    }\n",
       "\n",
       "    .dataframe thead th {\n",
       "        text-align: right;\n",
       "    }\n",
       "</style>\n",
       "<table border=\"1\" class=\"dataframe\">\n",
       "  <thead>\n",
       "    <tr style=\"text-align: right;\">\n",
       "      <th></th>\n",
       "      <th>Pregnancies</th>\n",
       "      <th>Glucose</th>\n",
       "      <th>BloodPressure</th>\n",
       "      <th>SkinThickness</th>\n",
       "      <th>Insulin</th>\n",
       "      <th>BMI</th>\n",
       "      <th>DiabetesPedigreeFunction</th>\n",
       "      <th>Age</th>\n",
       "    </tr>\n",
       "    <tr>\n",
       "      <th>Outcome</th>\n",
       "      <th></th>\n",
       "      <th></th>\n",
       "      <th></th>\n",
       "      <th></th>\n",
       "      <th></th>\n",
       "      <th></th>\n",
       "      <th></th>\n",
       "      <th></th>\n",
       "    </tr>\n",
       "  </thead>\n",
       "  <tbody>\n",
       "    <tr>\n",
       "      <th>0</th>\n",
       "      <td>3.298000</td>\n",
       "      <td>110.643863</td>\n",
       "      <td>70.877339</td>\n",
       "      <td>27.235457</td>\n",
       "      <td>130.287879</td>\n",
       "      <td>30.859674</td>\n",
       "      <td>0.429734</td>\n",
       "      <td>31.190000</td>\n",
       "    </tr>\n",
       "    <tr>\n",
       "      <th>1</th>\n",
       "      <td>4.865672</td>\n",
       "      <td>142.319549</td>\n",
       "      <td>75.321429</td>\n",
       "      <td>33.000000</td>\n",
       "      <td>206.846154</td>\n",
       "      <td>35.406767</td>\n",
       "      <td>0.550500</td>\n",
       "      <td>37.067164</td>\n",
       "    </tr>\n",
       "  </tbody>\n",
       "</table>\n",
       "</div>"
      ],
      "text/plain": [
       "         Pregnancies     Glucose  BloodPressure  SkinThickness     Insulin  \\\n",
       "Outcome                                                                      \n",
       "0           3.298000  110.643863      70.877339      27.235457  130.287879   \n",
       "1           4.865672  142.319549      75.321429      33.000000  206.846154   \n",
       "\n",
       "               BMI  DiabetesPedigreeFunction        Age  \n",
       "Outcome                                                  \n",
       "0        30.859674                  0.429734  31.190000  \n",
       "1        35.406767                  0.550500  37.067164  "
      ]
     },
     "metadata": {},
     "output_type": "display_data"
    },
    {
     "data": {
      "text/html": [
       "<div>\n",
       "<style scoped>\n",
       "    .dataframe tbody tr th:only-of-type {\n",
       "        vertical-align: middle;\n",
       "    }\n",
       "\n",
       "    .dataframe tbody tr th {\n",
       "        vertical-align: top;\n",
       "    }\n",
       "\n",
       "    .dataframe thead th {\n",
       "        text-align: right;\n",
       "    }\n",
       "</style>\n",
       "<table border=\"1\" class=\"dataframe\">\n",
       "  <thead>\n",
       "    <tr style=\"text-align: right;\">\n",
       "      <th></th>\n",
       "      <th>Pregnancies</th>\n",
       "      <th>Glucose</th>\n",
       "      <th>BloodPressure</th>\n",
       "      <th>SkinThickness</th>\n",
       "      <th>Insulin</th>\n",
       "      <th>BMI</th>\n",
       "      <th>DiabetesPedigreeFunction</th>\n",
       "      <th>Age</th>\n",
       "    </tr>\n",
       "    <tr>\n",
       "      <th>Outcome</th>\n",
       "      <th></th>\n",
       "      <th></th>\n",
       "      <th></th>\n",
       "      <th></th>\n",
       "      <th></th>\n",
       "      <th></th>\n",
       "      <th></th>\n",
       "      <th></th>\n",
       "    </tr>\n",
       "  </thead>\n",
       "  <tbody>\n",
       "    <tr>\n",
       "      <th>0</th>\n",
       "      <td>3.789113</td>\n",
       "      <td>116.797056</td>\n",
       "      <td>68.527211</td>\n",
       "      <td>18.909082</td>\n",
       "      <td>57.815973</td>\n",
       "      <td>31.437681</td>\n",
       "      <td>0.458393</td>\n",
       "      <td>32.976701</td>\n",
       "    </tr>\n",
       "    <tr>\n",
       "      <th>1</th>\n",
       "      <td>3.909429</td>\n",
       "      <td>122.648121</td>\n",
       "      <td>68.924834</td>\n",
       "      <td>19.405053</td>\n",
       "      <td>90.855484</td>\n",
       "      <td>31.969552</td>\n",
       "      <td>0.470035</td>\n",
       "      <td>33.760606</td>\n",
       "    </tr>\n",
       "  </tbody>\n",
       "</table>\n",
       "</div>"
      ],
      "text/plain": [
       "         Pregnancies     Glucose  BloodPressure  SkinThickness    Insulin  \\\n",
       "Outcome                                                                     \n",
       "0           3.789113  116.797056      68.527211      18.909082  57.815973   \n",
       "1           3.909429  122.648121      68.924834      19.405053  90.855484   \n",
       "\n",
       "               BMI  DiabetesPedigreeFunction        Age  \n",
       "Outcome                                                  \n",
       "0        31.437681                  0.458393  32.976701  \n",
       "1        31.969552                  0.470035  33.760606  "
      ]
     },
     "metadata": {},
     "output_type": "display_data"
    },
    {
     "data": {
      "text/html": [
       "<div>\n",
       "<style scoped>\n",
       "    .dataframe tbody tr th:only-of-type {\n",
       "        vertical-align: middle;\n",
       "    }\n",
       "\n",
       "    .dataframe tbody tr th {\n",
       "        vertical-align: top;\n",
       "    }\n",
       "\n",
       "    .dataframe thead th {\n",
       "        text-align: right;\n",
       "    }\n",
       "</style>\n",
       "<table border=\"1\" class=\"dataframe\">\n",
       "  <thead>\n",
       "    <tr style=\"text-align: right;\">\n",
       "      <th></th>\n",
       "      <th>Pregnancies</th>\n",
       "      <th>Glucose</th>\n",
       "      <th>BloodPressure</th>\n",
       "      <th>SkinThickness</th>\n",
       "      <th>Insulin</th>\n",
       "      <th>BMI</th>\n",
       "      <th>DiabetesPedigreeFunction</th>\n",
       "      <th>Age</th>\n",
       "    </tr>\n",
       "    <tr>\n",
       "      <th>Outcome</th>\n",
       "      <th></th>\n",
       "      <th></th>\n",
       "      <th></th>\n",
       "      <th></th>\n",
       "      <th></th>\n",
       "      <th></th>\n",
       "      <th></th>\n",
       "      <th></th>\n",
       "    </tr>\n",
       "  </thead>\n",
       "  <tbody>\n",
       "    <tr>\n",
       "      <th>0</th>\n",
       "      <td>0.491113</td>\n",
       "      <td>6.153192</td>\n",
       "      <td>2.350128</td>\n",
       "      <td>8.326375</td>\n",
       "      <td>72.471906</td>\n",
       "      <td>0.578006</td>\n",
       "      <td>0.028659</td>\n",
       "      <td>1.786701</td>\n",
       "    </tr>\n",
       "    <tr>\n",
       "      <th>1</th>\n",
       "      <td>0.956243</td>\n",
       "      <td>19.671428</td>\n",
       "      <td>6.396595</td>\n",
       "      <td>13.594947</td>\n",
       "      <td>115.990670</td>\n",
       "      <td>3.437215</td>\n",
       "      <td>0.080465</td>\n",
       "      <td>3.306558</td>\n",
       "    </tr>\n",
       "  </tbody>\n",
       "</table>\n",
       "</div>"
      ],
      "text/plain": [
       "         Pregnancies    Glucose  BloodPressure  SkinThickness     Insulin  \\\n",
       "Outcome                                                                     \n",
       "0           0.491113   6.153192       2.350128       8.326375   72.471906   \n",
       "1           0.956243  19.671428       6.396595      13.594947  115.990670   \n",
       "\n",
       "              BMI  DiabetesPedigreeFunction       Age  \n",
       "Outcome                                                \n",
       "0        0.578006                  0.028659  1.786701  \n",
       "1        3.437215                  0.080465  3.306558  "
      ]
     },
     "metadata": {},
     "output_type": "display_data"
    }
   ],
   "source": [
    "display(marginals_mean)\n",
    "display(w_marginals)\n",
    "display(abs((marginals_mean - w_marginals)))"
   ]
  },
  {
   "cell_type": "code",
   "execution_count": 31,
   "id": "3e084879",
   "metadata": {},
   "outputs": [],
   "source": [
    "std_w = pd.concat([abs(X_0[features] - marginals_mean.loc[0]),abs(X_1[features] - marginals_mean.loc[1])])\n",
    "std_w = std_w.multiply(df_w['weights'], axis=\"index\")\n",
    "std_w = pd.concat([std_w, df_w['Outcome']],axis=1)"
   ]
  },
  {
   "cell_type": "code",
   "execution_count": 32,
   "id": "519d685d",
   "metadata": {},
   "outputs": [
    {
     "ename": "NameError",
     "evalue": "name 'marginals_std' is not defined",
     "output_type": "error",
     "traceback": [
      "\u001b[1;31m---------------------------------------------------------------------------\u001b[0m",
      "\u001b[1;31mNameError\u001b[0m                                 Traceback (most recent call last)",
      "\u001b[1;32m<ipython-input-32-e532af7ad25d>\u001b[0m in \u001b[0;36m<module>\u001b[1;34m\u001b[0m\n\u001b[1;32m----> 1\u001b[1;33m \u001b[0mdisplay\u001b[0m\u001b[1;33m(\u001b[0m\u001b[0mmarginals_std\u001b[0m\u001b[1;33m)\u001b[0m\u001b[1;33m\u001b[0m\u001b[1;33m\u001b[0m\u001b[0m\n\u001b[0m\u001b[0;32m      2\u001b[0m \u001b[0mdisplay\u001b[0m\u001b[1;33m(\u001b[0m\u001b[0mstd_w\u001b[0m\u001b[1;33m.\u001b[0m\u001b[0mgroupby\u001b[0m\u001b[1;33m(\u001b[0m\u001b[1;34m'Outcome'\u001b[0m\u001b[1;33m)\u001b[0m\u001b[1;33m.\u001b[0m\u001b[0msum\u001b[0m\u001b[1;33m(\u001b[0m\u001b[1;33m)\u001b[0m\u001b[1;33m)\u001b[0m\u001b[1;33m\u001b[0m\u001b[1;33m\u001b[0m\u001b[0m\n\u001b[0;32m      3\u001b[0m \u001b[0mdisplay\u001b[0m\u001b[1;33m(\u001b[0m\u001b[0mabs\u001b[0m\u001b[1;33m(\u001b[0m\u001b[1;33m(\u001b[0m\u001b[0mmarginals_std\u001b[0m \u001b[1;33m-\u001b[0m \u001b[0mstd_w\u001b[0m\u001b[1;33m.\u001b[0m\u001b[0mgroupby\u001b[0m\u001b[1;33m(\u001b[0m\u001b[1;34m'Outcome'\u001b[0m\u001b[1;33m)\u001b[0m\u001b[1;33m.\u001b[0m\u001b[0msum\u001b[0m\u001b[1;33m(\u001b[0m\u001b[1;33m)\u001b[0m\u001b[1;33m)\u001b[0m\u001b[1;33m)\u001b[0m\u001b[1;33m)\u001b[0m\u001b[1;33m\u001b[0m\u001b[1;33m\u001b[0m\u001b[0m\n",
      "\u001b[1;31mNameError\u001b[0m: name 'marginals_std' is not defined"
     ]
    }
   ],
   "source": [
    "display(marginals_std)\n",
    "display(std_w.groupby('Outcome').sum())\n",
    "display(abs((marginals_std - std_w.groupby('Outcome').sum())))"
   ]
  },
  {
   "cell_type": "code",
   "execution_count": null,
   "id": "1a4c3c14",
   "metadata": {},
   "outputs": [],
   "source": []
  }
 ],
 "metadata": {
  "kernelspec": {
   "display_name": "Python 3",
   "language": "python",
   "name": "python3"
  },
  "language_info": {
   "codemirror_mode": {
    "name": "ipython",
    "version": 3
   },
   "file_extension": ".py",
   "mimetype": "text/x-python",
   "name": "python",
   "nbconvert_exporter": "python",
   "pygments_lexer": "ipython3",
   "version": "3.9.0"
  }
 },
 "nbformat": 4,
 "nbformat_minor": 5
}
