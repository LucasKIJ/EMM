{
 "cells": [
  {
   "cell_type": "markdown",
   "id": "30baab2c",
   "metadata": {},
   "source": [
    "# Corpus shift KL minimisation\n"
   ]
  },
  {
   "cell_type": "code",
   "execution_count": 1,
   "id": "d721b9e2",
   "metadata": {},
   "outputs": [],
   "source": [
    "import numpy as np\n",
    "import pandas as pd\n",
    "import matplotlib.pyplot as plt\n",
    "import cvxpy as cp\n",
    "import seaborn as sns\n",
    "import emm\n",
    "\n",
    "# Generate example data\n",
    "m = 10000\n",
    "# Target distribution\n",
    "mu0 = np.array([100]); sig0 = np.array([10])\n",
    "mu1 = np.array([150]); sig1 = np.array([15])\n",
    "X0 = np.random.normal(loc=mu0, scale=sig0, size=m // 2)\n",
    "X1 = np.random.normal(loc=mu1, scale=sig1, size=m // 2)\n",
    "y0 = np.zeros(m // 2)\n",
    "y1 = np.ones(m // 2)\n",
    "X = np.concatenate([X0,X1])\n",
    "y = np.concatenate([y0,y1])\n",
    "\n",
    "target = pd.DataFrame({'feature' : X})\n",
    "target['Outcome'] = y\n",
    "\n",
    "# Corpus distribution\n",
    "mu = np.array([125]); sig = np.array([15])\n",
    "corpus = np.random.normal(loc=mu, scale=sig, size=m)\n",
    "corpus = pd.DataFrame({'feature': corpus})"
   ]
  },
  {
   "cell_type": "markdown",
   "id": "68abb6d1",
   "metadata": {},
   "source": [
    "Plot histograms for corpus and target distribution"
   ]
  },
  {
   "cell_type": "code",
   "execution_count": 2,
   "id": "40dd8893",
   "metadata": {},
   "outputs": [
    {
     "data": {
      "image/png": "[encoded data removed]",
      "text/plain": [
       "<Figure size 432x288 with 1 Axes>"
      ]
     },
     "metadata": {
      "needs_background": "light"
     },
     "output_type": "display_data"
    }
   ],
   "source": [
    "bins = np.histogram_bin_edges(corpus['feature'],bins='auto')\n",
    "plt.hist(corpus['feature'],bins=bins, density=True)\n",
    "plt.xlim([35,225])\n",
    "plt.title(\"Corpus\")\n",
    "plt.show()"
   ]
  },
  {
   "cell_type": "code",
   "execution_count": 3,
   "id": "150f8036",
   "metadata": {},
   "outputs": [
    {
     "data": {
      "image/png": "[encoded data removed]",
      "text/plain": [
       "<Figure size 432x288 with 1 Axes>"
      ]
     },
     "metadata": {
      "needs_background": "light"
     },
     "output_type": "display_data"
    }
   ],
   "source": [
    "bins_target = np.histogram_bin_edges(target['feature'],bins='auto')\n",
    "plt.hist(target['feature'],bins=bins_target, density=True)\n",
    "plt.xlim([35,225])\n",
    "plt.title(\"Target\")\n",
    "plt.show()"
   ]
  },
  {
   "cell_type": "code",
   "execution_count": 153,
   "id": "52b42ce8",
   "metadata": {},
   "outputs": [
    {
     "data": {
      "text/html": [
       "<div>\n",
       "<style scoped>\n",
       "    .dataframe tbody tr th:only-of-type {\n",
       "        vertical-align: middle;\n",
       "    }\n",
       "\n",
       "    .dataframe tbody tr th {\n",
       "        vertical-align: top;\n",
       "    }\n",
       "\n",
       "    .dataframe thead th {\n",
       "        text-align: right;\n",
       "    }\n",
       "</style>\n",
       "<table border=\"1\" class=\"dataframe\">\n",
       "  <thead>\n",
       "    <tr style=\"text-align: right;\">\n",
       "      <th></th>\n",
       "      <th>(70.041, 71.924]</th>\n",
       "      <th>(71.924, 73.807]</th>\n",
       "      <th>(73.807, 75.69]</th>\n",
       "      <th>(75.69, 77.573]</th>\n",
       "      <th>(77.573, 79.456]</th>\n",
       "      <th>(79.456, 81.339]</th>\n",
       "      <th>(81.339, 83.222]</th>\n",
       "      <th>(83.222, 85.105]</th>\n",
       "      <th>(85.105, 86.988]</th>\n",
       "      <th>(86.988, 88.871]</th>\n",
       "      <th>...</th>\n",
       "      <th>(164.192, 166.075]</th>\n",
       "      <th>(166.075, 167.958]</th>\n",
       "      <th>(167.958, 169.841]</th>\n",
       "      <th>(169.841, 171.724]</th>\n",
       "      <th>(171.724, 173.607]</th>\n",
       "      <th>(173.607, 175.49]</th>\n",
       "      <th>(175.49, 177.373]</th>\n",
       "      <th>(177.373, 179.256]</th>\n",
       "      <th>(179.256, 181.139]</th>\n",
       "      <th>(181.139, 183.022]</th>\n",
       "    </tr>\n",
       "  </thead>\n",
       "  <tbody>\n",
       "    <tr>\n",
       "      <th>0</th>\n",
       "      <td>0</td>\n",
       "      <td>0</td>\n",
       "      <td>0</td>\n",
       "      <td>0</td>\n",
       "      <td>0</td>\n",
       "      <td>0</td>\n",
       "      <td>0</td>\n",
       "      <td>0</td>\n",
       "      <td>0</td>\n",
       "      <td>0</td>\n",
       "      <td>...</td>\n",
       "      <td>0</td>\n",
       "      <td>0</td>\n",
       "      <td>0</td>\n",
       "      <td>0</td>\n",
       "      <td>0</td>\n",
       "      <td>0</td>\n",
       "      <td>0</td>\n",
       "      <td>0</td>\n",
       "      <td>0</td>\n",
       "      <td>0</td>\n",
       "    </tr>\n",
       "    <tr>\n",
       "      <th>1</th>\n",
       "      <td>0</td>\n",
       "      <td>0</td>\n",
       "      <td>0</td>\n",
       "      <td>0</td>\n",
       "      <td>0</td>\n",
       "      <td>0</td>\n",
       "      <td>0</td>\n",
       "      <td>0</td>\n",
       "      <td>0</td>\n",
       "      <td>0</td>\n",
       "      <td>...</td>\n",
       "      <td>0</td>\n",
       "      <td>0</td>\n",
       "      <td>0</td>\n",
       "      <td>0</td>\n",
       "      <td>0</td>\n",
       "      <td>0</td>\n",
       "      <td>0</td>\n",
       "      <td>0</td>\n",
       "      <td>0</td>\n",
       "      <td>0</td>\n",
       "    </tr>\n",
       "    <tr>\n",
       "      <th>2</th>\n",
       "      <td>0</td>\n",
       "      <td>0</td>\n",
       "      <td>0</td>\n",
       "      <td>0</td>\n",
       "      <td>0</td>\n",
       "      <td>0</td>\n",
       "      <td>0</td>\n",
       "      <td>0</td>\n",
       "      <td>0</td>\n",
       "      <td>0</td>\n",
       "      <td>...</td>\n",
       "      <td>0</td>\n",
       "      <td>0</td>\n",
       "      <td>0</td>\n",
       "      <td>0</td>\n",
       "      <td>0</td>\n",
       "      <td>0</td>\n",
       "      <td>0</td>\n",
       "      <td>0</td>\n",
       "      <td>0</td>\n",
       "      <td>0</td>\n",
       "    </tr>\n",
       "    <tr>\n",
       "      <th>3</th>\n",
       "      <td>0</td>\n",
       "      <td>0</td>\n",
       "      <td>0</td>\n",
       "      <td>0</td>\n",
       "      <td>0</td>\n",
       "      <td>0</td>\n",
       "      <td>0</td>\n",
       "      <td>0</td>\n",
       "      <td>0</td>\n",
       "      <td>0</td>\n",
       "      <td>...</td>\n",
       "      <td>0</td>\n",
       "      <td>0</td>\n",
       "      <td>0</td>\n",
       "      <td>0</td>\n",
       "      <td>0</td>\n",
       "      <td>0</td>\n",
       "      <td>0</td>\n",
       "      <td>0</td>\n",
       "      <td>0</td>\n",
       "      <td>0</td>\n",
       "    </tr>\n",
       "    <tr>\n",
       "      <th>4</th>\n",
       "      <td>0</td>\n",
       "      <td>0</td>\n",
       "      <td>0</td>\n",
       "      <td>0</td>\n",
       "      <td>0</td>\n",
       "      <td>0</td>\n",
       "      <td>0</td>\n",
       "      <td>0</td>\n",
       "      <td>0</td>\n",
       "      <td>0</td>\n",
       "      <td>...</td>\n",
       "      <td>0</td>\n",
       "      <td>0</td>\n",
       "      <td>0</td>\n",
       "      <td>0</td>\n",
       "      <td>0</td>\n",
       "      <td>0</td>\n",
       "      <td>0</td>\n",
       "      <td>0</td>\n",
       "      <td>0</td>\n",
       "      <td>0</td>\n",
       "    </tr>\n",
       "    <tr>\n",
       "      <th>...</th>\n",
       "      <td>...</td>\n",
       "      <td>...</td>\n",
       "      <td>...</td>\n",
       "      <td>...</td>\n",
       "      <td>...</td>\n",
       "      <td>...</td>\n",
       "      <td>...</td>\n",
       "      <td>...</td>\n",
       "      <td>...</td>\n",
       "      <td>...</td>\n",
       "      <td>...</td>\n",
       "      <td>...</td>\n",
       "      <td>...</td>\n",
       "      <td>...</td>\n",
       "      <td>...</td>\n",
       "      <td>...</td>\n",
       "      <td>...</td>\n",
       "      <td>...</td>\n",
       "      <td>...</td>\n",
       "      <td>...</td>\n",
       "      <td>...</td>\n",
       "    </tr>\n",
       "    <tr>\n",
       "      <th>9995</th>\n",
       "      <td>0</td>\n",
       "      <td>0</td>\n",
       "      <td>0</td>\n",
       "      <td>0</td>\n",
       "      <td>0</td>\n",
       "      <td>0</td>\n",
       "      <td>0</td>\n",
       "      <td>0</td>\n",
       "      <td>0</td>\n",
       "      <td>0</td>\n",
       "      <td>...</td>\n",
       "      <td>0</td>\n",
       "      <td>0</td>\n",
       "      <td>0</td>\n",
       "      <td>0</td>\n",
       "      <td>0</td>\n",
       "      <td>0</td>\n",
       "      <td>0</td>\n",
       "      <td>0</td>\n",
       "      <td>0</td>\n",
       "      <td>0</td>\n",
       "    </tr>\n",
       "    <tr>\n",
       "      <th>9996</th>\n",
       "      <td>0</td>\n",
       "      <td>0</td>\n",
       "      <td>0</td>\n",
       "      <td>0</td>\n",
       "      <td>0</td>\n",
       "      <td>0</td>\n",
       "      <td>0</td>\n",
       "      <td>0</td>\n",
       "      <td>0</td>\n",
       "      <td>0</td>\n",
       "      <td>...</td>\n",
       "      <td>0</td>\n",
       "      <td>0</td>\n",
       "      <td>0</td>\n",
       "      <td>0</td>\n",
       "      <td>0</td>\n",
       "      <td>0</td>\n",
       "      <td>0</td>\n",
       "      <td>0</td>\n",
       "      <td>0</td>\n",
       "      <td>0</td>\n",
       "    </tr>\n",
       "    <tr>\n",
       "      <th>9997</th>\n",
       "      <td>0</td>\n",
       "      <td>0</td>\n",
       "      <td>0</td>\n",
       "      <td>0</td>\n",
       "      <td>0</td>\n",
       "      <td>0</td>\n",
       "      <td>0</td>\n",
       "      <td>0</td>\n",
       "      <td>0</td>\n",
       "      <td>0</td>\n",
       "      <td>...</td>\n",
       "      <td>0</td>\n",
       "      <td>0</td>\n",
       "      <td>0</td>\n",
       "      <td>0</td>\n",
       "      <td>0</td>\n",
       "      <td>0</td>\n",
       "      <td>0</td>\n",
       "      <td>0</td>\n",
       "      <td>0</td>\n",
       "      <td>0</td>\n",
       "    </tr>\n",
       "    <tr>\n",
       "      <th>9998</th>\n",
       "      <td>0</td>\n",
       "      <td>0</td>\n",
       "      <td>0</td>\n",
       "      <td>0</td>\n",
       "      <td>0</td>\n",
       "      <td>0</td>\n",
       "      <td>0</td>\n",
       "      <td>0</td>\n",
       "      <td>0</td>\n",
       "      <td>0</td>\n",
       "      <td>...</td>\n",
       "      <td>0</td>\n",
       "      <td>0</td>\n",
       "      <td>0</td>\n",
       "      <td>0</td>\n",
       "      <td>0</td>\n",
       "      <td>0</td>\n",
       "      <td>0</td>\n",
       "      <td>0</td>\n",
       "      <td>0</td>\n",
       "      <td>0</td>\n",
       "    </tr>\n",
       "    <tr>\n",
       "      <th>9999</th>\n",
       "      <td>0</td>\n",
       "      <td>0</td>\n",
       "      <td>0</td>\n",
       "      <td>0</td>\n",
       "      <td>0</td>\n",
       "      <td>0</td>\n",
       "      <td>0</td>\n",
       "      <td>0</td>\n",
       "      <td>0</td>\n",
       "      <td>0</td>\n",
       "      <td>...</td>\n",
       "      <td>0</td>\n",
       "      <td>0</td>\n",
       "      <td>0</td>\n",
       "      <td>0</td>\n",
       "      <td>0</td>\n",
       "      <td>0</td>\n",
       "      <td>0</td>\n",
       "      <td>0</td>\n",
       "      <td>0</td>\n",
       "      <td>0</td>\n",
       "    </tr>\n",
       "  </tbody>\n",
       "</table>\n",
       "<p>10000 rows × 60 columns</p>\n",
       "</div>"
      ],
      "text/plain": [
       "      (70.041, 71.924]  (71.924, 73.807]  (73.807, 75.69]  (75.69, 77.573]  \\\n",
       "0                    0                 0                0                0   \n",
       "1                    0                 0                0                0   \n",
       "2                    0                 0                0                0   \n",
       "3                    0                 0                0                0   \n",
       "4                    0                 0                0                0   \n",
       "...                ...               ...              ...              ...   \n",
       "9995                 0                 0                0                0   \n",
       "9996                 0                 0                0                0   \n",
       "9997                 0                 0                0                0   \n",
       "9998                 0                 0                0                0   \n",
       "9999                 0                 0                0                0   \n",
       "\n",
       "      (77.573, 79.456]  (79.456, 81.339]  (81.339, 83.222]  (83.222, 85.105]  \\\n",
       "0                    0                 0                 0                 0   \n",
       "1                    0                 0                 0                 0   \n",
       "2                    0                 0                 0                 0   \n",
       "3                    0                 0                 0                 0   \n",
       "4                    0                 0                 0                 0   \n",
       "...                ...               ...               ...               ...   \n",
       "9995                 0                 0                 0                 0   \n",
       "9996                 0                 0                 0                 0   \n",
       "9997                 0                 0                 0                 0   \n",
       "9998                 0                 0                 0                 0   \n",
       "9999                 0                 0                 0                 0   \n",
       "\n",
       "      (85.105, 86.988]  (86.988, 88.871]  ...  (164.192, 166.075]  \\\n",
       "0                    0                 0  ...                   0   \n",
       "1                    0                 0  ...                   0   \n",
       "2                    0                 0  ...                   0   \n",
       "3                    0                 0  ...                   0   \n",
       "4                    0                 0  ...                   0   \n",
       "...                ...               ...  ...                 ...   \n",
       "9995                 0                 0  ...                   0   \n",
       "9996                 0                 0  ...                   0   \n",
       "9997                 0                 0  ...                   0   \n",
       "9998                 0                 0  ...                   0   \n",
       "9999                 0                 0  ...                   0   \n",
       "\n",
       "      (166.075, 167.958]  (167.958, 169.841]  (169.841, 171.724]  \\\n",
       "0                      0                   0                   0   \n",
       "1                      0                   0                   0   \n",
       "2                      0                   0                   0   \n",
       "3                      0                   0                   0   \n",
       "4                      0                   0                   0   \n",
       "...                  ...                 ...                 ...   \n",
       "9995                   0                   0                   0   \n",
       "9996                   0                   0                   0   \n",
       "9997                   0                   0                   0   \n",
       "9998                   0                   0                   0   \n",
       "9999                   0                   0                   0   \n",
       "\n",
       "      (171.724, 173.607]  (173.607, 175.49]  (175.49, 177.373]  \\\n",
       "0                      0                  0                  0   \n",
       "1                      0                  0                  0   \n",
       "2                      0                  0                  0   \n",
       "3                      0                  0                  0   \n",
       "4                      0                  0                  0   \n",
       "...                  ...                ...                ...   \n",
       "9995                   0                  0                  0   \n",
       "9996                   0                  0                  0   \n",
       "9997                   0                  0                  0   \n",
       "9998                   0                  0                  0   \n",
       "9999                   0                  0                  0   \n",
       "\n",
       "      (177.373, 179.256]  (179.256, 181.139]  (181.139, 183.022]  \n",
       "0                      0                   0                   0  \n",
       "1                      0                   0                   0  \n",
       "2                      0                   0                   0  \n",
       "3                      0                   0                   0  \n",
       "4                      0                   0                   0  \n",
       "...                  ...                 ...                 ...  \n",
       "9995                   0                   0                   0  \n",
       "9996                   0                   0                   0  \n",
       "9997                   0                   0                   0  \n",
       "9998                   0                   0                   0  \n",
       "9999                   0                   0                   0  \n",
       "\n",
       "[10000 rows x 60 columns]"
      ]
     },
     "execution_count": 153,
     "metadata": {},
     "output_type": "execute_result"
    }
   ],
   "source": [
    "# Onehot encode histogram such that f @ w give histogram bar hieghts\n",
    "from emm.common import onehot_hist\n",
    "F,_ = onehot_hist(corpus['feature'],bins=bins)\n",
    "F"
   ]
  },
  {
   "cell_type": "code",
   "execution_count": 5,
   "id": "3e956b1c",
   "metadata": {},
   "outputs": [
    {
     "data": {
      "image/png": "[encoded data removed]",
      "text/plain": [
       "<Figure size 432x288 with 1 Axes>"
      ]
     },
     "metadata": {
      "needs_background": "light"
     },
     "output_type": "display_data"
    }
   ],
   "source": [
    "# Shows that f @ w give the probability of discrete proability distribution\n",
    "p = F @ (np.ones(m) / m)\n",
    "width=bins[1]-bins[0]\n",
    "plt.bar(x=bins[:-1], height=p / width, width=width, align='edge')\n",
    "plt.xlim([35,225])\n",
    "plt.show()"
   ]
  },
  {
   "cell_type": "code",
   "execution_count": 6,
   "id": "89845ddb",
   "metadata": {},
   "outputs": [],
   "source": [
    "# Shift and scale corpus according to desired marginals\n",
    "target_0 = (corpus['feature']  - mu) * (sig0 / sig) + mu0\n",
    "target_1 = (corpus['feature']  - mu) * (sig1 / sig) + mu1\n",
    "# Create onehot histograms for desired marginals\n",
    "fdes_0, _ = onehot_hist(target_0, bins=bins)\n",
    "fdes_1, _ = onehot_hist(target_1, bins=bins)\n",
    "\n",
    "# Desired marginals become histogram densities\n",
    "fdes_0 = np.array(fdes_0).T @ np.ones(m) / m\n",
    "fdes_1 = np.array(fdes_1).T @ np.ones(m) / m"
   ]
  },
  {
   "cell_type": "markdown",
   "id": "95568c52",
   "metadata": {},
   "source": [
    "$$\\begin{align}\n",
    "&\\min \\; D_{KL}(\\mathbf f \\| \\mathbf f^\\text{des}) + \\lambda \\sum_i w_i \\log w_i \\\\\n",
    "&\\;\\text{s.t} \\quad \\sum_i w_i = 1, \\quad w_i \\geq 0, \\quad \\mathbf f = \\mathbf F \\, \\mathbf w\n",
    "\\end{align}$$ "
   ]
  },
  {
   "cell_type": "code",
   "execution_count": 7,
   "id": "843267ee",
   "metadata": {},
   "outputs": [
    {
     "name": "stderr",
     "output_type": "stream",
     "text": [
      "c:\\users\\branko\\documents\\git projects\\emm\\env\\lib\\site-packages\\cvxpy-1.1.13-py3.9-win-amd64.egg\\cvxpy\\atoms\\elementwise\\kl_div.py:37: RuntimeWarning: divide by zero encountered in true_divide\n",
      "  return xlogy(x, x/y) - x + y\n",
      "c:\\users\\branko\\documents\\git projects\\emm\\env\\lib\\site-packages\\cvxpy-1.1.13-py3.9-win-amd64.egg\\cvxpy\\atoms\\elementwise\\kl_div.py:37: RuntimeWarning: invalid value encountered in true_divide\n",
      "  return xlogy(x, x/y) - x + y\n"
     ]
    }
   ],
   "source": [
    "# Solve optimisation problem for first outcome\n",
    "lam = 0.08\n",
    "w = cp.Variable(m)\n",
    "obj = cp.sum(cp.kl_div(F @ w, fdes_0)) - lam * cp.sum(cp.entr(w))\n",
    "constrs = [cp.sum(w) == 1, w >= 0]\n",
    "cp.Problem(cp.Minimize(obj), constrs).solve()\n",
    "w_out_0 = w.value"
   ]
  },
  {
   "cell_type": "code",
   "execution_count": 8,
   "id": "3e4c3840",
   "metadata": {
    "scrolled": true
   },
   "outputs": [],
   "source": [
    "# Solve optimisation problem for second outcome\n",
    "w = cp.Variable(m)\n",
    "obj = cp.sum(cp.kl_div(F @ w, fdes_1)) - lam * cp.sum(cp.entr(w))\n",
    "constrs = [cp.sum(w) == 1, w >= 0]\n",
    "cp.Problem(cp.Minimize(obj), constrs).solve()\n",
    "w_out_1 = w.value"
   ]
  },
  {
   "cell_type": "code",
   "execution_count": 9,
   "id": "1062dc79",
   "metadata": {
    "scrolled": false
   },
   "outputs": [
    {
     "data": {
      "image/png": "[encoded data removed]",
      "text/plain": [
       "<Figure size 432x288 with 1 Axes>"
      ]
     },
     "metadata": {
      "needs_background": "light"
     },
     "output_type": "display_data"
    }
   ],
   "source": [
    "# Plot distribution of weights\n",
    "bin_w = np.histogram_bin_edges(w_out_0, bins='sqrt')\n",
    "plt.hist(w_out_0, bins=bin_w)\n",
    "plt.title(\"Weight distribution\")\n",
    "plt.show()"
   ]
  },
  {
   "cell_type": "markdown",
   "id": "975f3f79",
   "metadata": {},
   "source": [
    "Plot of the reweighted corpus for each outcome"
   ]
  },
  {
   "cell_type": "code",
   "execution_count": 10,
   "id": "59142b41",
   "metadata": {},
   "outputs": [
    {
     "data": {
      "image/png": "[encoded data removed]",
      "text/plain": [
       "<Figure size 432x288 with 1 Axes>"
      ]
     },
     "metadata": {
      "needs_background": "light"
     },
     "output_type": "display_data"
    },
    {
     "name": "stdout",
     "output_type": "stream",
     "text": [
      "Mean = 100.9718740919746\n",
      "Std = 10.133472128963728\n"
     ]
    }
   ],
   "source": [
    "from scipy.stats import norm\n",
    "plt.hist(corpus['feature'], bins=bins, weights=w_out_0, alpha=0.5, density=True, label='reweighted')\n",
    "x = np.linspace(40,225)\n",
    "plt.plot(x, norm(loc = mu0, scale = sig0).pdf(x), label=True)\n",
    "plt.legend()\n",
    "plt.title(\"Reweighted for Outcome 0\")\n",
    "plt.show()\n",
    "print(\"Mean = \" + str(corpus['feature'] @ w_out_0))\n",
    "print(\"Std = \" + str(((corpus['feature'] - corpus['feature'] @ w_out_0)**2 @ w_out_0)**(1/2)))"
   ]
  },
  {
   "cell_type": "code",
   "execution_count": 11,
   "id": "734c4939",
   "metadata": {},
   "outputs": [
    {
     "data": {
      "image/png": "[encoded data removed]",
      "text/plain": [
       "<Figure size 432x288 with 1 Axes>"
      ]
     },
     "metadata": {
      "needs_background": "light"
     },
     "output_type": "display_data"
    },
    {
     "name": "stdout",
     "output_type": "stream",
     "text": [
      "Mean = 147.14223057246022\n",
      "Std = 14.246194782303947\n"
     ]
    }
   ],
   "source": [
    "from scipy.stats import norm\n",
    "plt.hist(corpus['feature'], bins=bins, weights=w_out_1, alpha=0.5, density=True, label='reweighted')\n",
    "x = np.linspace(40,225)\n",
    "plt.plot(x, norm(loc = mu1, scale = sig1).pdf(x), label=True)\n",
    "plt.legend()\n",
    "plt.title(\"Reweighted for Outcome 1\")\n",
    "plt.show()\n",
    "print(\"Mean = \" + str(corpus['feature'] @ w_out_1))\n",
    "print(\"Std = \" + str(((corpus['feature'] - corpus['feature'] @ w_out_1)**2 @ w_out_1)**(1/2)))"
   ]
  },
  {
   "cell_type": "code",
   "execution_count": 12,
   "id": "a9cab8bd",
   "metadata": {},
   "outputs": [],
   "source": [
    "rw_corp = pd.concat([corpus,corpus], axis=0, ignore_index=True)\n",
    "weights = np.concatenate([w_out_0 / 2, w_out_1 / 2])\n",
    "label = np.concatenate([np.zeros(m), np.ones(m)])\n",
    "rw_corp['weights'] = weights\n",
    "rw_corp['Outcome'] = label"
   ]
  },
  {
   "cell_type": "code",
   "execution_count": 13,
   "id": "0c556c45",
   "metadata": {
    "scrolled": false
   },
   "outputs": [
    {
     "data": {
      "image/png": "[encoded data removed]",
      "text/plain": [
       "<Figure size 432x288 with 1 Axes>"
      ]
     },
     "metadata": {
      "needs_background": "light"
     },
     "output_type": "display_data"
    }
   ],
   "source": [
    "width = bins_target[1] - bins_target[0]\n",
    "plt.hist(rw_corp['feature'], bins=bins_target, weights=weights/width, alpha=0.5, label=\"Reweighted\")\n",
    "plt.hist(target['feature'], bins=bins_target, alpha=0.5, density=True, label=\"Target\")\n",
    "plt.title(\"Reweighted vs Target data\")\n",
    "plt.legend()\n",
    "plt.show()"
   ]
  },
  {
   "cell_type": "code",
   "execution_count": 14,
   "id": "87521479",
   "metadata": {},
   "outputs": [
    {
     "name": "stderr",
     "output_type": "stream",
     "text": [
      "c:\\users\\branko\\documents\\git projects\\emm\\env\\lib\\site-packages\\seaborn\\distributions.py:2557: FutureWarning: `distplot` is a deprecated function and will be removed in a future version. Please adapt your code to use either `displot` (a figure-level function with similar flexibility) or `histplot` (an axes-level function for histograms).\n",
      "  warnings.warn(msg, FutureWarning)\n",
      "c:\\users\\branko\\documents\\git projects\\emm\\env\\lib\\site-packages\\seaborn\\distributions.py:2557: FutureWarning: `distplot` is a deprecated function and will be removed in a future version. Please adapt your code to use either `displot` (a figure-level function with similar flexibility) or `histplot` (an axes-level function for histograms).\n",
      "  warnings.warn(msg, FutureWarning)\n"
     ]
    },
    {
     "data": {
      "image/png": "[encoded data removed]",
      "text/plain": [
       "<Figure size 432x288 with 1 Axes>"
      ]
     },
     "metadata": {
      "needs_background": "light"
     },
     "output_type": "display_data"
    }
   ],
   "source": [
    "sns.distplot(rw_corp['feature'],bins=bins_target, hist_kws={'weights': weights/width}, kde_kws={'weights': weights/width})\n",
    "sns.distplot(target['feature'], bins=bins_target)\n",
    "plt.show()"
   ]
  },
  {
   "cell_type": "code",
   "execution_count": 15,
   "id": "bb1bb7fc",
   "metadata": {},
   "outputs": [
    {
     "name": "stderr",
     "output_type": "stream",
     "text": [
      "<ipython-input-15-cc34b729b38e>:2: VisibleDeprecationWarning: Passing `normed=True` on non-uniform bins has always been broken, and computes neither the probability density function nor the probability mass function. The result is only correct if the bins are uniform, when density=True will produce the same result anyway. The argument will be removed in a future version of numpy.\n",
      "  np.histogram(target['feature'], bins=bins_target, normed=True)[0])\n"
     ]
    },
    {
     "data": {
      "text/plain": [
       "0.0043084726988227955"
      ]
     },
     "execution_count": 15,
     "metadata": {},
     "output_type": "execute_result"
    }
   ],
   "source": [
    "emm.metrics.kl_divergence(np.histogram(rw_corp['feature'], bins=bins_target, weights= weights/width)[0],\n",
    "                         np.histogram(target['feature'], bins=bins_target, normed=True)[0])"
   ]
  },
  {
   "cell_type": "code",
   "execution_count": 20,
   "id": "106d2541",
   "metadata": {},
   "outputs": [],
   "source": [
    "from sklearn.tree import DecisionTreeClassifier\n",
    "param_grid =  {'classifier' : [DecisionTreeClassifier()],\n",
    "     'classifier__max_depth' : [2,4,6,7,9]}"
   ]
  },
  {
   "cell_type": "code",
   "execution_count": 21,
   "id": "828285eb",
   "metadata": {
    "scrolled": true
   },
   "outputs": [
    {
     "name": "stdout",
     "output_type": "stream",
     "text": [
      "Fitting 5 folds for each of 5 candidates, totalling 25 fits\n",
      "Target data: the best parameters are given by \n",
      " DecisionTreeClassifier(max_depth=2)\n",
      " the best mean cross-validation accuracy 97.7625 +/- 0.20691% on training dataset \n",
      "\n"
     ]
    },
    {
     "data": {
      "text/plain": [
       "{'accuracy_score': {'RR': 0.9755,\n",
       "  'RS': 0.9717099230466647,\n",
       "  'SS': 0.9718069126650208,\n",
       "  'SR': 0.976}}"
      ]
     },
     "execution_count": 21,
     "metadata": {},
     "output_type": "execute_result"
    }
   ],
   "source": [
    "\n",
    "emm.metrics.classifier_metric(target, rw_corp, param_grid, verbose=True)"
   ]
  },
  {
   "cell_type": "code",
   "execution_count": 151,
   "id": "ba1cb8db",
   "metadata": {},
   "outputs": [
    {
     "name": "stdout",
     "output_type": "stream",
     "text": [
      "(70.04078694720951, 71.9238036218245]\n",
      "(71.9238036218245, 73.8068202964395]\n",
      "(73.8068202964395, 75.6898369710545]\n",
      "(75.6898369710545, 77.5728536456695]\n",
      "(77.5728536456695, 79.45587032028449]\n",
      "(79.45587032028449, 81.33888699489948]\n",
      "(81.33888699489948, 83.22190366951449]\n",
      "(83.22190366951449, 85.10492034412948]\n",
      "(85.10492034412948, 86.98793701874447]\n",
      "(86.98793701874447, 88.87095369335947]\n",
      "(88.87095369335947, 90.75397036797446]\n",
      "(90.75397036797446, 92.63698704258947]\n",
      "(92.63698704258947, 94.52000371720446]\n",
      "(94.52000371720446, 96.40302039181945]\n",
      "(96.40302039181945, 98.28603706643446]\n",
      "(98.28603706643446, 100.16905374104945]\n",
      "(100.16905374104945, 102.05207041566445]\n",
      "(102.05207041566445, 103.93508709027944]\n",
      "(103.93508709027944, 105.81810376489443]\n",
      "(105.81810376489443, 107.70112043950942]\n",
      "(107.70112043950942, 109.58413711412443]\n",
      "(109.58413711412443, 111.46715378873942]\n",
      "(111.46715378873942, 113.35017046335443]\n",
      "(113.35017046335443, 115.23318713796942]\n",
      "(115.23318713796942, 117.11620381258442]\n",
      "(117.11620381258442, 118.99922048719941]\n",
      "(118.99922048719941, 120.8822371618144]\n",
      "(120.8822371618144, 122.7652538364294]\n",
      "(122.7652538364294, 124.6482705110444]\n",
      "(124.6482705110444, 126.5312871856594]\n",
      "(126.5312871856594, 128.4143038602744]\n",
      "(128.4143038602744, 130.2973205348894]\n",
      "(130.2973205348894, 132.1803372095044]\n",
      "(132.1803372095044, 134.06335388411938]\n",
      "(134.06335388411938, 135.94637055873437]\n",
      "(135.94637055873437, 137.82938723334937]\n",
      "(137.82938723334937, 139.71240390796436]\n",
      "(139.71240390796436, 141.59542058257938]\n",
      "(141.59542058257938, 143.47843725719434]\n",
      "(143.47843725719434, 145.36145393180936]\n",
      "(145.36145393180936, 147.24447060642436]\n",
      "(147.24447060642436, 149.12748728103935]\n",
      "(149.12748728103935, 151.01050395565434]\n",
      "(151.01050395565434, 152.89352063026934]\n",
      "(152.89352063026934, 154.77653730488436]\n",
      "(154.77653730488436, 156.65955397949932]\n",
      "(156.65955397949932, 158.54257065411434]\n",
      "(158.54257065411434, 160.4255873287293]\n",
      "(160.4255873287293, 162.30860400334433]\n",
      "(162.30860400334433, 164.19162067795932]\n",
      "(164.19162067795932, 166.0746373525743]\n",
      "(166.0746373525743, 167.9576540271893]\n",
      "(167.9576540271893, 169.8406707018043]\n",
      "(169.8406707018043, 171.72368737641932]\n",
      "(171.72368737641932, 173.60670405103428]\n",
      "(173.60670405103428, 175.4897207256493]\n",
      "(175.4897207256493, 177.37273740026427]\n",
      "(177.37273740026427, 179.2557540748793]\n",
      "(179.2557540748793, 181.13877074949428]\n",
      "(181.13877074949428, 183.02178742410928]\n"
     ]
    }
   ],
   "source": [
    "import copy\n",
    "bins = onehot_hist(corpus['feature'])[1]\n",
    "ivs = pd.IntervalIndex.from_arrays(bins[:-1], bins[1:])\n",
    "funs = []\n",
    "i=0\n",
    "\n",
    "\n",
    "for iv in ivs:\n",
    "    print(iv)\n",
    "    funs.append(lambda x : (1 if x in copy.deepcopy(iv) else 0))\n",
    "    "
   ]
  },
  {
   "cell_type": "code",
   "execution_count": 147,
   "id": "001b8048",
   "metadata": {},
   "outputs": [
    {
     "data": {
      "text/plain": [
       "1"
      ]
     },
     "execution_count": 147,
     "metadata": {},
     "output_type": "execute_result"
    }
   ],
   "source": []
  },
  {
   "cell_type": "code",
   "execution_count": 150,
   "id": "0afe26f2",
   "metadata": {},
   "outputs": [
    {
     "data": {
      "text/plain": [
       "pandas._libs.interval.Interval"
      ]
     },
     "execution_count": 150,
     "metadata": {},
     "output_type": "execute_result"
    }
   ],
   "source": [
    "type(ivs[0])"
   ]
  },
  {
   "cell_type": "code",
   "execution_count": 152,
   "id": "87c43a20",
   "metadata": {},
   "outputs": [
    {
     "data": {
      "text/plain": [
       "array([ 70.04078695,  71.92380362,  73.8068203 ,  75.68983697,\n",
       "        77.57285365,  79.45587032,  81.33888699,  83.22190367,\n",
       "        85.10492034,  86.98793702,  88.87095369,  90.75397037,\n",
       "        92.63698704,  94.52000372,  96.40302039,  98.28603707,\n",
       "       100.16905374, 102.05207042, 103.93508709, 105.81810376,\n",
       "       107.70112044, 109.58413711, 111.46715379, 113.35017046,\n",
       "       115.23318714, 117.11620381, 118.99922049, 120.88223716,\n",
       "       122.76525384, 124.64827051, 126.53128719, 128.41430386,\n",
       "       130.29732053, 132.18033721, 134.06335388, 135.94637056,\n",
       "       137.82938723, 139.71240391, 141.59542058, 143.47843726,\n",
       "       145.36145393, 147.24447061, 149.12748728, 151.01050396,\n",
       "       152.89352063, 154.7765373 , 156.65955398, 158.54257065,\n",
       "       160.42558733, 162.308604  , 164.19162068, 166.07463735,\n",
       "       167.95765403, 169.8406707 , 171.72368738, 173.60670405,\n",
       "       175.48972073, 177.3727374 , 179.25575407, 181.13877075,\n",
       "       183.02178742])"
      ]
     },
     "execution_count": 152,
     "metadata": {},
     "output_type": "execute_result"
    }
   ],
   "source": [
    "bins"
   ]
  },
  {
   "cell_type": "code",
   "execution_count": 158,
   "id": "d2013961",
   "metadata": {},
   "outputs": [
    {
     "data": {
      "text/plain": [
       "125.00701402438322"
      ]
     },
     "execution_count": 158,
     "metadata": {},
     "output_type": "execute_result"
    }
   ],
   "source": [
    "{'feature' : {'feature 1', 'fun' : 'mean', 'target': 25 , 'loss'}\n"
   ]
  },
  {
   "cell_type": "code",
   "execution_count": 159,
   "id": "ee8a65f8",
   "metadata": {},
   "outputs": [
    {
     "data": {
      "text/plain": [
       "0    131.463513\n",
       "1    121.854715\n",
       "2    135.369451\n",
       "3    119.684462\n",
       "4    125.919879\n",
       "Name: feature, dtype: float64"
      ]
     },
     "execution_count": 159,
     "metadata": {},
     "output_type": "execute_result"
    }
   ],
   "source": [
    "corpus['feature'].head()"
   ]
  },
  {
   "cell_type": "raw",
   "id": "8764d5db",
   "metadata": {},
   "source": []
  }
 ],
 "metadata": {
  "kernelspec": {
   "display_name": "Python 3",
   "language": "python",
   "name": "python3"
  },
  "language_info": {
   "codemirror_mode": {
    "name": "ipython",
    "version": 3
   },
   "file_extension": ".py",
   "mimetype": "text/x-python",
   "name": "python",
   "nbconvert_exporter": "python",
   "pygments_lexer": "ipython3",
   "version": "3.9.0"
  }
 },
 "nbformat": 4,
 "nbformat_minor": 5
}
