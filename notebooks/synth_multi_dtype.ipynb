{
 "cells": [
  {
   "cell_type": "code",
   "execution_count": 9,
   "id": "2de8857e",
   "metadata": {},
   "outputs": [
    {
     "name": "stdout",
     "output_type": "stream",
     "text": [
      "CVX took 0.38703 seconds\n",
      "CVX took 0.38333 seconds\n",
      "0-18        0.050000\n",
      "18-30       0.100000\n",
      "30-40       0.250000\n",
      "40-60       0.350000\n",
      "60+         0.250000\n",
      "sex         0.600000\n",
      "height    169.535824\n",
      "dtype: float64\n",
      "10.339638059596096\n",
      "0-18        0.10000\n",
      "18-30       0.10000\n",
      "30-40       0.40000\n",
      "40-60       0.25000\n",
      "60+         0.15000\n",
      "sex         0.40000\n",
      "height    150.44052\n",
      "dtype: float64\n",
      "10.329044477147283\n"
     ]
    }
   ],
   "source": [
    "\n",
    "import pandas as pd\n",
    "import numpy as np\n",
    "from numpy import linalg\n",
    "import emm\n",
    "from emm.losses import *\n",
    "from emm.reweighting import marginal\n",
    "\n",
    "# Corpus\n",
    "m = 5000\n",
    "age = np.random.choice( ['0-18','18-30','30-40','40-60','60+'],\n",
    "                        p=[  0.2,   0.25,   0.25,   0.2,   0.1], size=m)\n",
    "sex = np.random.choice([0.0, 1.0], p=[0.5, 0.5], size=m)\n",
    "height = np.random.normal(160, 15, size=m)\n",
    "\n",
    "data = pd.DataFrame({\"age\": age, \"sex\": sex, \"height\": height})\n",
    "dummies = pd.get_dummies(data['age'])\n",
    "corpus = dummies\n",
    "corpus['sex'] = data['sex']\n",
    "corpus['height'] = data['height']\n",
    "\n",
    "\n",
    "# Target\n",
    "n = 1000\n",
    "\n",
    "\n",
    "\n",
    "# Label 0\n",
    "age_0 = np.random.choice( ['0-18','18-30','30-40','40-60','60+'],\n",
    "                        p=[  0.05,   0.1,   0.25,   0.35,  0.25], size=n)\n",
    "sex_0 = np.random.choice([0.0, 1.0], p=[0.6, 0.4], size=n)\n",
    "height_0 = np.random.normal(170, 10, size=n)\n",
    "outcome_0 = np.zeros(n)\n",
    "\n",
    "# Label 1\n",
    "age_1 = np.random.choice( ['0-18','18-30','30-40','40-60','60+'],\n",
    "                        p=[  0.1,   0.1,   0.4,    0.25, 0.15], size=n)\n",
    "sex_1 = np.random.choice([0.0, 1.0], p=[0.4, 0.6], size=n)\n",
    "height_1 = np.random.normal(150, 10, size=n)\n",
    "outcome_0 = np.ones(m)\n",
    "\n",
    "age_bins = ['0-18','18-30','30-40','40-60','60+']\n",
    "age_p_0 = [  0.05,   0.1,   0.25,   0.35,  0.25]\n",
    "age_p_1 = [  0.1,   0.1,   0.4,    0.25, 0.15]\n",
    "marginals = {0: [], 1:[]}\n",
    "for count, ages in enumerate(age_bins):\n",
    "    marginals[0] += [marginal(ages,'mean',EqualityLoss(age_p_0[count]))]\n",
    "    marginals[1] += [marginal(ages,'mean',EqualityLoss(age_p_1[count]))]\n",
    "\n",
    "marginals[0] += [emm.marginal('sex', 'mean', EqualityLoss(0.6))]\n",
    "marginals[1] += [emm.marginal('sex', 'mean', EqualityLoss(0.4))]\n",
    "\n",
    "marginals[0] += [marginal('height', 'mean', LeastSquaresLoss(170), standardize=True)]\n",
    "marginals[0] += [marginal('height', 'var', LeastSquaresLoss(10**2), standardize=True)]\n",
    "\n",
    "marginals[1] += [marginal('height', 'mean', LeastSquaresLoss(150), standardize=True)]\n",
    "marginals[1] += [marginal('height', 'var', LeastSquaresLoss(10**2), standardize=True)]\n",
    "\n",
    "\n",
    "regularizer = emm.EntropyRegularizer()\n",
    "rwcs = emm.reweighting.generate_synth(corpus, marginals,regularizer=regularizer, lam=0.1, verbose=True)\n",
    "\n",
    "print(emm.utils.weighted_mean(rwcs[rwcs['Outcome']==0].drop(columns=['Outcome', 'weights']), rwcs[rwcs['Outcome']==0]['weights']*2))\n",
    "print(emm.utils.weighted_var(rwcs[rwcs['Outcome']==0]['height'],  rwcs[rwcs['Outcome']==0]['weights']*2)**(1/2))\n",
    "print(emm.utils.weighted_mean(rwcs[rwcs['Outcome']==1].drop(columns=['Outcome', 'weights']), rwcs[rwcs['Outcome']==1]['weights']*2))\n",
    "print(emm.utils.weighted_var(rwcs[rwcs['Outcome']==1]['height'],  rwcs[rwcs['Outcome']==1]['weights']*2)**(1/2))"
   ]
  },
  {
   "cell_type": "code",
   "execution_count": 11,
   "id": "6aefd1d8",
   "metadata": {
    "scrolled": true
   },
   "outputs": [
    {
     "data": {
      "image/png": "[encoded data removed]",
      "text/plain": [
       "<Figure size 432x288 with 1 Axes>"
      ]
     },
     "metadata": {
      "needs_background": "light"
     },
     "output_type": "display_data"
    }
   ],
   "source": [
    "import seaborn as sns\n",
    "import matplotlib.pyplot as plt\n",
    "sns.histplot(rwcs['weights'])\n",
    "plt.show()"
   ]
  },
  {
   "cell_type": "code",
   "execution_count": 12,
   "id": "1b92ddad",
   "metadata": {},
   "outputs": [
    {
     "name": "stderr",
     "output_type": "stream",
     "text": [
      "c:\\users\\branko\\documents\\git projects\\emm\\env\\lib\\site-packages\\seaborn\\distributions.py:2557: FutureWarning: `distplot` is a deprecated function and will be removed in a future version. Please adapt your code to use either `displot` (a figure-level function with similar flexibility) or `histplot` (an axes-level function for histograms).\n",
      "  warnings.warn(msg, FutureWarning)\n"
     ]
    },
    {
     "data": {
      "text/plain": [
       "<AxesSubplot:xlabel='height', ylabel='Density'>"
      ]
     },
     "execution_count": 12,
     "metadata": {},
     "output_type": "execute_result"
    },
    {
     "data": {
      "image/png": "[encoded data removed]",
      "text/plain": [
       "<Figure size 432x288 with 1 Axes>"
      ]
     },
     "metadata": {
      "needs_background": "light"
     },
     "output_type": "display_data"
    }
   ],
   "source": [
    "sns.distplot(rwcs[rwcs['Outcome']==0]['height'])"
   ]
  },
  {
   "cell_type": "code",
   "execution_count": 13,
   "id": "0fcde346",
   "metadata": {},
   "outputs": [
    {
     "data": {
      "image/png": "[encoded data removed]",
      "text/plain": [
       "<Figure size 432x288 with 1 Axes>"
      ]
     },
     "metadata": {
      "needs_background": "light"
     },
     "output_type": "display_data"
    }
   ],
   "source": [
    "import seaborn as sns\n",
    "probs = emm.utils.weighted_mean(rwcs[rwcs['Outcome']==0].iloc[:,:5], rwcs[rwcs['Outcome']==0]['weights'])\n",
    "plt.bar(probs.index, probs.values, alpha =0.5)\n",
    "plt.bar(probs.index, age_p_0, alpha=0.5)\n",
    "plt.show()"
   ]
  },
  {
   "cell_type": "code",
   "execution_count": 5,
   "id": "e8655623",
   "metadata": {},
   "outputs": [
    {
     "data": {
      "text/plain": [
       "array([0.03949036, 0.02971187, 0.00158207, 0.02689813, 0.04072204])"
      ]
     },
     "execution_count": 5,
     "metadata": {},
     "output_type": "execute_result"
    }
   ],
   "source": [
    "abs(probs.values - np.array(age_p_0))"
   ]
  },
  {
   "cell_type": "code",
   "execution_count": 6,
   "id": "df363d3f",
   "metadata": {},
   "outputs": [
    {
     "data": {
      "text/plain": [
       "1.0"
      ]
     },
     "execution_count": 6,
     "metadata": {},
     "output_type": "execute_result"
    }
   ],
   "source": [
    "probs.values.sum()"
   ]
  },
  {
   "cell_type": "code",
   "execution_count": null,
   "id": "50975104",
   "metadata": {},
   "outputs": [],
   "source": []
  }
 ],
 "metadata": {
  "kernelspec": {
   "display_name": "Python 3",
   "language": "python",
   "name": "python3"
  },
  "language_info": {
   "codemirror_mode": {
    "name": "ipython",
    "version": 3
   },
   "file_extension": ".py",
   "mimetype": "text/x-python",
   "name": "python",
   "nbconvert_exporter": "python",
   "pygments_lexer": "ipython3",
   "version": "3.9.0"
  }
 },
 "nbformat": 4,
 "nbformat_minor": 5
}
