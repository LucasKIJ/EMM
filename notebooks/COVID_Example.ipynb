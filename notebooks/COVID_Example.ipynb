{
 "cells": [
  {
   "cell_type": "code",
   "execution_count": 1,
   "id": "b0ebf7ad",
   "metadata": {
    "scrolled": false
   },
   "outputs": [
    {
     "name": "stdout",
     "output_type": "stream",
     "text": [
      "Target statistics: summary statistics conditional on label\n"
     ]
    },
    {
     "data": {
      "text/html": [
       "<div>\n",
       "<style scoped>\n",
       "    .dataframe tbody tr th:only-of-type {\n",
       "        vertical-align: middle;\n",
       "    }\n",
       "\n",
       "    .dataframe tbody tr th {\n",
       "        vertical-align: top;\n",
       "    }\n",
       "\n",
       "    .dataframe thead th {\n",
       "        text-align: right;\n",
       "    }\n",
       "</style>\n",
       "<table border=\"1\" class=\"dataframe\">\n",
       "  <thead>\n",
       "    <tr style=\"text-align: right;\">\n",
       "      <th>Outcome</th>\n",
       "      <th>0.0</th>\n",
       "      <th>1.0</th>\n",
       "    </tr>\n",
       "  </thead>\n",
       "  <tbody>\n",
       "    <tr>\n",
       "      <th>age_60_and_above</th>\n",
       "      <td>0.168484</td>\n",
       "      <td>0.192170</td>\n",
       "    </tr>\n",
       "    <tr>\n",
       "      <th>gender</th>\n",
       "      <td>0.494535</td>\n",
       "      <td>0.554499</td>\n",
       "    </tr>\n",
       "    <tr>\n",
       "      <th>cough</th>\n",
       "      <td>0.134561</td>\n",
       "      <td>0.448013</td>\n",
       "    </tr>\n",
       "    <tr>\n",
       "      <th>fever</th>\n",
       "      <td>0.060829</td>\n",
       "      <td>0.378266</td>\n",
       "    </tr>\n",
       "    <tr>\n",
       "      <th>sore_throat</th>\n",
       "      <td>0.001406</td>\n",
       "      <td>0.103612</td>\n",
       "    </tr>\n",
       "    <tr>\n",
       "      <th>shortness_of_breath</th>\n",
       "      <td>0.001479</td>\n",
       "      <td>0.079033</td>\n",
       "    </tr>\n",
       "    <tr>\n",
       "      <th>head_ache</th>\n",
       "      <td>0.000569</td>\n",
       "      <td>0.151752</td>\n",
       "    </tr>\n",
       "  </tbody>\n",
       "</table>\n",
       "</div>"
      ],
      "text/plain": [
       "Outcome                   0.0       1.0\n",
       "age_60_and_above     0.168484  0.192170\n",
       "gender               0.494535  0.554499\n",
       "cough                0.134561  0.448013\n",
       "fever                0.060829  0.378266\n",
       "sore_throat          0.001406  0.103612\n",
       "shortness_of_breath  0.001479  0.079033\n",
       "head_ache            0.000569  0.151752"
      ]
     },
     "metadata": {},
     "output_type": "display_data"
    }
   ],
   "source": [
    "from experiments import covid_example\n",
    "from emm.reweighting import marginal\n",
    "from emm.losses import LeastSquaresLoss\n",
    "from emm.losses import EqualityLoss\n",
    "from emm.regularizers import EntropyRegularizer\n",
    "import emm\n",
    "import pandas as pd\n",
    "import numpy as np\n",
    "import matplotlib.pyplot as plt\n",
    "import seaborn as sns\n",
    "from lightgbm import LGBMClassifier\n",
    "import warnings\n",
    "warnings.filterwarnings('ignore')\n",
    "\n",
    "# Plot styles\n",
    "plt.style.use('seaborn-notebook')\n",
    "\n",
    "import matplotlib.pyplot as plt\n",
    "\n",
    "SMALL_SIZE = 16\n",
    "MEDIUM_SIZE = 16\n",
    "BIGGER_SIZE = 22\n",
    "\n",
    "plt.rc('font', size=SMALL_SIZE)          # controls default text sizes\n",
    "plt.rc('axes', titlesize=SMALL_SIZE)     # fontsize of the axes title\n",
    "plt.rc('axes', labelsize=MEDIUM_SIZE)    # fontsize of the x and y labels\n",
    "plt.rc('xtick', labelsize=SMALL_SIZE)    # fontsize of the tick labels\n",
    "plt.rc('ytick', labelsize=SMALL_SIZE)    # fontsize of the tick labels\n",
    "plt.rc('legend', fontsize=SMALL_SIZE)    # legend fontsize\n",
    "plt.rc('figure', titlesize=BIGGER_SIZE)  # fontsize of the figure title\n",
    "\n",
    "# Import target and corpus data\n",
    "target = covid_example.get_target()\n",
    "corpus = covid_example.get_corpus()\n",
    "marg_tab = target.groupby('Outcome').mean().T\n",
    "\n",
    "print(\"Target statistics: summary statistics conditional on label\")\n",
    "display(marg_tab)"
   ]
  },
  {
   "cell_type": "code",
   "execution_count": 2,
   "id": "593b8fd5",
   "metadata": {},
   "outputs": [
    {
     "name": "stdout",
     "output_type": "stream",
     "text": [
      "CVX took 77.12625 seconds\n",
      "CVX took 80.25896 seconds\n"
     ]
    }
   ],
   "source": [
    "# Generate marginal objects using least squares loss function\n",
    "\n",
    "margs = {}\n",
    "margs[0] = []\n",
    "margs[1] = []\n",
    "for feature in marg_tab.index:\n",
    "    margs[0].append(marginal(feature,'mean', \n",
    "                               LeastSquaresLoss(marg_tab.loc[feature,0])))\n",
    "    margs[1].append(marginal(feature,'mean', \n",
    "                               LeastSquaresLoss(marg_tab.loc[feature,1])))\n",
    "    \n",
    "\n",
    "rwc = emm.reweighting.generate_synth(corpus,margs,\n",
    "                                           regularizer=EntropyRegularizer(), \n",
    "                                           lam=0.01,\n",
    "                                           verbose=True)"
   ]
  },
  {
   "cell_type": "code",
   "execution_count": 4,
   "id": "eb7fc908",
   "metadata": {},
   "outputs": [
    {
     "name": "stdout",
     "output_type": "stream",
     "text": [
      "Reweighted corpus statistics\n"
     ]
    },
    {
     "data": {
      "text/html": [
       "<div>\n",
       "<style scoped>\n",
       "    .dataframe tbody tr th:only-of-type {\n",
       "        vertical-align: middle;\n",
       "    }\n",
       "\n",
       "    .dataframe tbody tr th {\n",
       "        vertical-align: top;\n",
       "    }\n",
       "\n",
       "    .dataframe thead th {\n",
       "        text-align: right;\n",
       "    }\n",
       "</style>\n",
       "<table border=\"1\" class=\"dataframe\">\n",
       "  <thead>\n",
       "    <tr style=\"text-align: right;\">\n",
       "      <th></th>\n",
       "      <th>0</th>\n",
       "      <th>1</th>\n",
       "    </tr>\n",
       "  </thead>\n",
       "  <tbody>\n",
       "    <tr>\n",
       "      <th>age_60_and_above</th>\n",
       "      <td>0.172380</td>\n",
       "      <td>0.195282</td>\n",
       "    </tr>\n",
       "    <tr>\n",
       "      <th>gender</th>\n",
       "      <td>0.493611</td>\n",
       "      <td>0.552538</td>\n",
       "    </tr>\n",
       "    <tr>\n",
       "      <th>cough</th>\n",
       "      <td>0.125397</td>\n",
       "      <td>0.433280</td>\n",
       "    </tr>\n",
       "    <tr>\n",
       "      <th>fever</th>\n",
       "      <td>0.054242</td>\n",
       "      <td>0.363130</td>\n",
       "    </tr>\n",
       "    <tr>\n",
       "      <th>sore_throat</th>\n",
       "      <td>0.006859</td>\n",
       "      <td>0.100396</td>\n",
       "    </tr>\n",
       "    <tr>\n",
       "      <th>shortness_of_breath</th>\n",
       "      <td>0.008975</td>\n",
       "      <td>0.074832</td>\n",
       "    </tr>\n",
       "    <tr>\n",
       "      <th>head_ache</th>\n",
       "      <td>0.001788</td>\n",
       "      <td>0.137175</td>\n",
       "    </tr>\n",
       "  </tbody>\n",
       "</table>\n",
       "</div>"
      ],
      "text/plain": [
       "                            0         1\n",
       "age_60_and_above     0.172380  0.195282\n",
       "gender               0.493611  0.552538\n",
       "cough                0.125397  0.433280\n",
       "fever                0.054242  0.363130\n",
       "sore_throat          0.006859  0.100396\n",
       "shortness_of_breath  0.008975  0.074832\n",
       "head_ache            0.001788  0.137175"
      ]
     },
     "metadata": {},
     "output_type": "display_data"
    },
    {
     "name": "stdout",
     "output_type": "stream",
     "text": [
      "Absolute difference between target and corpus statistics\n"
     ]
    },
    {
     "data": {
      "text/html": [
       "<div>\n",
       "<style scoped>\n",
       "    .dataframe tbody tr th:only-of-type {\n",
       "        vertical-align: middle;\n",
       "    }\n",
       "\n",
       "    .dataframe tbody tr th {\n",
       "        vertical-align: top;\n",
       "    }\n",
       "\n",
       "    .dataframe thead th {\n",
       "        text-align: right;\n",
       "    }\n",
       "</style>\n",
       "<table border=\"1\" class=\"dataframe\">\n",
       "  <thead>\n",
       "    <tr style=\"text-align: right;\">\n",
       "      <th>Outcome</th>\n",
       "      <th>0.0</th>\n",
       "      <th>1.0</th>\n",
       "    </tr>\n",
       "  </thead>\n",
       "  <tbody>\n",
       "    <tr>\n",
       "      <th>age_60_and_above</th>\n",
       "      <td>2.312404</td>\n",
       "      <td>1.619055</td>\n",
       "    </tr>\n",
       "    <tr>\n",
       "      <th>gender</th>\n",
       "      <td>0.186812</td>\n",
       "      <td>0.353551</td>\n",
       "    </tr>\n",
       "    <tr>\n",
       "      <th>cough</th>\n",
       "      <td>6.810576</td>\n",
       "      <td>3.288425</td>\n",
       "    </tr>\n",
       "    <tr>\n",
       "      <th>fever</th>\n",
       "      <td>10.829062</td>\n",
       "      <td>4.001549</td>\n",
       "    </tr>\n",
       "    <tr>\n",
       "      <th>sore_throat</th>\n",
       "      <td>387.706266</td>\n",
       "      <td>3.103998</td>\n",
       "    </tr>\n",
       "    <tr>\n",
       "      <th>shortness_of_breath</th>\n",
       "      <td>506.611749</td>\n",
       "      <td>5.315072</td>\n",
       "    </tr>\n",
       "    <tr>\n",
       "      <th>head_ache</th>\n",
       "      <td>214.325474</td>\n",
       "      <td>9.605511</td>\n",
       "    </tr>\n",
       "  </tbody>\n",
       "</table>\n",
       "</div>"
      ],
      "text/plain": [
       "Outcome                     0.0       1.0\n",
       "age_60_and_above       2.312404  1.619055\n",
       "gender                 0.186812  0.353551\n",
       "cough                  6.810576  3.288425\n",
       "fever                 10.829062  4.001549\n",
       "sore_throat          387.706266  3.103998\n",
       "shortness_of_breath  506.611749  5.315072\n",
       "head_ache            214.325474  9.605511"
      ]
     },
     "metadata": {},
     "output_type": "display_data"
    }
   ],
   "source": [
    "# Display corpus marginals\n",
    "out_0 = rwc[rwc[\"Outcome\"]==0].drop(columns=[\"Outcome\", \"weights\"]).T @ rwc[rwc[\"Outcome\"]==0][\"weights\"] * 2\n",
    "out_1 = rwc[rwc[\"Outcome\"]==1].drop(columns=[\"Outcome\", \"weights\"]).T @ rwc[rwc[\"Outcome\"]==1][\"weights\"] * 2\n",
    "rw_marg_tab = pd.DataFrame([out_0, out_1]).T\n",
    "print(\"Reweighted corpus statistics\")\n",
    "display(rw_marg_tab)\n",
    "print(\"Absolute difference between target and corpus statistics\")\n",
    "display(abs(marg_tab - rw_marg_tab)/abs(marg_tab) * 100)"
   ]
  },
  {
   "cell_type": "markdown",
   "id": "42b70cac",
   "metadata": {},
   "source": [
    "## Machine learning"
   ]
  },
  {
   "cell_type": "code",
   "execution_count": 80,
   "id": "6697b774",
   "metadata": {},
   "outputs": [
    {
     "name": "stdout",
     "output_type": "stream",
     "text": [
      "Fitting 5 folds for each of 7 candidates, totalling 35 fits\n",
      "Fitting 5 folds for each of 7 candidates, totalling 35 fits\n",
      "Target data: the best parameters are given by \n",
      " LogisticRegression(class_weight='balanced', max_iter=46.41588833612782,\n",
      "                   solver='saga')\n",
      " the best mean cross-validation accuracy 77.99024 +/- 0.45553% on training dataset \n",
      "\n",
      "Weighted data: the best parameters are given by \n",
      " LogisticRegression(class_weight='balanced', max_iter=46.41588833612782,\n",
      "                   solver='saga')\n",
      " the best mean cross-validation accuracy 73.24284 +/- 2.44388% on training dataset \n",
      "\n"
     ]
    }
   ],
   "source": [
    "from sklearn.metrics import roc_auc_score\n",
    "from sklearn.metrics import accuracy_score\n",
    "from sklearn.metrics import confusion_matrix\n",
    "from sklearn.linear_model import LogisticRegression\n",
    "from sklearn.model_selection import train_test_split\n",
    "\n",
    "target_train, target_test = train_test_split(target,test_size = 0.5)\n",
    "\n",
    "# param_grid = {  'classifier' : [LGBMClassifier()],\n",
    "#                 'classifier__num_leaves': [5,10],\n",
    "#                 'classifier__min_data_in_leaf': [1,3],\n",
    "#                 'classifier__feature_fraction': [0.4],\n",
    "#                 'classifier__bagging_fraction': [0.7],\n",
    "#                 'classifier__bagging_freq': [8],\n",
    "#                 'classifier__learning_rate': [0.05],\n",
    "#                 'classifier__num_boost_round' : [400],\n",
    "#                 'classifier__n_estimators' : [10],  \n",
    "#              }\n",
    "\n",
    "param_grid =  {\"classifier\" : [LogisticRegression()],\n",
    "                   \"classifier__C\" : np.logspace(-3,3,5)}\n",
    "\n",
    "param_grid = {\"classifier\" : [LogisticRegression()],\n",
    "    'classifier__max_iter': np.logspace(-3,4,7),                      \n",
    "    'classifier__solver': ['saga'],   \n",
    "    'classifier__class_weight': ['balanced']                                    \n",
    "}\n",
    "\n",
    "\n",
    "target_clf, weighted_clf, scores = emm.metrics.classifier_metric(target_train.dropna(),\n",
    "                                                         rwc,\n",
    "                                                         param_grid,\n",
    "                                                         return_models=True,\n",
    "                                                         verbose=True, \n",
    "                                                         scoring=roc_auc_score,\n",
    "                                                         metrics=[accuracy_score, roc_auc_score, confusion_matrix], test_size=0.8, cv=5)"
   ]
  },
  {
   "cell_type": "code",
   "execution_count": 82,
   "id": "102bbb37",
   "metadata": {},
   "outputs": [],
   "source": [
    "import sklearn as sk\n",
    "test = target_test.dropna()\n",
    "X_test = test.drop(columns=\"Outcome\")\n",
    "X_test['weights'] = np.ones(len(X_test))/len(X_test)\n",
    "cols = X_test.columns.tolist()\n",
    "cols = cols[-1:] + cols[:-1]\n",
    "X_test = X_test[cols]\n",
    "X_test = X_test.values\n",
    "y_test = test[\"Outcome\"].values"
   ]
  },
  {
   "cell_type": "code",
   "execution_count": 83,
   "id": "5f66429f",
   "metadata": {
    "scrolled": false
   },
   "outputs": [
    {
     "name": "stdout",
     "output_type": "stream",
     "text": [
      "[[ 1139  1708]\n",
      " [ 4230 61107]]\n"
     ]
    },
    {
     "data": {
      "image/png": "[encoded data removed]",
      "text/plain": [
       "<Figure size 576x396 with 1 Axes>"
      ]
     },
     "metadata": {
      "needs_background": "light"
     },
     "output_type": "display_data"
    }
   ],
   "source": [
    "from sklearn import metrics\n",
    "import numpy as np\n",
    "import matplotlib.pyplot as plt\n",
    "\n",
    "pred = target_clf.predict_proba(X_test)[:,1]\n",
    "label = y_test\n",
    "\n",
    "fpr, tpr, thresh_t = metrics.roc_curve(label, pred)\n",
    "auc = metrics.roc_auc_score(label, pred)\n",
    "plt.plot(fpr,tpr,label=\"RR, AUC={:.3f}\".format(auc),linewidth=3)\n",
    "\n",
    "pred = weighted_clf.predict_proba(X_test)[:,1]\n",
    "print(metrics.confusion_matrix(np.where(pred>0.501,1,0),label,labels=[1,0]))\n",
    "fpr, tpr, thresh = metrics.roc_curve(label, pred)\n",
    "auc = metrics.roc_auc_score(label, pred)\n",
    "plt.plot(fpr,tpr,label=\"SR, AUC={:.3f}\".format(auc),linewidth=3)\n",
    "plt.plot(np.linspace(0,1),np.linspace(0,1),'r--')\n",
    "plt.xlabel('False positive rate')\n",
    "plt.ylabel('True positive rate')\n",
    "plt.legend(loc=0)\n",
    "plt.savefig('COVID_ROC')\n",
    "plt.show()"
   ]
  },
  {
   "cell_type": "code",
   "execution_count": 102,
   "id": "1dd9a1b9",
   "metadata": {},
   "outputs": [
    {
     "name": "stdout",
     "output_type": "stream",
     "text": [
      "Best Threshold=0.495106, G-Mean=0.756\n",
      "[[ 3852 15110]\n",
      " [ 1517 47705]]\n"
     ]
    }
   ],
   "source": [
    "\n",
    "# calculate the g-mean for each threshold\n",
    "gmeans = np.sqrt(tpr * (1-fpr))\n",
    "ix = np.argmax(gmeans)\n",
    "print('Best Threshold=%f, G-Mean=%.3f' % (thresh[ix], gmeans[ix]))\n",
    "print(metrics.confusion_matrix(np.where(pred>0.4949,1,0),label, labels=[1,0]))\n",
    "38"
   ]
  },
  {
   "cell_type": "code",
   "execution_count": 41,
   "id": "7bf245a7",
   "metadata": {
    "scrolled": true
   },
   "outputs": [
    {
     "data": {
      "text/plain": [
       "[{'accuracy_score': 'LogisticRegression',\n",
       "  'RR': 0.9214754759895815,\n",
       "  'RS': 0.5004573348848885,\n",
       "  'SS': 0.612254992721734,\n",
       "  'SR': 0.44877838512051066},\n",
       " {'roc_auc_score': 'LogisticRegression',\n",
       "  'RR': 0.7867673136829676,\n",
       "  'RS': 0.7502518014607634,\n",
       "  'SS': 0.7414283953163425,\n",
       "  'SR': 0.7799014835063718},\n",
       " {'confusion_matrix': 'LogisticRegression',\n",
       "  'RR': array([[100474,      0],\n",
       "         [  8562,      0]], dtype=int64),\n",
       "  'RS': array([[0.40032492, 0.        ],\n",
       "         [0.39959326, 0.        ]]),\n",
       "  'SS': array([[0.16557312, 0.23475181],\n",
       "         [0.07541248, 0.32418079]]),\n",
       "  'SR': array([[41567, 58907],\n",
       "         [ 1196,  7366]], dtype=int64)}]"
      ]
     },
     "execution_count": 41,
     "metadata": {},
     "output_type": "execute_result"
    }
   ],
   "source": [
    "scores"
   ]
  },
  {
   "cell_type": "code",
   "execution_count": 112,
   "id": "c6ba5c95",
   "metadata": {},
   "outputs": [
    {
     "data": {
      "text/plain": [
       "(array([1115789,       0,       0,       2,       0,       8,       2,\n",
       "              0,       0,       1], dtype=int64),\n",
       " array([2.03380601e-08, 7.37219935e-04, 1.47441953e-03, 2.21161913e-03,\n",
       "        2.94881873e-03, 3.68601832e-03, 4.42321792e-03, 5.16041752e-03,\n",
       "        5.89761712e-03, 6.63481671e-03, 7.37201631e-03]))"
      ]
     },
     "execution_count": 112,
     "metadata": {},
     "output_type": "execute_result"
    }
   ],
   "source": []
  },
  {
   "cell_type": "code",
   "execution_count": 14,
   "id": "ef22ec7d",
   "metadata": {},
   "outputs": [
    {
     "data": {
      "text/plain": [
       "2945.8"
      ]
     },
     "execution_count": 14,
     "metadata": {},
     "output_type": "execute_result"
    }
   ],
   "source": [
    "target['Outcome'].sum() * 0.2 "
   ]
  },
  {
   "cell_type": "code",
   "execution_count": null,
   "id": "aed4ba27",
   "metadata": {},
   "outputs": [],
   "source": [
    "print((marg_tab*100).round(3).to_latex())"
   ]
  },
  {
   "cell_type": "code",
   "execution_count": null,
   "id": "5b0aae26",
   "metadata": {},
   "outputs": [],
   "source": [
    "(100 - corpus.mean() * 100).round(1)"
   ]
  },
  {
   "cell_type": "code",
   "execution_count": 11,
   "id": "e3e4d950",
   "metadata": {},
   "outputs": [
    {
     "data": {
      "text/plain": [
       "14729.0"
      ]
     },
     "execution_count": 11,
     "metadata": {},
     "output_type": "execute_result"
    }
   ],
   "source": [
    "target['Outcome'].sum()"
   ]
  },
  {
   "cell_type": "code",
   "execution_count": null,
   "id": "0a5dab06",
   "metadata": {},
   "outputs": [],
   "source": [
    "print(((marg_tab - rw_marg_tab)*100).round(4).to_latex())"
   ]
  },
  {
   "cell_type": "code",
   "execution_count": null,
   "id": "0f32a7a1",
   "metadata": {},
   "outputs": [],
   "source": []
  }
 ],
 "metadata": {
  "kernelspec": {
   "display_name": "Python 3",
   "language": "python",
   "name": "python3"
  },
  "language_info": {
   "codemirror_mode": {
    "name": "ipython",
    "version": 3
   },
   "file_extension": ".py",
   "mimetype": "text/x-python",
   "name": "python",
   "nbconvert_exporter": "python",
   "pygments_lexer": "ipython3",
   "version": "3.9.0"
  }
 },
 "nbformat": 4,
 "nbformat_minor": 5
}
