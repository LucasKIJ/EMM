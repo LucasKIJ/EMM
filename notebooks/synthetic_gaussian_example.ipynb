{
 "cells": [
  {
   "cell_type": "code",
   "execution_count": 1,
   "id": "bad2b611",
   "metadata": {},
   "outputs": [],
   "source": [
    "import numpy as np\n",
    "import pandas as pd\n",
    "import matplotlib.pyplot as plt\n",
    "import cvxpy as cp\n",
    "import seaborn as sns\n",
    "import emm\n",
    "import warnings\n",
    "warnings.filterwarnings('ignore')\n",
    "\n",
    "# Plot styles\n",
    "plt.style.use('seaborn-notebook')\n",
    "\n",
    "import matplotlib.pyplot as plt\n",
    "\n",
    "SMALL_SIZE = 12\n",
    "MEDIUM_SIZE = 16\n",
    "BIGGER_SIZE = 22\n",
    "\n",
    "plt.rc('font', size=SMALL_SIZE)          # controls default text sizes\n",
    "plt.rc('axes', titlesize=SMALL_SIZE)     # fontsize of the axes title\n",
    "plt.rc('axes', labelsize=MEDIUM_SIZE)    # fontsize of the x and y labels\n",
    "plt.rc('xtick', labelsize=SMALL_SIZE)    # fontsize of the tick labels\n",
    "plt.rc('ytick', labelsize=SMALL_SIZE)    # fontsize of the tick labels\n",
    "plt.rc('legend', fontsize=SMALL_SIZE)    # legend fontsize\n",
    "plt.rc('figure', titlesize=BIGGER_SIZE)  # fontsize of the figure title"
   ]
  },
  {
   "cell_type": "code",
   "execution_count": 2,
   "id": "30ad2391",
   "metadata": {},
   "outputs": [],
   "source": [
    "# Generate example data\n",
    "m = 5000\n",
    "# Target distribution\n",
    "mu0 = np.array([115]); sig0 = np.array([10])\n",
    "mu1 = np.array([135]); sig1 = np.array([15])\n",
    "X0 = np.random.normal(loc=mu0, scale=sig0, size=m // 2)\n",
    "X1 = np.random.normal(loc=mu1, scale=sig1, size=m // 2)\n",
    "y0 = np.zeros(m // 2)\n",
    "y1 = np.ones(m // 2)\n",
    "X = np.concatenate([X0,X1])\n",
    "y = np.concatenate([y0,y1])\n",
    "\n",
    "target = pd.DataFrame({'feature' : X})\n",
    "target['Outcome'] = y\n",
    "\n",
    "# Corpus distribution\n",
    "mu = np.array([125]); sig = np.array([15])\n",
    "corpus = np.random.normal(loc=mu, scale=sig, size=m)\n",
    "corpus = pd.DataFrame({'feature': corpus})"
   ]
  },
  {
   "cell_type": "code",
   "execution_count": 27,
   "id": "000e4fc7",
   "metadata": {},
   "outputs": [
    {
     "name": "stdout",
     "output_type": "stream",
     "text": [
      "CVX took 1.33032 seconds\n",
      "CVX took 2.91266 seconds\n",
      "Fitting 5 folds for each of 14 candidates, totalling 70 fits\n",
      "Target data: the best parameters are given by \n",
      " LogisticRegression(C=0.01)\n",
      " the best mean cross-validation accuracy 79.9 +/- 1.28792% on training dataset \n",
      "\n",
      "Fitting 5 folds for each of 5 candidates, totalling 25 fits\n",
      "Target data: the best parameters are given by \n",
      " DecisionTreeClassifier(max_depth=4)\n",
      " the best mean cross-validation accuracy 80.725 +/- 1.44568% on training dataset \n",
      "\n",
      "CVX took 0.46269 seconds\n",
      "CVX took 0.48979 seconds\n",
      "Fitting 5 folds for each of 14 candidates, totalling 70 fits\n",
      "Target data: the best parameters are given by \n",
      " LogisticRegression(C=0.001)\n",
      " the best mean cross-validation accuracy 80.075 +/- 1.61941% on training dataset \n",
      "\n",
      "Fitting 5 folds for each of 5 candidates, totalling 25 fits\n",
      "Target data: the best parameters are given by \n",
      " DecisionTreeClassifier(max_depth=2)\n",
      " the best mean cross-validation accuracy 79.65 +/- 1.11355% on training dataset \n",
      "\n",
      "CVX took 0.41629 seconds\n",
      "CVX took 0.39577 seconds\n",
      "Fitting 5 folds for each of 14 candidates, totalling 70 fits\n",
      "Target data: the best parameters are given by \n",
      " LogisticRegression(C=0.001)\n",
      " the best mean cross-validation accuracy 79.85 +/- 1.5957% on training dataset \n",
      "\n",
      "Fitting 5 folds for each of 5 candidates, totalling 25 fits\n",
      "Target data: the best parameters are given by \n",
      " DecisionTreeClassifier(max_depth=2)\n",
      " the best mean cross-validation accuracy 80.475 +/- 1.12472% on training dataset \n",
      "\n"
     ]
    }
   ],
   "source": [
    "histLoss0 = emm.losses.CorpusKLLoss(mean=mu0[0], std=sig0[0])\n",
    "histLoss1 = emm.losses.CorpusKLLoss(mean=mu1[0], std=sig1[0])\n",
    "lam = 0.1\n",
    "margsKL = {\n",
    "            0 : {\n",
    "                     'feature' : {'fun' : [histLoss0.fun], 'loss' : [histLoss0]},\n",
    "                 'regularizer' : {'reg' : emm.regularizers.EntropyRegularizer(),\n",
    "                                  'lam' : lam}\n",
    "                },\n",
    "            1 : {\n",
    "                     'feature' : {'fun' : [histLoss1.fun], 'loss' : [histLoss1]},\n",
    "                 'regularizer' : {'reg' : emm.regularizers.EntropyRegularizer(),\n",
    "                                  'lam' : lam}\n",
    "                }\n",
    "          }\n",
    "                              \n",
    "margsLS = {\n",
    "            0 : {\n",
    "                     'feature' : {'fun' : ['mean'], 'loss' : [emm.losses.LeastSquaresLoss(mu0[0])]},\n",
    "                 'regularizer' : {'reg' : emm.regularizers.EntropyRegularizer(),\n",
    "                                  'lam' : lam}\n",
    "                                  \n",
    "                },\n",
    "            1 : {\n",
    "                     'feature' :  {'fun' : ['mean'], 'loss' : [emm.losses.LeastSquaresLoss(mu1[0])]},\n",
    "                 'regularizer' : {'reg' : emm.regularizers.EntropyRegularizer(),\n",
    "                                  'lam' : lam}\n",
    "                }\n",
    "           }\n",
    "    \n",
    "margsEq = {\n",
    "            0 : {\n",
    "                     'feature' : {'fun' : ['mean'], 'loss' : [emm.losses.EqualityLoss(mu0[0])]},\n",
    "                 'regularizer' : {'reg' : emm.regularizers.EntropyRegularizer(),\n",
    "                                  'lam' : lam}\n",
    "                },\n",
    "            1 : {\n",
    "                     'feature' :  {'fun' : ['mean'], 'loss' : [emm.losses.EqualityLoss(mu1[0])]},\n",
    "                 'regularizer' : {'reg' : emm.regularizers.EntropyRegularizer(),\n",
    "                                  'lam' : lam}\n",
    "                }\n",
    "           }\n",
    "    \n",
    "\n",
    "    \n",
    "margs = [margsKL, margsLS, margsEq]\n",
    "\n",
    "from sklearn.linear_model import LogisticRegression\n",
    "param_grid_log =  {\"classifier\" : [LogisticRegression()],\n",
    "                 \"classifier__C\": np.logspace(-3,3,7), \n",
    "                   \"classifier__penalty\":[\"l1\",\"l2\"]}\n",
    "from sklearn.tree import DecisionTreeClassifier\n",
    "param_grid_tree =  {'classifier' : [DecisionTreeClassifier()],\n",
    "     'classifier__max_depth' : [2,4,6,7,9]}\n",
    "param_grid = [param_grid_log, param_grid_tree]\n",
    "   \n",
    "(rwcs, js, scores) = emm.metrics.multiple_models(target,corpus,margs, \n",
    "                                        param_grid, verbose=True)"
   ]
  },
  {
   "cell_type": "code",
   "execution_count": 28,
   "id": "65de00f6",
   "metadata": {},
   "outputs": [
    {
     "name": "stdout",
     "output_type": "stream",
     "text": [
      "[0.05629240634440292, 0.11763757497764345, 0.11765585987475284]\n"
     ]
    }
   ],
   "source": [
    "print(js)"
   ]
  },
  {
   "cell_type": "code",
   "execution_count": 29,
   "id": "ceb930d5",
   "metadata": {
    "scrolled": true
   },
   "outputs": [
    {
     "data": {
      "text/html": [
       "<div>\n",
       "<style scoped>\n",
       "    .dataframe tbody tr th:only-of-type {\n",
       "        vertical-align: middle;\n",
       "    }\n",
       "\n",
       "    .dataframe tbody tr th {\n",
       "        vertical-align: top;\n",
       "    }\n",
       "\n",
       "    .dataframe thead th {\n",
       "        text-align: right;\n",
       "    }\n",
       "</style>\n",
       "<table border=\"1\" class=\"dataframe\">\n",
       "  <thead>\n",
       "    <tr style=\"text-align: right;\">\n",
       "      <th></th>\n",
       "      <th>RR</th>\n",
       "      <th>RS</th>\n",
       "      <th>SS</th>\n",
       "      <th>SR</th>\n",
       "    </tr>\n",
       "  </thead>\n",
       "  <tbody>\n",
       "    <tr>\n",
       "      <th>0</th>\n",
       "      <td>0.800</td>\n",
       "      <td>0.762321</td>\n",
       "      <td>0.766241</td>\n",
       "      <td>0.798</td>\n",
       "    </tr>\n",
       "    <tr>\n",
       "      <th>1</th>\n",
       "      <td>0.787</td>\n",
       "      <td>0.789738</td>\n",
       "      <td>0.787675</td>\n",
       "      <td>0.790</td>\n",
       "    </tr>\n",
       "    <tr>\n",
       "      <th>2</th>\n",
       "      <td>0.793</td>\n",
       "      <td>0.744226</td>\n",
       "      <td>0.736209</td>\n",
       "      <td>0.791</td>\n",
       "    </tr>\n",
       "    <tr>\n",
       "      <th>3</th>\n",
       "      <td>0.807</td>\n",
       "      <td>0.733628</td>\n",
       "      <td>0.740189</td>\n",
       "      <td>0.804</td>\n",
       "    </tr>\n",
       "    <tr>\n",
       "      <th>4</th>\n",
       "      <td>0.802</td>\n",
       "      <td>0.756395</td>\n",
       "      <td>0.757840</td>\n",
       "      <td>0.798</td>\n",
       "    </tr>\n",
       "    <tr>\n",
       "      <th>5</th>\n",
       "      <td>0.789</td>\n",
       "      <td>0.740200</td>\n",
       "      <td>0.733047</td>\n",
       "      <td>0.784</td>\n",
       "    </tr>\n",
       "  </tbody>\n",
       "</table>\n",
       "</div>"
      ],
      "text/plain": [
       "      RR        RS        SS     SR\n",
       "0  0.800  0.762321  0.766241  0.798\n",
       "1  0.787  0.789738  0.787675  0.790\n",
       "2  0.793  0.744226  0.736209  0.791\n",
       "3  0.807  0.733628  0.740189  0.804\n",
       "4  0.802  0.756395  0.757840  0.798\n",
       "5  0.789  0.740200  0.733047  0.784"
      ]
     },
     "metadata": {},
     "output_type": "display_data"
    },
    {
     "data": {
      "text/plain": [
       "0    1.002506\n",
       "1    0.996203\n",
       "2    1.002528\n",
       "3    1.003731\n",
       "4    1.005013\n",
       "5    1.006378\n",
       "dtype: float64"
      ]
     },
     "metadata": {},
     "output_type": "display_data"
    }
   ],
   "source": [
    "l = []\n",
    "for d in scores:\n",
    "    l += [d['accuracy_score']]\n",
    "    \n",
    "df = pd.DataFrame(l)\n",
    "display(df)\n",
    "display(df.RR/df.SR)"
   ]
  },
  {
   "cell_type": "code",
   "execution_count": 35,
   "id": "f962f429",
   "metadata": {},
   "outputs": [
    {
     "data": {
      "text/plain": [
       "<zip at 0x26fed9e3900>"
      ]
     },
     "execution_count": 35,
     "metadata": {},
     "output_type": "execute_result"
    }
   ],
   "source": [
    "zip(['-18','18-30','30-40','40-60','60+'],[  0.05,   0.1,   0.25,   0.35,  0.25])"
   ]
  },
  {
   "cell_type": "code",
   "execution_count": null,
   "id": "225361c2",
   "metadata": {},
   "outputs": [],
   "source": []
  }
 ],
 "metadata": {
  "kernelspec": {
   "display_name": "Python 3",
   "language": "python",
   "name": "python3"
  },
  "language_info": {
   "codemirror_mode": {
    "name": "ipython",
    "version": 3
   },
   "file_extension": ".py",
   "mimetype": "text/x-python",
   "name": "python",
   "nbconvert_exporter": "python",
   "pygments_lexer": "ipython3",
   "version": "3.9.0"
  }
 },
 "nbformat": 4,
 "nbformat_minor": 5
}
