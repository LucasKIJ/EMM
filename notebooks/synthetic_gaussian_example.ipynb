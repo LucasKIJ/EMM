{
 "cells": [
  {
   "cell_type": "code",
   "execution_count": 3,
   "id": "bad2b611",
   "metadata": {},
   "outputs": [],
   "source": [
    "import numpy as np\n",
    "import pandas as pd\n",
    "import matplotlib.pyplot as plt\n",
    "import cvxpy as cp\n",
    "import seaborn as sns\n",
    "import emm\n",
    "import warnings\n",
    "warnings.filterwarnings('ignore')\n",
    "\n",
    "# Plot styles\n",
    "plt.style.use('seaborn-notebook')\n",
    "\n",
    "import matplotlib.pyplot as plt\n",
    "\n",
    "SMALL_SIZE = 12\n",
    "MEDIUM_SIZE = 16\n",
    "BIGGER_SIZE = 22\n",
    "\n",
    "plt.rc('font', size=SMALL_SIZE)          # controls default text sizes\n",
    "plt.rc('axes', titlesize=SMALL_SIZE)     # fontsize of the axes title\n",
    "plt.rc('axes', labelsize=MEDIUM_SIZE)    # fontsize of the x and y labels\n",
    "plt.rc('xtick', labelsize=SMALL_SIZE)    # fontsize of the tick labels\n",
    "plt.rc('ytick', labelsize=SMALL_SIZE)    # fontsize of the tick labels\n",
    "plt.rc('legend', fontsize=SMALL_SIZE)    # legend fontsize\n",
    "plt.rc('figure', titlesize=BIGGER_SIZE)  # fontsize of the figure title"
   ]
  },
  {
   "cell_type": "code",
   "execution_count": 4,
   "id": "30ad2391",
   "metadata": {},
   "outputs": [],
   "source": [
    "# Generate example data\n",
    "m = 5000\n",
    "# Target distribution\n",
    "mu0 = np.array([115]); sig0 = np.array([10])\n",
    "mu1 = np.array([135]); sig1 = np.array([15])\n",
    "X0 = np.random.normal(loc=mu0, scale=sig0, size=m // 2)\n",
    "X1 = np.random.normal(loc=mu1, scale=sig1, size=m // 2)\n",
    "y0 = np.zeros(m // 2)\n",
    "y1 = np.ones(m // 2)\n",
    "X = np.concatenate([X0,X1])\n",
    "y = np.concatenate([y0,y1])\n",
    "\n",
    "target = pd.DataFrame({'feature' : X})\n",
    "target['Outcome'] = y\n",
    "\n",
    "# Corpus distribution\n",
    "mu = np.array([125]); sig = np.array([15])\n",
    "corpus = np.random.normal(loc=mu, scale=sig, size=m)\n",
    "corpus = pd.DataFrame({'feature': corpus})"
   ]
  },
  {
   "cell_type": "code",
   "execution_count": 15,
   "id": "000e4fc7",
   "metadata": {},
   "outputs": [
    {
     "name": "stdout",
     "output_type": "stream",
     "text": [
      "CVX took 1.67474 seconds\n",
      "CVX took 0.97453 seconds\n",
      "Fitting 5 folds for each of 14 candidates, totalling 70 fits\n",
      "Target data: the best parameters are given by \n",
      " LogisticRegression(C=0.001)\n",
      " the best mean cross-validation accuracy 81.775 +/- 0.52082% on training dataset \n",
      "\n",
      "Fitting 5 folds for each of 5 candidates, totalling 25 fits\n",
      "Target data: the best parameters are given by \n",
      " DecisionTreeClassifier(max_depth=4)\n",
      " the best mean cross-validation accuracy 81.05 +/- 0.72715% on training dataset \n",
      "\n",
      "CVX took 0.62285 seconds\n",
      "CVX took 0.59897 seconds\n",
      "Fitting 5 folds for each of 14 candidates, totalling 70 fits\n",
      "Target data: the best parameters are given by \n",
      " LogisticRegression(C=0.01)\n",
      " the best mean cross-validation accuracy 80.45 +/- 1.26145% on training dataset \n",
      "\n",
      "Fitting 5 folds for each of 5 candidates, totalling 25 fits\n",
      "Target data: the best parameters are given by \n",
      " DecisionTreeClassifier(max_depth=2)\n",
      " the best mean cross-validation accuracy 81.025 +/- 0.6586% on training dataset \n",
      "\n",
      "CVX took 0.64136 seconds\n",
      "CVX took 0.54329 seconds\n",
      "Fitting 5 folds for each of 14 candidates, totalling 70 fits\n",
      "Target data: the best parameters are given by \n",
      " LogisticRegression(C=0.01)\n",
      " the best mean cross-validation accuracy 81.3 +/- 1.1848% on training dataset \n",
      "\n",
      "Fitting 5 folds for each of 5 candidates, totalling 25 fits\n",
      "Target data: the best parameters are given by \n",
      " DecisionTreeClassifier(max_depth=2)\n",
      " the best mean cross-validation accuracy 81.225 +/- 1.21809% on training dataset \n",
      "\n"
     ]
    }
   ],
   "source": [
    "histLoss0 = emm.losses.CorpusKLLoss(mean=100)\n",
    "histLoss1 = emm.losses.CorpusKLLoss(mean=150)\n",
    "lam = 1\n",
    "margsKL = {\n",
    "            0 : {\n",
    "                     'feature' : {'fun' : [histLoss0.fun], 'loss' : [histLoss0]},\n",
    "                 'regularizer' : {'reg' : emm.regularizers.EntropyRegularizer(),\n",
    "                                  'lam' : lam}\n",
    "                },\n",
    "            1 : {\n",
    "                     'feature' : {'fun' : [histLoss1.fun], 'loss' : [histLoss1]},\n",
    "                 'regularizer' : {'reg' : emm.regularizers.EntropyRegularizer(),\n",
    "                                  'lam' : lam}\n",
    "                }\n",
    "          }\n",
    "                              \n",
    "margsLS = {\n",
    "            0 : {\n",
    "                     'feature' : {'fun' : ['mean'], 'loss' : [emm.losses.LeastSquaresLoss(100)]},\n",
    "                 'regularizer' : {'reg' : emm.regularizers.EntropyRegularizer(),\n",
    "                                  'lam' : lam}\n",
    "                                  \n",
    "                },\n",
    "            1 : {\n",
    "                     'feature' :  {'fun' : ['mean'], 'loss' : [emm.losses.LeastSquaresLoss(150)]},\n",
    "                 'regularizer' : {'reg' : emm.regularizers.EntropyRegularizer(),\n",
    "                                  'lam' : lam}\n",
    "                }\n",
    "           }\n",
    "    \n",
    "margsEq = {\n",
    "            0 : {\n",
    "                     'feature' : {'fun' : ['mean'], 'loss' : [emm.losses.EqualityLoss(100)]},\n",
    "                 'regularizer' : {'reg' : emm.regularizers.EntropyRegularizer(),\n",
    "                                  'lam' : lam}\n",
    "                },\n",
    "            1 : {\n",
    "                     'feature' :  {'fun' : ['mean'], 'loss' : [emm.losses.EqualityLoss(150)]},\n",
    "                 'regularizer' : {'reg' : emm.regularizers.EntropyRegularizer(),\n",
    "                                  'lam' : lam}\n",
    "                }\n",
    "           }\n",
    "    \n",
    "\n",
    "    \n",
    "margs = [margsKL, margsLS, margsEq]\n",
    "\n",
    "from sklearn.linear_model import LogisticRegression\n",
    "param_grid_log =  {\"classifier\" : [LogisticRegression()],\n",
    "                 \"classifier__C\": np.logspace(-3,3,7), \n",
    "                   \"classifier__penalty\":[\"l1\",\"l2\"]}\n",
    "from sklearn.tree import DecisionTreeClassifier\n",
    "param_grid_tree =  {'classifier' : [DecisionTreeClassifier()],\n",
    "     'classifier__max_depth' : [2,4,6,7,9]}\n",
    "param_grid = [param_grid_log, param_grid_tree]\n",
    "   \n",
    "(rwcs, js, scores) = emm.metrics.multiple_models(target,corpus,margs, \n",
    "                                        param_grid, verbose=True)"
   ]
  },
  {
   "cell_type": "code",
   "execution_count": 16,
   "id": "65de00f6",
   "metadata": {},
   "outputs": [
    {
     "name": "stdout",
     "output_type": "stream",
     "text": [
      "[0.12796892754704345, 0.34890540148120885, 0.3499861483025159]\n"
     ]
    }
   ],
   "source": [
    "print(js)"
   ]
  },
  {
   "cell_type": "code",
   "execution_count": 17,
   "id": "ceb930d5",
   "metadata": {
    "scrolled": true
   },
   "outputs": [
    {
     "data": {
      "text/html": [
       "<div>\n",
       "<style scoped>\n",
       "    .dataframe tbody tr th:only-of-type {\n",
       "        vertical-align: middle;\n",
       "    }\n",
       "\n",
       "    .dataframe tbody tr th {\n",
       "        vertical-align: top;\n",
       "    }\n",
       "\n",
       "    .dataframe thead th {\n",
       "        text-align: right;\n",
       "    }\n",
       "</style>\n",
       "<table border=\"1\" class=\"dataframe\">\n",
       "  <thead>\n",
       "    <tr style=\"text-align: right;\">\n",
       "      <th></th>\n",
       "      <th>RR</th>\n",
       "      <th>RS</th>\n",
       "      <th>SS</th>\n",
       "      <th>SR</th>\n",
       "    </tr>\n",
       "  </thead>\n",
       "  <tbody>\n",
       "    <tr>\n",
       "      <th>0</th>\n",
       "      <td>0.797</td>\n",
       "      <td>0.798201</td>\n",
       "      <td>0.797833</td>\n",
       "      <td>0.794</td>\n",
       "    </tr>\n",
       "    <tr>\n",
       "      <th>1</th>\n",
       "      <td>0.818</td>\n",
       "      <td>0.792452</td>\n",
       "      <td>0.790444</td>\n",
       "      <td>0.819</td>\n",
       "    </tr>\n",
       "    <tr>\n",
       "      <th>2</th>\n",
       "      <td>0.843</td>\n",
       "      <td>0.952068</td>\n",
       "      <td>0.950885</td>\n",
       "      <td>0.845</td>\n",
       "    </tr>\n",
       "    <tr>\n",
       "      <th>3</th>\n",
       "      <td>0.809</td>\n",
       "      <td>0.949731</td>\n",
       "      <td>0.950284</td>\n",
       "      <td>0.809</td>\n",
       "    </tr>\n",
       "    <tr>\n",
       "      <th>4</th>\n",
       "      <td>0.816</td>\n",
       "      <td>0.953704</td>\n",
       "      <td>0.953704</td>\n",
       "      <td>0.817</td>\n",
       "    </tr>\n",
       "    <tr>\n",
       "      <th>5</th>\n",
       "      <td>0.796</td>\n",
       "      <td>0.952520</td>\n",
       "      <td>0.955516</td>\n",
       "      <td>0.811</td>\n",
       "    </tr>\n",
       "  </tbody>\n",
       "</table>\n",
       "</div>"
      ],
      "text/plain": [
       "      RR        RS        SS     SR\n",
       "0  0.797  0.798201  0.797833  0.794\n",
       "1  0.818  0.792452  0.790444  0.819\n",
       "2  0.843  0.952068  0.950885  0.845\n",
       "3  0.809  0.949731  0.950284  0.809\n",
       "4  0.816  0.953704  0.953704  0.817\n",
       "5  0.796  0.952520  0.955516  0.811"
      ]
     },
     "metadata": {},
     "output_type": "display_data"
    },
    {
     "data": {
      "text/plain": [
       "0    1.003778\n",
       "1    0.998779\n",
       "2    0.997633\n",
       "3    1.000000\n",
       "4    0.998776\n",
       "5    0.981504\n",
       "dtype: float64"
      ]
     },
     "metadata": {},
     "output_type": "display_data"
    }
   ],
   "source": [
    "l = []\n",
    "for d in scores:\n",
    "    l += [d['accuracy_score']]\n",
    "    \n",
    "df = pd.DataFrame(l)\n",
    "display(df)\n",
    "display(df.RR/df.SR)"
   ]
  },
  {
   "cell_type": "code",
   "execution_count": 22,
   "id": "f1c2b81e",
   "metadata": {},
   "outputs": [],
   "source": [
    "clf = LogisticRegression()\n",
    "X = np.array(rwcs[0]['feature']).reshape(-1,1)\n",
    "y = np.array(rwcs[0]['Outcome']).reshape(-1,1)\n",
    "w = np.array(rwcs[0]['weights'])"
   ]
  },
  {
   "cell_type": "code",
   "execution_count": 23,
   "id": "d478d331",
   "metadata": {},
   "outputs": [
    {
     "data": {
      "image/png": "[encoded data removed]",
      "text/plain": [
       "<Figure size 576x396 with 1 Axes>"
      ]
     },
     "metadata": {
      "needs_background": "light"
     },
     "output_type": "display_data"
    }
   ],
   "source": [
    "clf.fit(X,y,w)\n",
    "emm.utils.weighted_hist(X[:m], w[:m])\n",
    "emm.utils.weighted_hist(X[m:], w[m:])\n",
    "plt.show()"
   ]
  },
  {
   "cell_type": "code",
   "execution_count": 8,
   "id": "05dbb91b",
   "metadata": {},
   "outputs": [
    {
     "data": {
      "text/plain": [
       "0.787"
      ]
     },
     "execution_count": 8,
     "metadata": {},
     "output_type": "execute_result"
    }
   ],
   "source": [
    "X_test = np.array(target['feature']).reshape(-1,1)\n",
    "y_test = np.array(target['Outcome']).reshape(-1,1)\n",
    "clf.score(X_test,y_test)\n"
   ]
  },
  {
   "cell_type": "code",
   "execution_count": 9,
   "id": "86e9beaf",
   "metadata": {},
   "outputs": [
    {
     "data": {
      "text/plain": [
       "LogisticRegression()"
      ]
     },
     "execution_count": 9,
     "metadata": {},
     "output_type": "execute_result"
    }
   ],
   "source": [
    "LogisticRegression().set_params()"
   ]
  },
  {
   "cell_type": "code",
   "execution_count": 10,
   "id": "1d1ee124",
   "metadata": {},
   "outputs": [
    {
     "data": {
      "text/plain": [
       "100"
      ]
     },
     "execution_count": 10,
     "metadata": {},
     "output_type": "execute_result"
    }
   ],
   "source": [
    "histLoss0.mean"
   ]
  }
 ],
 "metadata": {
  "kernelspec": {
   "display_name": "Python 3",
   "language": "python",
   "name": "python3"
  },
  "language_info": {
   "codemirror_mode": {
    "name": "ipython",
    "version": 3
   },
   "file_extension": ".py",
   "mimetype": "text/x-python",
   "name": "python",
   "nbconvert_exporter": "python",
   "pygments_lexer": "ipython3",
   "version": "3.9.0"
  }
 },
 "nbformat": 4,
 "nbformat_minor": 5
}
