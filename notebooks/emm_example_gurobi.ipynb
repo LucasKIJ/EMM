{
 "cells": [
  {
   "cell_type": "markdown",
   "id": "f9635dc1",
   "metadata": {},
   "source": [
    "# Example of EMM for machine learning reweighting using ADMM optimisation"
   ]
  },
  {
   "cell_type": "markdown",
   "id": "4a97c3c6",
   "metadata": {},
   "source": [
    "Using the PIMA diabetes dataset we compare the original dataset with labels to the reweighted dataset with artificial labels. We begin by importing the PIMA diabetes dataset, it is already cleaned and does not have any missing values, outliers, etc. This example is also nice since all features are continuous and the labels are binary."
   ]
  },
  {
   "cell_type": "code",
   "execution_count": null,
   "id": "96a94bea",
   "metadata": {},
   "outputs": [],
   "source": [
    "# Get raw data, convert to csv, and import\n",
    "# Update directory\n",
    "import sys\n",
    "sys.path.insert(1, '../')\n",
    "# Import libraries\n",
    "from emm import *\n",
    "import os.path\n",
    "from get_data import get_data\n",
    "import pandas as pd\n",
    "import matplotlib.pyplot as plt\n",
    "from scipy import stats\n",
    "import numpy as np\n",
    "\n",
    "# Data locations\n",
    "raw_dir = \"../assets/data/raw/pima_diabetes/archive.zip\"\n",
    "processed_dir = \"../assets/data/processed/pima_diabetes/\"\n",
    "\n",
    "# If processed data does exist convert raw to csv\n",
    "if not os.path.exists(processed_dir + \"diabetes.csv\"):\n",
    "    get_data.RData_to_csv(raw_dir,processed_dir)\n",
    "    \n",
    "# Get data into dataframe\n",
    "df = pd.read_csv(processed_dir + \"diabetes.csv\")\n",
    "\n",
    "# Replace 0 with nan\n",
    "nan_cols = ['Glucose', 'BloodPressure','SkinThickness','Insulin','BMI']\n",
    "df[nan_cols]=df[nan_cols].replace({'0':np.nan,0:np.nan})"
   ]
  },
  {
   "cell_type": "markdown",
   "id": "42042dc4",
   "metadata": {},
   "source": [
    "Separating features from labels, useful for training ML models and for re-weighting."
   ]
  },
  {
   "cell_type": "code",
   "execution_count": null,
   "id": "4d779c23",
   "metadata": {},
   "outputs": [],
   "source": [
    "#train_test_splitting of the dataset\n",
    "X = df.drop(columns = 'Outcome')\n",
    "# Getting Predicting Value\n",
    "y = df['Outcome']"
   ]
  },
  {
   "cell_type": "markdown",
   "id": "e6fabb8a",
   "metadata": {},
   "source": [
    "First, we look at the means for each features according to outcome."
   ]
  },
  {
   "cell_type": "code",
   "execution_count": null,
   "id": "ede99a18",
   "metadata": {
    "scrolled": false
   },
   "outputs": [],
   "source": [
    "marginals_mean = df.groupby('Outcome').mean()\n",
    "display(marginals_mean)"
   ]
  },
  {
   "cell_type": "markdown",
   "id": "e176f6c6",
   "metadata": {},
   "source": [
    "We may also want to consider standard deviation of features."
   ]
  },
  {
   "cell_type": "code",
   "execution_count": null,
   "id": "4c2fcbf7",
   "metadata": {},
   "outputs": [],
   "source": [
    "marginals_std = df.groupby('Outcome').std()\n",
    "display(marginals_std)"
   ]
  },
  {
   "cell_type": "markdown",
   "id": "71b8fb72",
   "metadata": {},
   "source": [
    "### Matching marginals\n",
    "\n",
    "First we construct functions $F$ upon which we take expectations of under the weighted measure. Mathematically, we express this as\n",
    "$$ \\mathbb E[F(x)] = \\sum^N_{i=1} w_i F(x_i) $$"
   ]
  },
  {
   "cell_type": "code",
   "execution_count": null,
   "id": "fe17fd0a",
   "metadata": {},
   "outputs": [],
   "source": [
    "features = list(X)\n",
    "marginals = {}\n",
    "for feature in features:\n",
    "    marginals[feature] = ['mean', 'std']\n",
    "marginals"
   ]
  },
  {
   "cell_type": "code",
   "execution_count": null,
   "id": "2de102a4",
   "metadata": {},
   "outputs": [],
   "source": [
    "loss_0 = []\n",
    "loss_1 = []\n",
    "for feature in marginals.keys():\n",
    "    for fun in marginals[feature]:\n",
    "        marg = getattr(df[[feature,'Outcome']].groupby('Outcome'),fun)()\n",
    "        loss_0.append(EqualityLoss(marg.loc[0]))\n",
    "        loss_1.append(EqualityLoss(marg.loc[1]))"
   ]
  },
  {
   "cell_type": "code",
   "execution_count": null,
   "id": "f6ca52ea",
   "metadata": {
    "scrolled": false
   },
   "outputs": [],
   "source": [
    "regularizer = regularizers.EntropyRegularizer(limit=None)\n",
    "#regularizer = regularizers.ZeroRegularizer()\n",
    "w_0, out_0, sol_0 = emm(X, marginals, loss_0, regularizer, \n",
    "                        optimizer = 'gurobi', verbose=False, rho=25, \n",
    "                        eps_abs=1e-6, eps_rel=1e-6)\n",
    "w_1, out_1, sol_1 = emm(X, marginals, loss_1, regularizer,\n",
    "                     optimizer='gurobi', verbose=False, rho=25,\n",
    "                        eps_abs=1e-6, eps_rel=1e-6)"
   ]
  },
  {
   "cell_type": "code",
   "execution_count": null,
   "id": "0da33a3a",
   "metadata": {},
   "outputs": [],
   "source": [
    "X_0 = X.copy()\n",
    "X_0[\"weights\"] = w_0 \n",
    "X_1 = X.copy()\n",
    "X_1[\"weights\"] = w_1 \n",
    "\n",
    "# Set theoretical outcome to train on reweighted datasets\n",
    "X_0['Outcome'] = 0\n",
    "X_1['Outcome'] = 1\n",
    "\n",
    "df_w = pd.concat([X_0,X_1])"
   ]
  },
  {
   "cell_type": "code",
   "execution_count": null,
   "id": "810af26f",
   "metadata": {},
   "outputs": [],
   "source": [
    "df_valw = df_w.drop(columns=['Outcome','weights']).multiply(df_w['weights'], axis=\"index\")\n",
    "df_valw['Outcome'] = df_w['Outcome']"
   ]
  },
  {
   "cell_type": "code",
   "execution_count": null,
   "id": "0b93cfd2",
   "metadata": {},
   "outputs": [],
   "source": [
    "w_marginals = df_valw.groupby('Outcome').sum()"
   ]
  },
  {
   "cell_type": "code",
   "execution_count": null,
   "id": "461351fb",
   "metadata": {},
   "outputs": [],
   "source": [
    "display(marginals_mean)\n",
    "display(w_marginals)\n",
    "display(abs((marginals_mean - w_marginals)))"
   ]
  },
  {
   "cell_type": "code",
   "execution_count": null,
   "id": "3e084879",
   "metadata": {},
   "outputs": [],
   "source": [
    "std_w = pd.concat([abs(X_0[features] - marginals_mean.loc[0]),abs(X_1[features] - marginals_mean.loc[1])])\n",
    "std_w = std_w.multiply(df_w['weights'], axis=\"index\")\n",
    "std_w = pd.concat([std_w, df_w['Outcome']],axis=1)"
   ]
  },
  {
   "cell_type": "code",
   "execution_count": null,
   "id": "519d685d",
   "metadata": {},
   "outputs": [],
   "source": [
    "display(marginals_std)\n",
    "display(std_w.groupby('Outcome').sum())\n",
    "display(abs((marginals_std - std_w.groupby('Outcome').sum())))"
   ]
  },
  {
   "cell_type": "code",
   "execution_count": 1,
   "id": "dfca16e8",
   "metadata": {
    "scrolled": true
   },
   "outputs": [
    {
     "name": "stdout",
     "output_type": "stream",
     "text": [
      "Iteration     | ||r||/ε_pri | ||s||/ε_dual\n",
      "It 000 / 5000 | 7.59251e-01 | 3.79755e+01\n",
      "It 050 / 5000 | 1.42508e+00 | 1.06213e+02\n",
      "It 100 / 5000 | 2.21266e+00 | 1.37356e+02\n",
      "It 150 / 5000 | 2.51468e+00 | 8.90891e+01\n",
      "It 200 / 5000 | 2.28866e+00 | 8.54704e+01\n",
      "It 250 / 5000 | 2.08330e+00 | 5.70199e+01\n",
      "It 300 / 5000 | 1.55383e+00 | 5.29750e+01\n",
      "It 350 / 5000 | 1.32819e+00 | 4.22324e+01\n",
      "It 400 / 5000 | 1.05659e+00 | 3.02342e+01\n",
      "It 450 / 5000 | 8.97482e-01 | 2.73335e+01\n",
      "It 500 / 5000 | 7.71361e-01 | 2.28772e+01\n",
      "It 550 / 5000 | 6.29143e-01 | 2.01873e+01\n",
      "It 600 / 5000 | 5.32145e-01 | 2.05072e+01\n",
      "It 650 / 5000 | 5.13481e-01 | 1.59781e+01\n",
      "It 700 / 5000 | 4.56808e-01 | 1.52203e+01\n",
      "It 750 / 5000 | 4.03740e-01 | 1.50117e+01\n",
      "It 800 / 5000 | 4.08839e-01 | 1.27206e+01\n",
      "It 850 / 5000 | 3.05010e-01 | 1.29654e+01\n",
      "It 900 / 5000 | 3.44122e-01 | 1.02292e+01\n",
      "It 950 / 5000 | 2.42005e-01 | 1.22503e+01\n",
      "It 1000 / 5000 | 2.92177e-01 | 9.01658e+00\n",
      "It 1050 / 5000 | 2.14196e-01 | 1.04338e+01\n",
      "It 1100 / 5000 | 2.80993e-01 | 6.75432e+00\n",
      "It 1150 / 5000 | 1.54232e-01 | 9.75908e+00\n",
      "It 1200 / 5000 | 2.39132e-01 | 5.91794e+00\n",
      "It 1250 / 5000 | 1.67603e-01 | 7.75396e+00\n",
      "It 1300 / 5000 | 1.96174e-01 | 5.76836e+00\n",
      "It 1350 / 5000 | 1.25963e-01 | 7.20481e+00\n",
      "It 1400 / 5000 | 2.01712e-01 | 3.13799e+00\n",
      "It 1450 / 5000 | 1.06282e-01 | 6.37633e+00\n",
      "It 1500 / 5000 | 1.49110e-01 | 4.30979e+00\n",
      "It 1550 / 5000 | 1.21984e-01 | 4.73593e+00\n",
      "It 1600 / 5000 | 1.26365e-01 | 3.92201e+00\n",
      "It 1650 / 5000 | 9.11937e-02 | 4.58946e+00\n",
      "It 1700 / 5000 | 1.11364e-01 | 3.36975e+00\n",
      "It 1750 / 5000 | 9.95512e-02 | 3.33136e+00\n",
      "It 1800 / 5000 | 8.01464e-02 | 3.57582e+00\n",
      "It 1850 / 5000 | 8.42875e-02 | 3.03493e+00\n",
      "It 1900 / 5000 | 8.26156e-02 | 2.66980e+00\n",
      "It 1950 / 5000 | 6.76086e-02 | 2.84331e+00\n",
      "It 2000 / 5000 | 6.76434e-02 | 2.53752e+00\n",
      "It 2050 / 5000 | 6.95850e-02 | 2.06841e+00\n",
      "It 2100 / 5000 | 5.58115e-02 | 2.31142e+00\n",
      "It 2150 / 5000 | 5.68857e-02 | 1.99565e+00\n",
      "It 2200 / 5000 | 5.40910e-02 | 1.84137e+00\n",
      "It 2250 / 5000 | 4.54722e-02 | 1.87046e+00\n",
      "It 2300 / 5000 | 4.88371e-02 | 1.57464e+00\n",
      "It 2350 / 5000 | 3.95664e-02 | 1.65352e+00\n",
      "It 2400 / 5000 | 4.47579e-02 | 1.26873e+00\n",
      "It 2450 / 5000 | 2.83671e-02 | 1.63032e+00\n",
      "ADMM took 22.53415 seconds\n"
     ]
    },
    {
     "name": "stderr",
     "output_type": "stream",
     "text": [
      "c:\\users\\branko\\documents\\git projects\\emm\\env\\lib\\site-packages\\cvxpy-1.1.13-py3.9-win-amd64.egg\\cvxpy\\problems\\problem.py:1278: UserWarning: Solution may be inaccurate. Try another solver, adjusting the solver settings, or solve with verbose=True for more information.\n",
      "  warnings.warn(\n"
     ]
    },
    {
     "name": "stdout",
     "output_type": "stream",
     "text": [
      "CVX took 12.72914 seconds\n"
     ]
    },
    {
     "ename": "AssertionError",
     "evalue": "\nNot equal to tolerance rtol=1e-07, atol=0.001\n\nMismatched elements: 17 / 10000 (0.17%)\nMax absolute difference: 0.0733305\nMax relative difference: 1886.2590502\n x: array([0., 0., 0., ..., 0., 0., 0.])\n y: array([-1.559219e-05,  8.242142e-06, -3.883570e-05, ...,  7.719320e-06,\n       -3.882232e-05,  6.432740e-06])",
     "output_type": "error",
     "traceback": [
      "\u001b[1;31m---------------------------------------------------------------------------\u001b[0m",
      "\u001b[1;31mAssertionError\u001b[0m                            Traceback (most recent call last)",
      "\u001b[1;32m<ipython-input-1-3b9ca7d543b9>\u001b[0m in \u001b[0;36m<module>\u001b[1;34m\u001b[0m\n\u001b[0;32m     18\u001b[0m \u001b[0mw_cvx\u001b[0m\u001b[1;33m,\u001b[0m \u001b[0mout_c\u001b[0m \u001b[1;33m=\u001b[0m  \u001b[0memm\u001b[0m\u001b[1;33m(\u001b[0m\u001b[0mF\u001b[0m\u001b[1;33m,\u001b[0m \u001b[1;32mNone\u001b[0m\u001b[1;33m,\u001b[0m \u001b[0mlosses\u001b[0m\u001b[1;33m,\u001b[0m \u001b[0mreg\u001b[0m\u001b[1;33m,\u001b[0m \u001b[0moptimizer\u001b[0m\u001b[1;33m=\u001b[0m\u001b[1;34m\"cvx\"\u001b[0m\u001b[1;33m,\u001b[0m  \u001b[0mverbose\u001b[0m\u001b[1;33m=\u001b[0m\u001b[1;32mTrue\u001b[0m\u001b[1;33m)\u001b[0m\u001b[1;33m\u001b[0m\u001b[1;33m\u001b[0m\u001b[0m\n\u001b[0;32m     19\u001b[0m \u001b[1;33m\u001b[0m\u001b[0m\n\u001b[1;32m---> 20\u001b[1;33m \u001b[0mnp\u001b[0m\u001b[1;33m.\u001b[0m\u001b[0mtesting\u001b[0m\u001b[1;33m.\u001b[0m\u001b[0massert_allclose\u001b[0m\u001b[1;33m(\u001b[0m\u001b[0mw_admm\u001b[0m\u001b[1;33m,\u001b[0m \u001b[0mw_cvx\u001b[0m\u001b[1;33m,\u001b[0m \u001b[0matol\u001b[0m\u001b[1;33m=\u001b[0m\u001b[1;36m1e-3\u001b[0m\u001b[1;33m)\u001b[0m\u001b[1;33m\u001b[0m\u001b[1;33m\u001b[0m\u001b[0m\n\u001b[0m",
      "    \u001b[1;31m[... skipping hidden 1 frame]\u001b[0m\n",
      "\u001b[1;32mc:\\users\\branko\\documents\\git projects\\emm\\env\\lib\\site-packages\\numpy\\testing\\_private\\utils.py\u001b[0m in \u001b[0;36massert_array_compare\u001b[1;34m(comparison, x, y, err_msg, verbose, header, precision, equal_nan, equal_inf)\u001b[0m\n\u001b[0;32m    840\u001b[0m                                 \u001b[0mverbose\u001b[0m\u001b[1;33m=\u001b[0m\u001b[0mverbose\u001b[0m\u001b[1;33m,\u001b[0m \u001b[0mheader\u001b[0m\u001b[1;33m=\u001b[0m\u001b[0mheader\u001b[0m\u001b[1;33m,\u001b[0m\u001b[1;33m\u001b[0m\u001b[1;33m\u001b[0m\u001b[0m\n\u001b[0;32m    841\u001b[0m                                 names=('x', 'y'), precision=precision)\n\u001b[1;32m--> 842\u001b[1;33m             \u001b[1;32mraise\u001b[0m \u001b[0mAssertionError\u001b[0m\u001b[1;33m(\u001b[0m\u001b[0mmsg\u001b[0m\u001b[1;33m)\u001b[0m\u001b[1;33m\u001b[0m\u001b[1;33m\u001b[0m\u001b[0m\n\u001b[0m\u001b[0;32m    843\u001b[0m     \u001b[1;32mexcept\u001b[0m \u001b[0mValueError\u001b[0m\u001b[1;33m:\u001b[0m\u001b[1;33m\u001b[0m\u001b[1;33m\u001b[0m\u001b[0m\n\u001b[0;32m    844\u001b[0m         \u001b[1;32mimport\u001b[0m \u001b[0mtraceback\u001b[0m\u001b[1;33m\u001b[0m\u001b[1;33m\u001b[0m\u001b[0m\n",
      "\u001b[1;31mAssertionError\u001b[0m: \nNot equal to tolerance rtol=1e-07, atol=0.001\n\nMismatched elements: 17 / 10000 (0.17%)\nMax absolute difference: 0.0733305\nMax relative difference: 1886.2590502\n x: array([0., 0., 0., ..., 0., 0., 0.])\n y: array([-1.559219e-05,  8.242142e-06, -3.883570e-05, ...,  7.719320e-06,\n       -3.882232e-05,  6.432740e-06])"
     ]
    }
   ],
   "source": [
    "import numpy as np\n",
    "np.random.seed(1)\n",
    "from emm.losses import *\n",
    "from emm.regularizers import *\n",
    "from emm.solvers import *\n",
    "\n",
    "from emm import emm\n",
    "\n",
    "n = 20\n",
    "m = 10000\n",
    "F = np.random.randn(m, n)\n",
    "fdes1 = np.random.randn(n // 2)\n",
    "fdes2 = np.random.randn(n // 2)\n",
    "losses = [LeastSquaresLoss(fdes1), LeastSquaresLoss(fdes2)]\n",
    "reg = ZeroRegularizer()\n",
    "\n",
    "w_admm, out_a = emm(F, None, losses, reg, optimizer=\"admm\", verbose=True)\n",
    "w_cvx, out_c =  emm(F, None, losses, reg, optimizer=\"cvx\",  verbose=True)\n",
    "\n",
    "np.testing.assert_allclose(w_admm, w_cvx, atol=1e-3)"
   ]
  },
  {
   "cell_type": "code",
   "execution_count": null,
   "id": "6c280cbd",
   "metadata": {},
   "outputs": [],
   "source": []
  }
 ],
 "metadata": {
  "kernelspec": {
   "display_name": "Python 3",
   "language": "python",
   "name": "python3"
  },
  "language_info": {
   "codemirror_mode": {
    "name": "ipython",
    "version": 3
   },
   "file_extension": ".py",
   "mimetype": "text/x-python",
   "name": "python",
   "nbconvert_exporter": "python",
   "pygments_lexer": "ipython3",
   "version": "3.9.0"
  }
 },
 "nbformat": 4,
 "nbformat_minor": 5
}
