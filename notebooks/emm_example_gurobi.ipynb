{
 "cells": [
  {
   "cell_type": "markdown",
   "id": "f9635dc1",
   "metadata": {},
   "source": [
    "# Example of EMM for machine learning reweighting using ADMM optimisation"
   ]
  },
  {
   "cell_type": "markdown",
   "id": "4a97c3c6",
   "metadata": {},
   "source": [
    "Using the PIMA diabetes dataset we compare the original dataset with labels to the reweighted dataset with artificial labels. We begin by importing the PIMA diabetes dataset, it is already cleaned and does not have any missing values, outliers, etc. This example is also nice since all features are continuous and the labels are binary."
   ]
  },
  {
   "cell_type": "code",
   "execution_count": null,
   "id": "96a94bea",
   "metadata": {},
   "outputs": [],
   "source": [
    "# Get raw data, convert to csv, and import\n",
    "# Update directory\n",
    "import sys\n",
    "sys.path.insert(1, '../')\n",
    "# Import libraries\n",
    "from emm import *\n",
    "import os.path\n",
    "from get_data import get_data\n",
    "import pandas as pd\n",
    "import matplotlib.pyplot as plt\n",
    "from scipy import stats\n",
    "import numpy as np\n",
    "\n",
    "# Data locations\n",
    "raw_dir = \"../data/raw/pima_diabetes/archive.zip\"\n",
    "processed_dir = \"../data/processed/pima_diabetes/\"\n",
    "\n",
    "# If processed data does exist convert raw to csv\n",
    "if not os.path.exists(processed_dir + \"diabetes.csv\"):\n",
    "    get_data.RData_to_csv(raw_dir,processed_dir)\n",
    "    \n",
    "# Get data into dataframe\n",
    "df = pd.read_csv(processed_dir + \"diabetes.csv\")\n",
    "\n",
    "# Replace 0 with nan\n",
    "nan_cols = ['Glucose', 'BloodPressure','SkinThickness','Insulin','BMI']\n",
    "df[nan_cols]=df[nan_cols].replace({'0':np.nan,0:np.nan})"
   ]
  },
  {
   "cell_type": "markdown",
   "id": "42042dc4",
   "metadata": {},
   "source": [
    "Separating features from labels, useful for training ML models and for re-weighting."
   ]
  },
  {
   "cell_type": "code",
   "execution_count": null,
   "id": "4d779c23",
   "metadata": {},
   "outputs": [],
   "source": [
    "#train_test_splitting of the dataset\n",
    "X = df.drop(columns = 'Outcome')\n",
    "# Getting Predicting Value\n",
    "y = df['Outcome']"
   ]
  },
  {
   "cell_type": "markdown",
   "id": "e6fabb8a",
   "metadata": {},
   "source": [
    "First, we look at the means for each features according to outcome."
   ]
  },
  {
   "cell_type": "code",
   "execution_count": null,
   "id": "ede99a18",
   "metadata": {
    "scrolled": false
   },
   "outputs": [],
   "source": [
    "marginals_mean = df.groupby('Outcome').mean()\n",
    "display(marginals_mean)"
   ]
  },
  {
   "cell_type": "markdown",
   "id": "e176f6c6",
   "metadata": {},
   "source": [
    "We may also want to consider standard deviation of features."
   ]
  },
  {
   "cell_type": "code",
   "execution_count": null,
   "id": "4c2fcbf7",
   "metadata": {},
   "outputs": [],
   "source": [
    "marginals_std = df.groupby('Outcome').std()\n",
    "display(marginals_std)"
   ]
  },
  {
   "cell_type": "markdown",
   "id": "71b8fb72",
   "metadata": {},
   "source": [
    "### Matching marginals\n",
    "\n",
    "First we construct functions $F$ upon which we take expectations of under the weighted measure. Mathematically, we express this as\n",
    "$$ \\mathbb E[F(x)] = \\sum^N_{i=1} w_i F(x_i) $$"
   ]
  },
  {
   "cell_type": "code",
   "execution_count": null,
   "id": "fe17fd0a",
   "metadata": {},
   "outputs": [],
   "source": [
    "features = list(X)\n",
    "marginals = {}\n",
    "for feature in features:\n",
    "    marginals[feature] = ['mean', 'std']\n",
    "marginals"
   ]
  },
  {
   "cell_type": "code",
   "execution_count": null,
   "id": "2de102a4",
   "metadata": {},
   "outputs": [],
   "source": [
    "loss_0 = []\n",
    "loss_1 = []\n",
    "for feature in marginals.keys():\n",
    "    for fun in marginals[feature]:\n",
    "        marg = getattr(df[[feature,'Outcome']].groupby('Outcome'),fun)()\n",
    "        loss_0.append(EqualityLoss(marg.loc[0]))\n",
    "        loss_1.append(EqualityLoss(marg.loc[1]))"
   ]
  },
  {
   "cell_type": "code",
   "execution_count": null,
   "id": "f6ca52ea",
   "metadata": {
    "scrolled": false
   },
   "outputs": [],
   "source": [
    "regularizer = regularizers.EntropyRegularizer(limit=None)\n",
    "#regularizer = regularizers.ZeroRegularizer()\n",
    "w_0, out_0, sol_0 = emm(X, marginals, loss_0, regularizer, \n",
    "                        optimizer = 'gurobi', verbose=False, rho=25, \n",
    "                        eps_abs=1e-6, eps_rel=1e-6)\n",
    "w_1, out_1, sol_1 = emm(X, marginals, loss_1, regularizer,\n",
    "                     optimizer='gurobi', verbose=False, rho=24,\n",
    "                        eps_abs=1e-6, eps_rel=1e-6)"
   ]
  },
  {
   "cell_type": "code",
   "execution_count": null,
   "id": "0da33a3a",
   "metadata": {},
   "outputs": [],
   "source": [
    "X_0 = X.copy()\n",
    "X_0[\"weights\"] = w_0 \n",
    "X_1 = X.copy()\n",
    "X_1[\"weights\"] = w_1 \n",
    "\n",
    "# Set theoretical outcome to train on reweighted datasets\n",
    "X_0['Outcome'] = 0\n",
    "X_1['Outcome'] = 1\n",
    "\n",
    "df_w = pd.concat([X_0,X_1])"
   ]
  },
  {
   "cell_type": "code",
   "execution_count": null,
   "id": "810af26f",
   "metadata": {},
   "outputs": [],
   "source": [
    "df_valw = df_w.drop(columns=['Outcome','weights']).multiply(df_w['weights'], axis=\"index\")\n",
    "df_valw['Outcome'] = df_w['Outcome']"
   ]
  },
  {
   "cell_type": "code",
   "execution_count": null,
   "id": "0b93cfd2",
   "metadata": {},
   "outputs": [],
   "source": [
    "w_marginals = df_valw.groupby('Outcome').sum()"
   ]
  },
  {
   "cell_type": "code",
   "execution_count": null,
   "id": "461351fb",
   "metadata": {},
   "outputs": [],
   "source": [
    "display(marginals_mean)\n",
    "display(w_marginals)\n",
    "display(abs((marginals_mean - w_marginals)))"
   ]
  },
  {
   "cell_type": "code",
   "execution_count": null,
   "id": "3e084879",
   "metadata": {},
   "outputs": [],
   "source": [
    "std_w = pd.concat([abs(X_0[features] - marginals_mean.loc[0]),abs(X_1[features] - marginals_mean.loc[1])])\n",
    "std_w = std_w.multiply(df_w['weights'], axis=\"index\")\n",
    "std_w = pd.concat([std_w, df_w['Outcome']],axis=1)"
   ]
  },
  {
   "cell_type": "code",
   "execution_count": null,
   "id": "519d685d",
   "metadata": {},
   "outputs": [],
   "source": [
    "display(marginals_std)\n",
    "display(std_w.groupby('Outcome').sum())\n",
    "display(abs((marginals_std - std_w.groupby('Outcome').sum())))"
   ]
  },
  {
   "cell_type": "code",
   "execution_count": 3,
   "id": "dfca16e8",
   "metadata": {
    "scrolled": true
   },
   "outputs": [
    {
     "name": "stdout",
     "output_type": "stream",
     "text": [
      "Iteration     | ||r||/ε_pri | ||s||/ε_dual\n",
      "It 000 / 5000 | 3.77069e+01 | 1.90066e+03\n",
      "It 050 / 5000 | 4.70267e+00 | 1.88206e+02\n",
      "It 100 / 5000 | 4.09751e+00 | 1.20356e+02\n",
      "It 150 / 5000 | 4.09584e+00 | 6.52419e+01\n",
      "It 200 / 5000 | 3.82246e+00 | 5.50984e+01\n",
      "It 250 / 5000 | 3.76583e+00 | 5.22879e+01\n",
      "It 300 / 5000 | 3.77290e+00 | 3.75512e+01\n",
      "It 350 / 5000 | 3.64895e+00 | 3.92119e+01\n",
      "It 400 / 5000 | 3.68148e+00 | 3.21613e+01\n",
      "It 450 / 5000 | 3.67801e+00 | 2.92396e+01\n",
      "It 500 / 5000 | 3.63789e+00 | 2.96759e+01\n",
      "It 550 / 5000 | 3.63430e+00 | 2.71251e+01\n",
      "It 600 / 5000 | 3.64540e+00 | 2.35675e+01\n",
      "It 650 / 5000 | 3.59711e+00 | 2.50923e+01\n",
      "It 700 / 5000 | 3.59639e+00 | 2.30100e+01\n",
      "It 750 / 5000 | 3.64962e+00 | 1.61820e+01\n",
      "It 800 / 5000 | 3.54818e+00 | 2.24358e+01\n",
      "It 850 / 5000 | 3.56986e+00 | 1.92546e+01\n",
      "It 900 / 5000 | 3.60667e+00 | 1.41134e+01\n",
      "It 950 / 5000 | 3.57892e+00 | 1.48135e+01\n",
      "It 1000 / 5000 | 3.53703e+00 | 1.62815e+01\n",
      "It 1050 / 5000 | 3.56397e+00 | 1.31733e+01\n",
      "It 1100 / 5000 | 3.57106e+00 | 1.15349e+01\n",
      "It 1150 / 5000 | 3.51602e+00 | 1.46757e+01\n",
      "It 1200 / 5000 | 3.56168e+00 | 1.04521e+01\n",
      "It 1250 / 5000 | 3.54872e+00 | 1.06851e+01\n",
      "It 1300 / 5000 | 3.52683e+00 | 1.15501e+01\n",
      "It 1350 / 5000 | 3.53398e+00 | 1.03395e+01\n",
      "It 1400 / 5000 | 3.54577e+00 | 8.75309e+00\n",
      "It 1450 / 5000 | 3.53020e+00 | 9.34708e+00\n",
      "It 1500 / 5000 | 3.51534e+00 | 9.81826e+00\n",
      "It 1550 / 5000 | 3.52522e+00 | 8.43183e+00\n",
      "It 1600 / 5000 | 3.53934e+00 | 6.78747e+00\n",
      "It 1650 / 5000 | 3.49829e+00 | 9.29636e+00\n",
      "It 1700 / 5000 | 3.51892e+00 | 7.50185e+00\n",
      "It 1750 / 5000 | 3.53873e+00 | 5.43175e+00\n",
      "It 1800 / 5000 | 3.50517e+00 | 7.66092e+00\n",
      "It 1850 / 5000 | 3.49781e+00 | 7.76912e+00\n",
      "It 1900 / 5000 | 3.53628e+00 | 4.32961e+00\n",
      "It 1950 / 5000 | 3.50674e+00 | 6.46895e+00\n",
      "It 2000 / 5000 | 3.48276e+00 | 7.64174e+00\n",
      "It 2050 / 5000 | 3.53195e+00 | 3.70483e+00\n",
      "It 2100 / 5000 | 3.50771e+00 | 5.52948e+00\n",
      "It 2150 / 5000 | 3.48305e+00 | 6.81594e+00\n",
      "It 2200 / 5000 | 3.51936e+00 | 4.05929e+00\n",
      "It 2250 / 5000 | 3.51238e+00 | 4.40253e+00\n",
      "It 2300 / 5000 | 3.48508e+00 | 6.00502e+00\n",
      "It 2350 / 5000 | 3.50417e+00 | 4.57814e+00\n",
      "It 2400 / 5000 | 3.51399e+00 | 3.56055e+00\n",
      "It 2450 / 5000 | 3.48765e+00 | 5.24077e+00\n",
      "It 2500 / 5000 | 3.49032e+00 | 4.89450e+00\n",
      "It 2550 / 5000 | 3.51135e+00 | 3.15462e+00\n",
      "It 2600 / 5000 | 3.49438e+00 | 4.27354e+00\n",
      "It 2650 / 5000 | 3.48482e+00 | 4.69380e+00\n",
      "It 2700 / 5000 | 3.50253e+00 | 3.34348e+00\n",
      "It 2750 / 5000 | 3.50552e+00 | 2.92286e+00\n",
      "It 2800 / 5000 | 3.47845e+00 | 4.58951e+00\n",
      "It 2850 / 5000 | 3.49136e+00 | 3.68204e+00\n",
      "It 2900 / 5000 | 3.50798e+00 | 2.17363e+00\n",
      "It 2950 / 5000 | 3.47896e+00 | 4.15835e+00\n",
      "It 3000 / 5000 | 3.48342e+00 | 3.78115e+00\n",
      "It 3050 / 5000 | 3.50892e+00 | 1.53397e+00\n",
      "It 3100 / 5000 | 3.48430e+00 | 3.49147e+00\n",
      "It 3150 / 5000 | 3.47723e+00 | 3.78369e+00\n",
      "It 3200 / 5000 | 3.50428e+00 | 1.65111e+00\n",
      "It 3250 / 5000 | 3.48737e+00 | 2.97376e+00\n",
      "It 3300 / 5000 | 3.47276e+00 | 3.71057e+00\n",
      "It 3350 / 5000 | 3.49681e+00 | 2.04994e+00\n",
      "It 3400 / 5000 | 3.49298e+00 | 2.26937e+00\n",
      "It 3450 / 5000 | 3.47303e+00 | 3.42171e+00\n",
      "It 3500 / 5000 | 3.49119e+00 | 2.21575e+00\n",
      "It 3550 / 5000 | 3.49420e+00 | 1.87075e+00\n",
      "It 3600 / 5000 | 3.47855e+00 | 2.87384e+00\n",
      "It 3650 / 5000 | 3.47927e+00 | 2.75442e+00\n",
      "It 3700 / 5000 | 3.49356e+00 | 1.65011e+00\n",
      "It 3750 / 5000 | 3.48173e+00 | 2.45742e+00\n",
      "It 3800 / 5000 | 3.47457e+00 | 2.79455e+00\n",
      "It 3850 / 5000 | 3.48896e+00 | 1.80088e+00\n",
      "It 3900 / 5000 | 3.48939e+00 | 1.68842e+00\n",
      "It 3950 / 5000 | 3.47261e+00 | 2.69630e+00\n",
      "It 4000 / 5000 | 3.48494e+00 | 1.89519e+00\n",
      "It 4050 / 5000 | 3.49181e+00 | 1.23171e+00\n",
      "It 4100 / 5000 | 3.47232e+00 | 2.52982e+00\n",
      "It 4150 / 5000 | 3.47768e+00 | 2.17842e+00\n",
      "It 4200 / 5000 | 3.49160e+00 | 1.00974e+00\n",
      "It 4250 / 5000 | 3.47360e+00 | 2.29537e+00\n",
      "It 4300 / 5000 | 3.47351e+00 | 2.24804e+00\n",
      "It 4350 / 5000 | 3.49185e+00 | 7.17684e-01\n",
      "It 4400 / 5000 | 3.47866e+00 | 1.85000e+00\n",
      "It 4450 / 5000 | 3.47244e+00 | 2.15355e+00\n",
      "It 4500 / 5000 | 3.48741e+00 | 1.05800e+00\n",
      "It 4550 / 5000 | 3.48201e+00 | 1.47211e+00\n",
      "It 4600 / 5000 | 3.46951e+00 | 2.16432e+00\n",
      "It 4650 / 5000 | 3.48032e+00 | 1.49839e+00\n",
      "It 4700 / 5000 | 3.48280e+00 | 1.26427e+00\n",
      "It 4750 / 5000 | 3.47284e+00 | 1.86499e+00\n",
      "It 4800 / 5000 | 3.47613e+00 | 1.63649e+00\n",
      "It 4850 / 5000 | 3.48523e+00 | 8.85215e-01\n",
      "It 4900 / 5000 | 3.47706e+00 | 1.49910e+00\n",
      "It 4950 / 5000 | 3.47271e+00 | 1.71582e+00\n",
      "ADMM took 26.13583 seconds\n",
      "CVX took 0.51554 seconds\n",
      "None\n"
     ]
    },
    {
     "ename": "ValueError",
     "evalue": "matmul: Input operand 1 does not have enough dimensions (has 0, gufunc core with signature (n?,k),(k,m?)->(n?,m?) requires 1)",
     "output_type": "error",
     "traceback": [
      "\u001b[1;31m---------------------------------------------------------------------------\u001b[0m",
      "\u001b[1;31mValueError\u001b[0m                                Traceback (most recent call last)",
      "\u001b[1;32m<ipython-input-3-7af30f416a31>\u001b[0m in \u001b[0;36m<module>\u001b[1;34m\u001b[0m\n\u001b[0;32m     16\u001b[0m \u001b[1;33m\u001b[0m\u001b[0m\n\u001b[0;32m     17\u001b[0m \u001b[0mw_admm\u001b[0m\u001b[1;33m,\u001b[0m \u001b[0mout_a\u001b[0m \u001b[1;33m=\u001b[0m \u001b[0memm\u001b[0m\u001b[1;33m(\u001b[0m\u001b[0mF\u001b[0m\u001b[1;33m,\u001b[0m \u001b[1;32mNone\u001b[0m\u001b[1;33m,\u001b[0m \u001b[0mlosses\u001b[0m\u001b[1;33m,\u001b[0m \u001b[0mreg\u001b[0m\u001b[1;33m,\u001b[0m \u001b[0moptimizer\u001b[0m\u001b[1;33m=\u001b[0m\u001b[1;34m\"admm\"\u001b[0m\u001b[1;33m,\u001b[0m \u001b[0mverbose\u001b[0m\u001b[1;33m=\u001b[0m\u001b[1;32mTrue\u001b[0m\u001b[1;33m)\u001b[0m\u001b[1;33m\u001b[0m\u001b[1;33m\u001b[0m\u001b[0m\n\u001b[1;32m---> 18\u001b[1;33m \u001b[0mw_cvx\u001b[0m\u001b[1;33m,\u001b[0m \u001b[0mout_c\u001b[0m \u001b[1;33m=\u001b[0m  \u001b[0memm\u001b[0m\u001b[1;33m(\u001b[0m\u001b[0mF\u001b[0m\u001b[1;33m,\u001b[0m \u001b[1;32mNone\u001b[0m\u001b[1;33m,\u001b[0m \u001b[0mlosses\u001b[0m\u001b[1;33m,\u001b[0m \u001b[0mreg\u001b[0m\u001b[1;33m,\u001b[0m \u001b[0moptimizer\u001b[0m\u001b[1;33m=\u001b[0m\u001b[1;34m\"cvx\"\u001b[0m\u001b[1;33m,\u001b[0m  \u001b[0mverbose\u001b[0m\u001b[1;33m=\u001b[0m\u001b[1;32mTrue\u001b[0m\u001b[1;33m)\u001b[0m\u001b[1;33m\u001b[0m\u001b[1;33m\u001b[0m\u001b[0m\n\u001b[0m\u001b[0;32m     19\u001b[0m \u001b[1;33m\u001b[0m\u001b[0m\n\u001b[0;32m     20\u001b[0m \u001b[0mnp\u001b[0m\u001b[1;33m.\u001b[0m\u001b[0mtesting\u001b[0m\u001b[1;33m.\u001b[0m\u001b[0massert_allclose\u001b[0m\u001b[1;33m(\u001b[0m\u001b[0mw_admm\u001b[0m\u001b[1;33m,\u001b[0m \u001b[0mw_cvx\u001b[0m\u001b[1;33m,\u001b[0m \u001b[0matol\u001b[0m\u001b[1;33m=\u001b[0m\u001b[1;36m1e-3\u001b[0m\u001b[1;33m)\u001b[0m\u001b[1;33m\u001b[0m\u001b[1;33m\u001b[0m\u001b[0m\n",
      "\u001b[1;32mc:\\users\\branko\\documents\\git projects\\emm\\emm\\emm.py\u001b[0m in \u001b[0;36memm\u001b[1;34m(corpus, marginals, losses, regularizer, optimizer, lam, **kwargs)\u001b[0m\n\u001b[0;32m    124\u001b[0m \u001b[1;33m\u001b[0m\u001b[0m\n\u001b[0;32m    125\u001b[0m         \u001b[0mout\u001b[0m \u001b[1;33m=\u001b[0m \u001b[1;33m[\u001b[0m\u001b[1;33m]\u001b[0m\u001b[1;33m\u001b[0m\u001b[1;33m\u001b[0m\u001b[0m\n\u001b[1;32m--> 126\u001b[1;33m         \u001b[0mmeans\u001b[0m \u001b[1;33m=\u001b[0m \u001b[0mF\u001b[0m \u001b[1;33m@\u001b[0m \u001b[0mw\u001b[0m\u001b[1;33m\u001b[0m\u001b[1;33m\u001b[0m\u001b[0m\n\u001b[0m\u001b[0;32m    127\u001b[0m         \u001b[0mct\u001b[0m \u001b[1;33m=\u001b[0m \u001b[1;36m0\u001b[0m\u001b[1;33m\u001b[0m\u001b[1;33m\u001b[0m\u001b[0m\n\u001b[0;32m    128\u001b[0m         \u001b[1;32mfor\u001b[0m \u001b[0mm\u001b[0m \u001b[1;32min\u001b[0m \u001b[1;33m[\u001b[0m\u001b[0ml\u001b[0m\u001b[1;33m.\u001b[0m\u001b[0mm\u001b[0m \u001b[1;32mfor\u001b[0m \u001b[0ml\u001b[0m \u001b[1;32min\u001b[0m \u001b[0mlosses\u001b[0m\u001b[1;33m]\u001b[0m\u001b[1;33m:\u001b[0m\u001b[1;33m\u001b[0m\u001b[1;33m\u001b[0m\u001b[0m\n",
      "\u001b[1;31mValueError\u001b[0m: matmul: Input operand 1 does not have enough dimensions (has 0, gufunc core with signature (n?,k),(k,m?)->(n?,m?) requires 1)"
     ]
    }
   ],
   "source": [
    "import numpy as np\n",
    "np.random.seed(1)\n",
    "from emm.losses import *\n",
    "from emm.regularizers import *\n",
    "from emm.solvers import *\n",
    "\n",
    "from emm import emm\n",
    "\n",
    "n = 20\n",
    "m = 10000\n",
    "F = np.random.randn(m, n)\n",
    "fdes1 = np.random.randn(n // 2)\n",
    "fdes2 = np.random.randn(n // 2)\n",
    "losses = [EqualityLoss(fdes1), EqualityLoss(fdes2)]\n",
    "reg = ZeroRegularizer()\n",
    "\n",
    "w_admm, out_a = emm(F, None, losses, reg, optimizer=\"admm\", verbose=True)\n",
    "w_cvx, out_c =  emm(F, None, losses, reg, optimizer=\"cvx\",  verbose=True)\n",
    "\n",
    "np.testing.assert_allclose(w_admm, w_cvx, atol=1e-3)"
   ]
  },
  {
   "cell_type": "code",
   "execution_count": null,
   "id": "e84bc02a",
   "metadata": {},
   "outputs": [],
   "source": [
    "out_a"
   ]
  },
  {
   "cell_type": "code",
   "execution_count": null,
   "id": "86e178f1",
   "metadata": {},
   "outputs": [],
   "source": [
    "out_c"
   ]
  },
  {
   "cell_type": "code",
   "execution_count": null,
   "id": "091f3bb8",
   "metadata": {},
   "outputs": [],
   "source": [
    "fdes1"
   ]
  },
  {
   "cell_type": "code",
   "execution_count": null,
   "id": "3cc90b2d",
   "metadata": {},
   "outputs": [],
   "source": []
  }
 ],
 "metadata": {
  "kernelspec": {
   "display_name": "Python 3",
   "language": "python",
   "name": "python3"
  },
  "language_info": {
   "codemirror_mode": {
    "name": "ipython",
    "version": 3
   },
   "file_extension": ".py",
   "mimetype": "text/x-python",
   "name": "python",
   "nbconvert_exporter": "python",
   "pygments_lexer": "ipython3",
   "version": "3.9.0"
  }
 },
 "nbformat": 4,
 "nbformat_minor": 5
}
