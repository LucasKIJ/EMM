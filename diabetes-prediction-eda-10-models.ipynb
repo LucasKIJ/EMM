{
 "cells": [
  {
   "cell_type": "markdown",
   "metadata": {},
   "source": [
    "# Pima Indians Diabetes Database"
   ]
  },
  {
   "cell_type": "markdown",
   "metadata": {},
   "source": []
  },
  {
   "cell_type": "markdown",
   "metadata": {},
   "source": [
    "**TASK : Predict the onset of diabetes based on diagnostic measures**"
   ]
  },
  {
   "cell_type": "markdown",
   "metadata": {},
   "source": [
    "![](http://www.diabeteshealth.com/wp-content/uploads/2016/12/diabetes.jpg)"
   ]
  },
  {
   "cell_type": "markdown",
   "metadata": {},
   "source": []
  },
  {
   "cell_type": "markdown",
   "metadata": {},
   "source": [
    "***Diabetes is a disease that occurs when your blood glucose, also called blood sugar, is too high. Blood glucose is your main source of energy and comes from the food you eat. Insulin, a hormone made by the pancreas, helps glucose from food get into your cells to be used for energy.***\n",
    "\n",
    "**Early Signs of Diabetes**\n",
    "\n",
    "* Hunger and fatigue. Your body converts the food you eat into glucose that your cells use for energy*\n",
    "* Peeing more often and being thirstier\n",
    "* Dry mouth and itchy skin\n",
    "* Blurred vision\n"
   ]
  },
  {
   "cell_type": "markdown",
   "metadata": {},
   "source": [
    "# IMPORTING THE LIBRARIES"
   ]
  },
  {
   "cell_type": "code",
   "execution_count": 7,
   "metadata": {
    "execution": {
     "iopub.execute_input": "2021-06-21T11:54:27.716770Z",
     "iopub.status.busy": "2021-06-21T11:54:27.716190Z",
     "iopub.status.idle": "2021-06-21T11:54:27.724554Z",
     "shell.execute_reply": "2021-06-21T11:54:27.723497Z",
     "shell.execute_reply.started": "2021-06-21T11:54:27.716721Z"
    }
   },
   "outputs": [],
   "source": [
    "import numpy as np\n",
    "import pandas as pd\n",
    "import matplotlib.pyplot as plt\n",
    "import seaborn as sns\n",
    "import os\n",
    "import scipy as sp\n",
    "import warnings\n",
    "warnings.filterwarnings(\"ignore\")\n",
    "%matplotlib inline\n"
   ]
  },
  {
   "cell_type": "markdown",
   "metadata": {},
   "source": [
    "# LOADING THE DATASET"
   ]
  },
  {
   "cell_type": "code",
   "execution_count": 8,
   "metadata": {
    "execution": {
     "iopub.execute_input": "2021-06-21T11:54:27.728562Z",
     "iopub.status.busy": "2021-06-21T11:54:27.728088Z",
     "iopub.status.idle": "2021-06-21T11:54:27.741583Z",
     "shell.execute_reply": "2021-06-21T11:54:27.740604Z",
     "shell.execute_reply.started": "2021-06-21T11:54:27.728529Z"
    }
   },
   "outputs": [],
   "source": [
    "data = pd.read_csv('./data/processed/pima_diabetes/diabetes.csv') \n"
   ]
  },
  {
   "cell_type": "code",
   "execution_count": 9,
   "metadata": {
    "execution": {
     "iopub.execute_input": "2021-06-21T11:54:27.746219Z",
     "iopub.status.busy": "2021-06-21T11:54:27.745860Z",
     "iopub.status.idle": "2021-06-21T11:54:27.761922Z",
     "shell.execute_reply": "2021-06-21T11:54:27.760578Z",
     "shell.execute_reply.started": "2021-06-21T11:54:27.746187Z"
    }
   },
   "outputs": [
    {
     "data": {
      "text/html": [
       "<div>\n",
       "<style scoped>\n",
       "    .dataframe tbody tr th:only-of-type {\n",
       "        vertical-align: middle;\n",
       "    }\n",
       "\n",
       "    .dataframe tbody tr th {\n",
       "        vertical-align: top;\n",
       "    }\n",
       "\n",
       "    .dataframe thead th {\n",
       "        text-align: right;\n",
       "    }\n",
       "</style>\n",
       "<table border=\"1\" class=\"dataframe\">\n",
       "  <thead>\n",
       "    <tr style=\"text-align: right;\">\n",
       "      <th></th>\n",
       "      <th>Pregnancies</th>\n",
       "      <th>Glucose</th>\n",
       "      <th>BloodPressure</th>\n",
       "      <th>SkinThickness</th>\n",
       "      <th>Insulin</th>\n",
       "      <th>BMI</th>\n",
       "      <th>DiabetesPedigreeFunction</th>\n",
       "      <th>Age</th>\n",
       "      <th>Outcome</th>\n",
       "    </tr>\n",
       "  </thead>\n",
       "  <tbody>\n",
       "    <tr>\n",
       "      <th>0</th>\n",
       "      <td>6</td>\n",
       "      <td>148</td>\n",
       "      <td>72</td>\n",
       "      <td>35</td>\n",
       "      <td>0</td>\n",
       "      <td>33.6</td>\n",
       "      <td>0.627</td>\n",
       "      <td>50</td>\n",
       "      <td>1</td>\n",
       "    </tr>\n",
       "    <tr>\n",
       "      <th>1</th>\n",
       "      <td>1</td>\n",
       "      <td>85</td>\n",
       "      <td>66</td>\n",
       "      <td>29</td>\n",
       "      <td>0</td>\n",
       "      <td>26.6</td>\n",
       "      <td>0.351</td>\n",
       "      <td>31</td>\n",
       "      <td>0</td>\n",
       "    </tr>\n",
       "    <tr>\n",
       "      <th>2</th>\n",
       "      <td>8</td>\n",
       "      <td>183</td>\n",
       "      <td>64</td>\n",
       "      <td>0</td>\n",
       "      <td>0</td>\n",
       "      <td>23.3</td>\n",
       "      <td>0.672</td>\n",
       "      <td>32</td>\n",
       "      <td>1</td>\n",
       "    </tr>\n",
       "    <tr>\n",
       "      <th>3</th>\n",
       "      <td>1</td>\n",
       "      <td>89</td>\n",
       "      <td>66</td>\n",
       "      <td>23</td>\n",
       "      <td>94</td>\n",
       "      <td>28.1</td>\n",
       "      <td>0.167</td>\n",
       "      <td>21</td>\n",
       "      <td>0</td>\n",
       "    </tr>\n",
       "    <tr>\n",
       "      <th>4</th>\n",
       "      <td>0</td>\n",
       "      <td>137</td>\n",
       "      <td>40</td>\n",
       "      <td>35</td>\n",
       "      <td>168</td>\n",
       "      <td>43.1</td>\n",
       "      <td>2.288</td>\n",
       "      <td>33</td>\n",
       "      <td>1</td>\n",
       "    </tr>\n",
       "  </tbody>\n",
       "</table>\n",
       "</div>"
      ],
      "text/plain": [
       "   Pregnancies  Glucose  BloodPressure  SkinThickness  Insulin   BMI  \\\n",
       "0            6      148             72             35        0  33.6   \n",
       "1            1       85             66             29        0  26.6   \n",
       "2            8      183             64              0        0  23.3   \n",
       "3            1       89             66             23       94  28.1   \n",
       "4            0      137             40             35      168  43.1   \n",
       "\n",
       "   DiabetesPedigreeFunction  Age  Outcome  \n",
       "0                     0.627   50        1  \n",
       "1                     0.351   31        0  \n",
       "2                     0.672   32        1  \n",
       "3                     0.167   21        0  \n",
       "4                     2.288   33        1  "
      ]
     },
     "execution_count": 9,
     "metadata": {},
     "output_type": "execute_result"
    }
   ],
   "source": [
    "data.head()  #displaying the head of dataset\n"
   ]
  },
  {
   "cell_type": "code",
   "execution_count": 10,
   "metadata": {
    "execution": {
     "iopub.execute_input": "2021-06-21T11:54:27.763412Z",
     "iopub.status.busy": "2021-06-21T11:54:27.763098Z",
     "iopub.status.idle": "2021-06-21T11:54:27.809217Z",
     "shell.execute_reply": "2021-06-21T11:54:27.808201Z",
     "shell.execute_reply.started": "2021-06-21T11:54:27.763383Z"
    }
   },
   "outputs": [
    {
     "data": {
      "text/html": [
       "<div>\n",
       "<style scoped>\n",
       "    .dataframe tbody tr th:only-of-type {\n",
       "        vertical-align: middle;\n",
       "    }\n",
       "\n",
       "    .dataframe tbody tr th {\n",
       "        vertical-align: top;\n",
       "    }\n",
       "\n",
       "    .dataframe thead th {\n",
       "        text-align: right;\n",
       "    }\n",
       "</style>\n",
       "<table border=\"1\" class=\"dataframe\">\n",
       "  <thead>\n",
       "    <tr style=\"text-align: right;\">\n",
       "      <th></th>\n",
       "      <th>Pregnancies</th>\n",
       "      <th>Glucose</th>\n",
       "      <th>BloodPressure</th>\n",
       "      <th>SkinThickness</th>\n",
       "      <th>Insulin</th>\n",
       "      <th>BMI</th>\n",
       "      <th>DiabetesPedigreeFunction</th>\n",
       "      <th>Age</th>\n",
       "      <th>Outcome</th>\n",
       "    </tr>\n",
       "  </thead>\n",
       "  <tbody>\n",
       "    <tr>\n",
       "      <th>count</th>\n",
       "      <td>768.000000</td>\n",
       "      <td>768.000000</td>\n",
       "      <td>768.000000</td>\n",
       "      <td>768.000000</td>\n",
       "      <td>768.000000</td>\n",
       "      <td>768.000000</td>\n",
       "      <td>768.000000</td>\n",
       "      <td>768.000000</td>\n",
       "      <td>768.000000</td>\n",
       "    </tr>\n",
       "    <tr>\n",
       "      <th>mean</th>\n",
       "      <td>3.845052</td>\n",
       "      <td>120.894531</td>\n",
       "      <td>69.105469</td>\n",
       "      <td>20.536458</td>\n",
       "      <td>79.799479</td>\n",
       "      <td>31.992578</td>\n",
       "      <td>0.471876</td>\n",
       "      <td>33.240885</td>\n",
       "      <td>0.348958</td>\n",
       "    </tr>\n",
       "    <tr>\n",
       "      <th>std</th>\n",
       "      <td>3.369578</td>\n",
       "      <td>31.972618</td>\n",
       "      <td>19.355807</td>\n",
       "      <td>15.952218</td>\n",
       "      <td>115.244002</td>\n",
       "      <td>7.884160</td>\n",
       "      <td>0.331329</td>\n",
       "      <td>11.760232</td>\n",
       "      <td>0.476951</td>\n",
       "    </tr>\n",
       "    <tr>\n",
       "      <th>min</th>\n",
       "      <td>0.000000</td>\n",
       "      <td>0.000000</td>\n",
       "      <td>0.000000</td>\n",
       "      <td>0.000000</td>\n",
       "      <td>0.000000</td>\n",
       "      <td>0.000000</td>\n",
       "      <td>0.078000</td>\n",
       "      <td>21.000000</td>\n",
       "      <td>0.000000</td>\n",
       "    </tr>\n",
       "    <tr>\n",
       "      <th>25%</th>\n",
       "      <td>1.000000</td>\n",
       "      <td>99.000000</td>\n",
       "      <td>62.000000</td>\n",
       "      <td>0.000000</td>\n",
       "      <td>0.000000</td>\n",
       "      <td>27.300000</td>\n",
       "      <td>0.243750</td>\n",
       "      <td>24.000000</td>\n",
       "      <td>0.000000</td>\n",
       "    </tr>\n",
       "    <tr>\n",
       "      <th>50%</th>\n",
       "      <td>3.000000</td>\n",
       "      <td>117.000000</td>\n",
       "      <td>72.000000</td>\n",
       "      <td>23.000000</td>\n",
       "      <td>30.500000</td>\n",
       "      <td>32.000000</td>\n",
       "      <td>0.372500</td>\n",
       "      <td>29.000000</td>\n",
       "      <td>0.000000</td>\n",
       "    </tr>\n",
       "    <tr>\n",
       "      <th>75%</th>\n",
       "      <td>6.000000</td>\n",
       "      <td>140.250000</td>\n",
       "      <td>80.000000</td>\n",
       "      <td>32.000000</td>\n",
       "      <td>127.250000</td>\n",
       "      <td>36.600000</td>\n",
       "      <td>0.626250</td>\n",
       "      <td>41.000000</td>\n",
       "      <td>1.000000</td>\n",
       "    </tr>\n",
       "    <tr>\n",
       "      <th>max</th>\n",
       "      <td>17.000000</td>\n",
       "      <td>199.000000</td>\n",
       "      <td>122.000000</td>\n",
       "      <td>99.000000</td>\n",
       "      <td>846.000000</td>\n",
       "      <td>67.100000</td>\n",
       "      <td>2.420000</td>\n",
       "      <td>81.000000</td>\n",
       "      <td>1.000000</td>\n",
       "    </tr>\n",
       "  </tbody>\n",
       "</table>\n",
       "</div>"
      ],
      "text/plain": [
       "       Pregnancies     Glucose  BloodPressure  SkinThickness     Insulin  \\\n",
       "count   768.000000  768.000000     768.000000     768.000000  768.000000   \n",
       "mean      3.845052  120.894531      69.105469      20.536458   79.799479   \n",
       "std       3.369578   31.972618      19.355807      15.952218  115.244002   \n",
       "min       0.000000    0.000000       0.000000       0.000000    0.000000   \n",
       "25%       1.000000   99.000000      62.000000       0.000000    0.000000   \n",
       "50%       3.000000  117.000000      72.000000      23.000000   30.500000   \n",
       "75%       6.000000  140.250000      80.000000      32.000000  127.250000   \n",
       "max      17.000000  199.000000     122.000000      99.000000  846.000000   \n",
       "\n",
       "              BMI  DiabetesPedigreeFunction         Age     Outcome  \n",
       "count  768.000000                768.000000  768.000000  768.000000  \n",
       "mean    31.992578                  0.471876   33.240885    0.348958  \n",
       "std      7.884160                  0.331329   11.760232    0.476951  \n",
       "min      0.000000                  0.078000   21.000000    0.000000  \n",
       "25%     27.300000                  0.243750   24.000000    0.000000  \n",
       "50%     32.000000                  0.372500   29.000000    0.000000  \n",
       "75%     36.600000                  0.626250   41.000000    1.000000  \n",
       "max     67.100000                  2.420000   81.000000    1.000000  "
      ]
     },
     "execution_count": 10,
     "metadata": {},
     "output_type": "execute_result"
    }
   ],
   "source": [
    "data.describe()      #description of dataset \n"
   ]
  },
  {
   "cell_type": "code",
   "execution_count": 11,
   "metadata": {
    "execution": {
     "iopub.execute_input": "2021-06-21T11:54:27.810401Z",
     "iopub.status.busy": "2021-06-21T11:54:27.810099Z",
     "iopub.status.idle": "2021-06-21T11:54:27.825664Z",
     "shell.execute_reply": "2021-06-21T11:54:27.824519Z",
     "shell.execute_reply.started": "2021-06-21T11:54:27.810374Z"
    }
   },
   "outputs": [
    {
     "name": "stdout",
     "output_type": "stream",
     "text": [
      "<class 'pandas.core.frame.DataFrame'>\n",
      "RangeIndex: 768 entries, 0 to 767\n",
      "Data columns (total 9 columns):\n",
      " #   Column                    Non-Null Count  Dtype  \n",
      "---  ------                    --------------  -----  \n",
      " 0   Pregnancies               768 non-null    int64  \n",
      " 1   Glucose                   768 non-null    int64  \n",
      " 2   BloodPressure             768 non-null    int64  \n",
      " 3   SkinThickness             768 non-null    int64  \n",
      " 4   Insulin                   768 non-null    int64  \n",
      " 5   BMI                       768 non-null    float64\n",
      " 6   DiabetesPedigreeFunction  768 non-null    float64\n",
      " 7   Age                       768 non-null    int64  \n",
      " 8   Outcome                   768 non-null    int64  \n",
      "dtypes: float64(2), int64(7)\n",
      "memory usage: 54.1 KB\n"
     ]
    }
   ],
   "source": [
    "data.info()"
   ]
  },
  {
   "cell_type": "code",
   "execution_count": 12,
   "metadata": {
    "execution": {
     "iopub.execute_input": "2021-06-21T11:54:27.867902Z",
     "iopub.status.busy": "2021-06-21T11:54:27.867468Z",
     "iopub.status.idle": "2021-06-21T11:54:27.876290Z",
     "shell.execute_reply": "2021-06-21T11:54:27.875235Z",
     "shell.execute_reply.started": "2021-06-21T11:54:27.867856Z"
    }
   },
   "outputs": [
    {
     "data": {
      "text/plain": [
       "Pregnancies                   int64\n",
       "Glucose                       int64\n",
       "BloodPressure                 int64\n",
       "SkinThickness                 int64\n",
       "Insulin                       int64\n",
       "BMI                         float64\n",
       "DiabetesPedigreeFunction    float64\n",
       "Age                           int64\n",
       "Outcome                       int64\n",
       "dtype: object"
      ]
     },
     "execution_count": 12,
     "metadata": {},
     "output_type": "execute_result"
    }
   ],
   "source": [
    "data.dtypes"
   ]
  },
  {
   "cell_type": "code",
   "execution_count": 13,
   "metadata": {
    "execution": {
     "iopub.execute_input": "2021-06-21T11:54:27.878422Z",
     "iopub.status.busy": "2021-06-21T11:54:27.877967Z",
     "iopub.status.idle": "2021-06-21T11:54:27.888711Z",
     "shell.execute_reply": "2021-06-21T11:54:27.887756Z",
     "shell.execute_reply.started": "2021-06-21T11:54:27.878375Z"
    }
   },
   "outputs": [
    {
     "data": {
      "text/plain": [
       "Index(['Pregnancies', 'Glucose', 'BloodPressure', 'SkinThickness', 'Insulin',\n",
       "       'BMI', 'DiabetesPedigreeFunction', 'Age', 'Outcome'],\n",
       "      dtype='object')"
      ]
     },
     "execution_count": 13,
     "metadata": {},
     "output_type": "execute_result"
    }
   ],
   "source": [
    "data.columns"
   ]
  },
  {
   "cell_type": "markdown",
   "metadata": {},
   "source": [
    "***Checking Null Values***"
   ]
  },
  {
   "cell_type": "markdown",
   "metadata": {},
   "source": [
    "# Exploratory Data Analysis"
   ]
  },
  {
   "cell_type": "code",
   "execution_count": 14,
   "metadata": {
    "execution": {
     "iopub.execute_input": "2021-06-21T11:54:29.583952Z",
     "iopub.status.busy": "2021-06-21T11:54:29.583549Z",
     "iopub.status.idle": "2021-06-21T11:54:29.611538Z",
     "shell.execute_reply": "2021-06-21T11:54:29.610485Z",
     "shell.execute_reply.started": "2021-06-21T11:54:29.583914Z"
    },
    "scrolled": true
   },
   "outputs": [
    {
     "data": {
      "text/html": [
       "<div>\n",
       "<style scoped>\n",
       "    .dataframe tbody tr th:only-of-type {\n",
       "        vertical-align: middle;\n",
       "    }\n",
       "\n",
       "    .dataframe tbody tr th {\n",
       "        vertical-align: top;\n",
       "    }\n",
       "\n",
       "    .dataframe thead th {\n",
       "        text-align: right;\n",
       "    }\n",
       "</style>\n",
       "<table border=\"1\" class=\"dataframe\">\n",
       "  <thead>\n",
       "    <tr style=\"text-align: right;\">\n",
       "      <th></th>\n",
       "      <th>Pregnancies</th>\n",
       "      <th>Glucose</th>\n",
       "      <th>BloodPressure</th>\n",
       "      <th>SkinThickness</th>\n",
       "      <th>Insulin</th>\n",
       "      <th>BMI</th>\n",
       "      <th>DiabetesPedigreeFunction</th>\n",
       "      <th>Age</th>\n",
       "      <th>Outcome</th>\n",
       "    </tr>\n",
       "  </thead>\n",
       "  <tbody>\n",
       "    <tr>\n",
       "      <th>Pregnancies</th>\n",
       "      <td>1.000000</td>\n",
       "      <td>0.129459</td>\n",
       "      <td>0.141282</td>\n",
       "      <td>-0.081672</td>\n",
       "      <td>-0.073535</td>\n",
       "      <td>0.017683</td>\n",
       "      <td>-0.033523</td>\n",
       "      <td>0.544341</td>\n",
       "      <td>0.221898</td>\n",
       "    </tr>\n",
       "    <tr>\n",
       "      <th>Glucose</th>\n",
       "      <td>0.129459</td>\n",
       "      <td>1.000000</td>\n",
       "      <td>0.152590</td>\n",
       "      <td>0.057328</td>\n",
       "      <td>0.331357</td>\n",
       "      <td>0.221071</td>\n",
       "      <td>0.137337</td>\n",
       "      <td>0.263514</td>\n",
       "      <td>0.466581</td>\n",
       "    </tr>\n",
       "    <tr>\n",
       "      <th>BloodPressure</th>\n",
       "      <td>0.141282</td>\n",
       "      <td>0.152590</td>\n",
       "      <td>1.000000</td>\n",
       "      <td>0.207371</td>\n",
       "      <td>0.088933</td>\n",
       "      <td>0.281805</td>\n",
       "      <td>0.041265</td>\n",
       "      <td>0.239528</td>\n",
       "      <td>0.065068</td>\n",
       "    </tr>\n",
       "    <tr>\n",
       "      <th>SkinThickness</th>\n",
       "      <td>-0.081672</td>\n",
       "      <td>0.057328</td>\n",
       "      <td>0.207371</td>\n",
       "      <td>1.000000</td>\n",
       "      <td>0.436783</td>\n",
       "      <td>0.392573</td>\n",
       "      <td>0.183928</td>\n",
       "      <td>-0.113970</td>\n",
       "      <td>0.074752</td>\n",
       "    </tr>\n",
       "    <tr>\n",
       "      <th>Insulin</th>\n",
       "      <td>-0.073535</td>\n",
       "      <td>0.331357</td>\n",
       "      <td>0.088933</td>\n",
       "      <td>0.436783</td>\n",
       "      <td>1.000000</td>\n",
       "      <td>0.197859</td>\n",
       "      <td>0.185071</td>\n",
       "      <td>-0.042163</td>\n",
       "      <td>0.130548</td>\n",
       "    </tr>\n",
       "    <tr>\n",
       "      <th>BMI</th>\n",
       "      <td>0.017683</td>\n",
       "      <td>0.221071</td>\n",
       "      <td>0.281805</td>\n",
       "      <td>0.392573</td>\n",
       "      <td>0.197859</td>\n",
       "      <td>1.000000</td>\n",
       "      <td>0.140647</td>\n",
       "      <td>0.036242</td>\n",
       "      <td>0.292695</td>\n",
       "    </tr>\n",
       "    <tr>\n",
       "      <th>DiabetesPedigreeFunction</th>\n",
       "      <td>-0.033523</td>\n",
       "      <td>0.137337</td>\n",
       "      <td>0.041265</td>\n",
       "      <td>0.183928</td>\n",
       "      <td>0.185071</td>\n",
       "      <td>0.140647</td>\n",
       "      <td>1.000000</td>\n",
       "      <td>0.033561</td>\n",
       "      <td>0.173844</td>\n",
       "    </tr>\n",
       "    <tr>\n",
       "      <th>Age</th>\n",
       "      <td>0.544341</td>\n",
       "      <td>0.263514</td>\n",
       "      <td>0.239528</td>\n",
       "      <td>-0.113970</td>\n",
       "      <td>-0.042163</td>\n",
       "      <td>0.036242</td>\n",
       "      <td>0.033561</td>\n",
       "      <td>1.000000</td>\n",
       "      <td>0.238356</td>\n",
       "    </tr>\n",
       "    <tr>\n",
       "      <th>Outcome</th>\n",
       "      <td>0.221898</td>\n",
       "      <td>0.466581</td>\n",
       "      <td>0.065068</td>\n",
       "      <td>0.074752</td>\n",
       "      <td>0.130548</td>\n",
       "      <td>0.292695</td>\n",
       "      <td>0.173844</td>\n",
       "      <td>0.238356</td>\n",
       "      <td>1.000000</td>\n",
       "    </tr>\n",
       "  </tbody>\n",
       "</table>\n",
       "</div>"
      ],
      "text/plain": [
       "                          Pregnancies   Glucose  BloodPressure  SkinThickness  \\\n",
       "Pregnancies                  1.000000  0.129459       0.141282      -0.081672   \n",
       "Glucose                      0.129459  1.000000       0.152590       0.057328   \n",
       "BloodPressure                0.141282  0.152590       1.000000       0.207371   \n",
       "SkinThickness               -0.081672  0.057328       0.207371       1.000000   \n",
       "Insulin                     -0.073535  0.331357       0.088933       0.436783   \n",
       "BMI                          0.017683  0.221071       0.281805       0.392573   \n",
       "DiabetesPedigreeFunction    -0.033523  0.137337       0.041265       0.183928   \n",
       "Age                          0.544341  0.263514       0.239528      -0.113970   \n",
       "Outcome                      0.221898  0.466581       0.065068       0.074752   \n",
       "\n",
       "                           Insulin       BMI  DiabetesPedigreeFunction  \\\n",
       "Pregnancies              -0.073535  0.017683                 -0.033523   \n",
       "Glucose                   0.331357  0.221071                  0.137337   \n",
       "BloodPressure             0.088933  0.281805                  0.041265   \n",
       "SkinThickness             0.436783  0.392573                  0.183928   \n",
       "Insulin                   1.000000  0.197859                  0.185071   \n",
       "BMI                       0.197859  1.000000                  0.140647   \n",
       "DiabetesPedigreeFunction  0.185071  0.140647                  1.000000   \n",
       "Age                      -0.042163  0.036242                  0.033561   \n",
       "Outcome                   0.130548  0.292695                  0.173844   \n",
       "\n",
       "                               Age   Outcome  \n",
       "Pregnancies               0.544341  0.221898  \n",
       "Glucose                   0.263514  0.466581  \n",
       "BloodPressure             0.239528  0.065068  \n",
       "SkinThickness            -0.113970  0.074752  \n",
       "Insulin                  -0.042163  0.130548  \n",
       "BMI                       0.036242  0.292695  \n",
       "DiabetesPedigreeFunction  0.033561  0.173844  \n",
       "Age                       1.000000  0.238356  \n",
       "Outcome                   0.238356  1.000000  "
      ]
     },
     "execution_count": 14,
     "metadata": {},
     "output_type": "execute_result"
    }
   ],
   "source": [
    "data.corr()"
   ]
  },
  {
   "cell_type": "code",
   "execution_count": 15,
   "metadata": {
    "execution": {
     "iopub.execute_input": "2021-06-21T11:54:30.653409Z",
     "iopub.status.busy": "2021-06-21T11:54:30.653001Z",
     "iopub.status.idle": "2021-06-21T11:54:31.393587Z",
     "shell.execute_reply": "2021-06-21T11:54:31.392461Z",
     "shell.execute_reply.started": "2021-06-21T11:54:30.653372Z"
    }
   },
   "outputs": [
    {
     "data": {
      "text/plain": [
       "<AxesSubplot:>"
      ]
     },
     "execution_count": 15,
     "metadata": {},
     "output_type": "execute_result"
    },
    {
     "data": {
      "image/png": "[encoded data removed]",
      "text/plain": [
       "<Figure size 864x720 with 2 Axes>"
      ]
     },
     "metadata": {
      "needs_background": "light"
     },
     "output_type": "display_data"
    }
   ],
   "source": [
    "plt.figure(figsize = (12,10))\n",
    "\n",
    "sns.heatmap(data.corr(), annot =True)\n",
    "\n"
   ]
  },
  {
   "cell_type": "code",
   "execution_count": 16,
   "metadata": {
    "execution": {
     "iopub.execute_input": "2021-06-21T11:54:31.502638Z",
     "iopub.status.busy": "2021-06-21T11:54:31.502249Z",
     "iopub.status.idle": "2021-06-21T11:54:33.024060Z",
     "shell.execute_reply": "2021-06-21T11:54:33.023236Z",
     "shell.execute_reply.started": "2021-06-21T11:54:31.502602Z"
    }
   },
   "outputs": [
    {
     "data": {
      "image/png": "[encoded data removed]",
      "text/plain": [
       "<Figure size 1296x864 with 9 Axes>"
      ]
     },
     "metadata": {
      "needs_background": "light"
     },
     "output_type": "display_data"
    }
   ],
   "source": [
    "data.hist(figsize=(18,12))\n",
    "plt.show()\n",
    "\n"
   ]
  },
  {
   "cell_type": "markdown",
   "metadata": {},
   "source": [
    "# TRAINING AND TESTING DATA"
   ]
  },
  {
   "cell_type": "code",
   "execution_count": 17,
   "metadata": {
    "execution": {
     "iopub.execute_input": "2021-06-21T11:55:13.894298Z",
     "iopub.status.busy": "2021-06-21T11:55:13.893767Z",
     "iopub.status.idle": "2021-06-21T11:55:14.112342Z",
     "shell.execute_reply": "2021-06-21T11:55:14.110561Z",
     "shell.execute_reply.started": "2021-06-21T11:55:13.894256Z"
    }
   },
   "outputs": [],
   "source": [
    "#train_test_splitting of the dataset\n",
    "\n",
    "x = data.drop(columns = 'Outcome')\n",
    "\n",
    "# Getting Predicting Value\n",
    "y = data['Outcome']\n",
    "\n",
    "from sklearn.model_selection import train_test_split \n",
    "x_train,x_test,y_train,y_test = train_test_split(x,y,test_size=0.2,random_state=0)\n"
   ]
  },
  {
   "cell_type": "code",
   "execution_count": 18,
   "metadata": {
    "execution": {
     "iopub.execute_input": "2021-06-21T11:55:14.114658Z",
     "iopub.status.busy": "2021-06-21T11:55:14.114293Z",
     "iopub.status.idle": "2021-06-21T11:55:14.122250Z",
     "shell.execute_reply": "2021-06-21T11:55:14.121322Z",
     "shell.execute_reply.started": "2021-06-21T11:55:14.114626Z"
    }
   },
   "outputs": [
    {
     "name": "stdout",
     "output_type": "stream",
     "text": [
      "614\n",
      "154\n",
      "614\n",
      "154\n"
     ]
    }
   ],
   "source": [
    "print(len(x_train))\n",
    "print(len(x_test))\n",
    "print(len(y_train))\n",
    "print(len(y_test))\n"
   ]
  },
  {
   "cell_type": "markdown",
   "metadata": {},
   "source": [
    "# MODELS"
   ]
  },
  {
   "cell_type": "markdown",
   "metadata": {},
   "source": [
    "# 1. Logistic Regression"
   ]
  },
  {
   "cell_type": "code",
   "execution_count": 25,
   "metadata": {
    "execution": {
     "iopub.execute_input": "2021-06-21T11:55:14.123991Z",
     "iopub.status.busy": "2021-06-21T11:55:14.123671Z",
     "iopub.status.idle": "2021-06-21T11:55:14.277281Z",
     "shell.execute_reply": "2021-06-21T11:55:14.275870Z",
     "shell.execute_reply.started": "2021-06-21T11:55:14.123961Z"
    }
   },
   "outputs": [
    {
     "data": {
      "text/plain": [
       "LogisticRegression()"
      ]
     },
     "execution_count": 25,
     "metadata": {},
     "output_type": "execute_result"
    }
   ],
   "source": [
    "from sklearn.linear_model import LogisticRegression\n",
    "weights_train = np.ones(614)/768\n",
    "weights_test = np.ones(768-614)/768\n",
    "reg = LogisticRegression()\n",
    "reg.fit(x_train,y_train,sample_weight=weights_train)"
   ]
  },
  {
   "cell_type": "code",
   "execution_count": 26,
   "metadata": {
    "execution": {
     "iopub.execute_input": "2021-06-21T11:55:14.278980Z",
     "iopub.status.busy": "2021-06-21T11:55:14.278640Z",
     "iopub.status.idle": "2021-06-21T11:55:14.305134Z",
     "shell.execute_reply": "2021-06-21T11:55:14.303859Z",
     "shell.execute_reply.started": "2021-06-21T11:55:14.278950Z"
    }
   },
   "outputs": [
    {
     "name": "stdout",
     "output_type": "stream",
     "text": [
      "Classification Report is:\n",
      "               precision    recall  f1-score   support\n",
      "\n",
      "           0       0.83      0.90      0.86 0.13932291666666657\n",
      "           1       0.72      0.60      0.65 0.061197916666666706\n",
      "\n",
      "    accuracy                           0.81 0.2005208333333333\n",
      "   macro avg       0.78      0.75      0.76 0.2005208333333333\n",
      "weighted avg       0.80      0.81      0.80 0.2005208333333333\n",
      "\n",
      "Confusion Matrix:\n",
      " [[96 11]\n",
      " [19 28]]\n",
      "Training Score:\n",
      " 76.2214983713355\n",
      "Mean Squared Error:\n",
      " 0.19480519480519481\n",
      "R2 score is:\n",
      " 0.08132829588387358\n"
     ]
    }
   ],
   "source": [
    "y_pred=reg.predict(x_test)\n",
    "from sklearn.metrics import accuracy_score,classification_report,confusion_matrix\n",
    "from sklearn.metrics import r2_score\n",
    "from sklearn.metrics import mean_squared_error\n",
    "print(\"Classification Report is:\\n\",classification_report(y_test,y_pred,sample_weight=weights_test))\n",
    "print(\"Confusion Matrix:\\n\",confusion_matrix(y_test,y_pred))\n",
    "print(\"Training Score:\\n\",reg.score(x_train,y_train)*100)\n",
    "print(\"Mean Squared Error:\\n\",mean_squared_error(y_test,y_pred))\n",
    "print(\"R2 score is:\\n\",r2_score(y_test,y_pred))\n"
   ]
  },
  {
   "cell_type": "code",
   "execution_count": 27,
   "metadata": {
    "execution": {
     "iopub.execute_input": "2021-06-21T11:55:14.306964Z",
     "iopub.status.busy": "2021-06-21T11:55:14.306606Z",
     "iopub.status.idle": "2021-06-21T11:55:14.314647Z",
     "shell.execute_reply": "2021-06-21T11:55:14.312748Z",
     "shell.execute_reply.started": "2021-06-21T11:55:14.306926Z"
    }
   },
   "outputs": [
    {
     "name": "stdout",
     "output_type": "stream",
     "text": [
      "80.51948051948052\n"
     ]
    }
   ],
   "source": [
    "print(accuracy_score(y_test,y_pred)*100)"
   ]
  },
  {
   "cell_type": "markdown",
   "metadata": {},
   "source": [
    "**So we get a accuracy score of 82.46 % using Logistic Regression**"
   ]
  },
  {
   "cell_type": "markdown",
   "metadata": {},
   "source": [
    "# 2. KNeighborsClassifier"
   ]
  },
  {
   "cell_type": "code",
   "execution_count": null,
   "metadata": {
    "execution": {
     "iopub.execute_input": "2021-06-13T20:03:31.067271Z",
     "iopub.status.busy": "2021-06-13T20:03:31.066629Z",
     "iopub.status.idle": "2021-06-13T20:03:31.08779Z",
     "shell.execute_reply": "2021-06-13T20:03:31.086805Z",
     "shell.execute_reply.started": "2021-06-13T20:03:31.067103Z"
    }
   },
   "outputs": [],
   "source": [
    "from sklearn.neighbors import KNeighborsClassifier\n",
    "knn=KNeighborsClassifier(n_neighbors=7)\n",
    "\n",
    "knn.fit(x_train,y_train)\n"
   ]
  },
  {
   "cell_type": "code",
   "execution_count": null,
   "metadata": {
    "execution": {
     "iopub.execute_input": "2021-06-13T20:03:31.089411Z",
     "iopub.status.busy": "2021-06-13T20:03:31.089125Z",
     "iopub.status.idle": "2021-06-13T20:03:31.152033Z",
     "shell.execute_reply": "2021-06-13T20:03:31.150904Z",
     "shell.execute_reply.started": "2021-06-13T20:03:31.089385Z"
    }
   },
   "outputs": [],
   "source": [
    "y_pred=knn.predict(x_test)\n",
    "from sklearn.metrics import accuracy_score,classification_report,confusion_matrix\n",
    "from sklearn.metrics import r2_score\n",
    "from sklearn.metrics import mean_squared_error\n",
    "print(\"Classification Report is:\\n\",classification_report(y_test,y_pred))\n",
    "print(\"Confusion Matrix:\\n\",confusion_matrix(y_test,y_pred))\n",
    "print(\"Training Score:\\n\",knn.score(x_train,y_train)*100)\n",
    "print(\"Mean Squared Error:\\n\",mean_squared_error(y_test,y_pred))\n",
    "print(\"R2 score is:\\n\",r2_score(y_test,y_pred))"
   ]
  },
  {
   "cell_type": "code",
   "execution_count": null,
   "metadata": {
    "execution": {
     "iopub.execute_input": "2021-06-13T20:03:31.155902Z",
     "iopub.status.busy": "2021-06-13T20:03:31.155599Z",
     "iopub.status.idle": "2021-06-13T20:03:31.16186Z",
     "shell.execute_reply": "2021-06-13T20:03:31.160707Z",
     "shell.execute_reply.started": "2021-06-13T20:03:31.155875Z"
    }
   },
   "outputs": [],
   "source": [
    "print(accuracy_score(y_test,y_pred)*100)\n",
    "\n"
   ]
  },
  {
   "cell_type": "markdown",
   "metadata": {},
   "source": [
    "**So we get a accuracy score of 75.97 % using KNeighborsClassifier**"
   ]
  },
  {
   "cell_type": "markdown",
   "metadata": {},
   "source": [
    "# 3. SVC"
   ]
  },
  {
   "cell_type": "code",
   "execution_count": 52,
   "metadata": {
    "execution": {
     "iopub.execute_input": "2021-06-13T20:03:31.164082Z",
     "iopub.status.busy": "2021-06-13T20:03:31.163753Z",
     "iopub.status.idle": "2021-06-13T20:03:31.197406Z",
     "shell.execute_reply": "2021-06-13T20:03:31.196363Z",
     "shell.execute_reply.started": "2021-06-13T20:03:31.16404Z"
    }
   },
   "outputs": [
    {
     "data": {
      "text/plain": [
       "SVC(C=100)"
      ]
     },
     "execution_count": 52,
     "metadata": {},
     "output_type": "execute_result"
    }
   ],
   "source": [
    "from sklearn.svm import SVC\n",
    "\n",
    "svc = SVC(C=100)\n",
    "svc.fit(x_train, y_train)\n"
   ]
  },
  {
   "cell_type": "code",
   "execution_count": 53,
   "metadata": {
    "execution": {
     "iopub.execute_input": "2021-06-13T20:03:31.198852Z",
     "iopub.status.busy": "2021-06-13T20:03:31.198568Z",
     "iopub.status.idle": "2021-06-13T20:03:31.23859Z",
     "shell.execute_reply": "2021-06-13T20:03:31.237524Z",
     "shell.execute_reply.started": "2021-06-13T20:03:31.198825Z"
    }
   },
   "outputs": [
    {
     "name": "stdout",
     "output_type": "stream",
     "text": [
      "Classification Report is:\n",
      "               precision    recall  f1-score   support\n",
      "\n",
      "           0       0.83      0.93      0.88       107\n",
      "           1       0.77      0.57      0.66        47\n",
      "\n",
      "    accuracy                           0.82       154\n",
      "   macro avg       0.80      0.75      0.77       154\n",
      "weighted avg       0.81      0.82      0.81       154\n",
      "\n",
      "Confusion Matrix:\n",
      " [[99  8]\n",
      " [20 27]]\n",
      "Training Score:\n",
      " 78.99022801302932\n",
      "Mean Squared Error:\n",
      " 0.18181818181818182\n",
      "R2 score is:\n",
      " 0.14257307615828196\n"
     ]
    }
   ],
   "source": [
    "y_pred=svc.predict(x_test)\n",
    "from sklearn.metrics import accuracy_score,classification_report,confusion_matrix\n",
    "from sklearn.metrics import r2_score\n",
    "from sklearn.metrics import mean_squared_error\n",
    "print(\"Classification Report is:\\n\",classification_report(y_test,y_pred))\n",
    "print(\"Confusion Matrix:\\n\",confusion_matrix(y_test,y_pred))\n",
    "print(\"Training Score:\\n\",svc.score(x_train,y_train)*100)\n",
    "print(\"Mean Squared Error:\\n\",mean_squared_error(y_test,y_pred))\n",
    "print(\"R2 score is:\\n\",r2_score(y_test,y_pred))\n"
   ]
  },
  {
   "cell_type": "code",
   "execution_count": 54,
   "metadata": {
    "execution": {
     "iopub.execute_input": "2021-06-13T20:03:31.240033Z",
     "iopub.status.busy": "2021-06-13T20:03:31.239773Z",
     "iopub.status.idle": "2021-06-13T20:03:31.246115Z",
     "shell.execute_reply": "2021-06-13T20:03:31.245136Z",
     "shell.execute_reply.started": "2021-06-13T20:03:31.240007Z"
    }
   },
   "outputs": [
    {
     "name": "stdout",
     "output_type": "stream",
     "text": [
      "81.81818181818183\n"
     ]
    }
   ],
   "source": [
    "\n",
    "print(accuracy_score(y_test,y_pred)*100)\n"
   ]
  },
  {
   "cell_type": "markdown",
   "metadata": {},
   "source": [
    "**So we get a accuracy score of 79.22 % using SVC**"
   ]
  },
  {
   "cell_type": "markdown",
   "metadata": {},
   "source": [
    "# 4. Naive Bayes"
   ]
  },
  {
   "cell_type": "code",
   "execution_count": 55,
   "metadata": {
    "execution": {
     "iopub.execute_input": "2021-06-13T20:03:31.247792Z",
     "iopub.status.busy": "2021-06-13T20:03:31.247497Z",
     "iopub.status.idle": "2021-06-13T20:03:31.266895Z",
     "shell.execute_reply": "2021-06-13T20:03:31.266088Z",
     "shell.execute_reply.started": "2021-06-13T20:03:31.247763Z"
    }
   },
   "outputs": [
    {
     "data": {
      "text/plain": [
       "GaussianNB()"
      ]
     },
     "execution_count": 55,
     "metadata": {},
     "output_type": "execute_result"
    }
   ],
   "source": [
    "from sklearn.naive_bayes import GaussianNB\n",
    "gnb = GaussianNB()\n",
    "gnb.fit(x_train,y_train)\n"
   ]
  },
  {
   "cell_type": "code",
   "execution_count": 56,
   "metadata": {
    "execution": {
     "iopub.execute_input": "2021-06-13T20:03:31.268611Z",
     "iopub.status.busy": "2021-06-13T20:03:31.26831Z",
     "iopub.status.idle": "2021-06-13T20:03:31.290346Z",
     "shell.execute_reply": "2021-06-13T20:03:31.289299Z",
     "shell.execute_reply.started": "2021-06-13T20:03:31.268582Z"
    }
   },
   "outputs": [
    {
     "name": "stdout",
     "output_type": "stream",
     "text": [
      "Classification Report is:\n",
      "               precision    recall  f1-score   support\n",
      "\n",
      "           0       0.84      0.87      0.85       107\n",
      "           1       0.67      0.62      0.64        47\n",
      "\n",
      "    accuracy                           0.79       154\n",
      "   macro avg       0.76      0.74      0.75       154\n",
      "weighted avg       0.79      0.79      0.79       154\n",
      "\n",
      "Confusion Matrix:\n",
      " [[93 14]\n",
      " [18 29]]\n",
      "Training Score:\n",
      " 75.7328990228013\n",
      "Mean Squared Error:\n",
      " 0.2077922077922078\n",
      "R2 score is:\n",
      " 0.020083515609465197\n"
     ]
    }
   ],
   "source": [
    "y_pred=gnb.predict(x_test)\n",
    "from sklearn.metrics import accuracy_score,classification_report,confusion_matrix\n",
    "from sklearn.metrics import r2_score\n",
    "from sklearn.metrics import mean_squared_error\n",
    "print(\"Classification Report is:\\n\",classification_report(y_test,y_pred))\n",
    "print(\"Confusion Matrix:\\n\",confusion_matrix(y_test,y_pred))\n",
    "print(\"Training Score:\\n\",gnb.score(x_train,y_train)*100)\n",
    "print(\"Mean Squared Error:\\n\",mean_squared_error(y_test,y_pred))\n",
    "print(\"R2 score is:\\n\",r2_score(y_test,y_pred))\n"
   ]
  },
  {
   "cell_type": "code",
   "execution_count": 57,
   "metadata": {
    "execution": {
     "iopub.execute_input": "2021-06-13T20:03:31.291984Z",
     "iopub.status.busy": "2021-06-13T20:03:31.291521Z",
     "iopub.status.idle": "2021-06-13T20:03:31.299749Z",
     "shell.execute_reply": "2021-06-13T20:03:31.298955Z",
     "shell.execute_reply.started": "2021-06-13T20:03:31.291953Z"
    }
   },
   "outputs": [
    {
     "name": "stdout",
     "output_type": "stream",
     "text": [
      "Accuracy Score:\n",
      " 75.7328990228013\n"
     ]
    }
   ],
   "source": [
    "print(\"Accuracy Score:\\n\",gnb.score(x_train,y_train)*100)"
   ]
  },
  {
   "cell_type": "markdown",
   "metadata": {},
   "source": [
    "**So we get a accuracy score of 75.73 % using Naiye Bayes**"
   ]
  },
  {
   "cell_type": "markdown",
   "metadata": {},
   "source": [
    "# 5. DECISION TREE CLASSIFIER"
   ]
  },
  {
   "cell_type": "code",
   "execution_count": null,
   "metadata": {
    "execution": {
     "iopub.execute_input": "2021-06-13T20:03:31.301522Z",
     "iopub.status.busy": "2021-06-13T20:03:31.301009Z",
     "iopub.status.idle": "2021-06-13T20:03:31.319571Z",
     "shell.execute_reply": "2021-06-13T20:03:31.318447Z",
     "shell.execute_reply.started": "2021-06-13T20:03:31.30149Z"
    }
   },
   "outputs": [],
   "source": [
    "from sklearn.tree import DecisionTreeClassifier\n",
    "dtree = DecisionTreeClassifier(max_depth=6, random_state=123,criterion='entropy')\n",
    "\n",
    "dtree.fit(x_train,y_train)\n"
   ]
  },
  {
   "cell_type": "code",
   "execution_count": null,
   "metadata": {
    "execution": {
     "iopub.execute_input": "2021-06-13T20:03:31.32108Z",
     "iopub.status.busy": "2021-06-13T20:03:31.320767Z",
     "iopub.status.idle": "2021-06-13T20:03:31.345231Z",
     "shell.execute_reply": "2021-06-13T20:03:31.343887Z",
     "shell.execute_reply.started": "2021-06-13T20:03:31.321033Z"
    }
   },
   "outputs": [],
   "source": [
    "y_pred=dtree.predict(x_test)\n",
    "from sklearn.metrics import accuracy_score,classification_report,confusion_matrix\n",
    "from sklearn.metrics import r2_score\n",
    "from sklearn.metrics import mean_squared_error\n",
    "print(\"Classification Report is:\\n\",classification_report(y_test,y_pred))\n",
    "print(\"Confusion Matrix:\\n\",confusion_matrix(y_test,y_pred))\n",
    "print(\"Training Score:\\n\",dtree.score(x_train,y_train)*100)\n",
    "print(\"Mean Squared Error:\\n\",mean_squared_error(y_test,y_pred))\n",
    "print(\"R2 score is:\\n\",r2_score(y_test,y_pred))"
   ]
  },
  {
   "cell_type": "code",
   "execution_count": null,
   "metadata": {
    "execution": {
     "iopub.execute_input": "2021-06-13T20:03:31.348941Z",
     "iopub.status.busy": "2021-06-13T20:03:31.348622Z",
     "iopub.status.idle": "2021-06-13T20:03:31.355347Z",
     "shell.execute_reply": "2021-06-13T20:03:31.354039Z",
     "shell.execute_reply.started": "2021-06-13T20:03:31.348911Z"
    }
   },
   "outputs": [],
   "source": [
    "print(accuracy_score(y_test,y_pred)*100)\n",
    "\n"
   ]
  },
  {
   "cell_type": "markdown",
   "metadata": {},
   "source": [
    "**So we get accuracy score of 73.37 % using DecisionTreeClassifier**"
   ]
  },
  {
   "cell_type": "markdown",
   "metadata": {},
   "source": [
    "# 6.  RandomForestClassifier"
   ]
  },
  {
   "cell_type": "code",
   "execution_count": null,
   "metadata": {
    "execution": {
     "iopub.execute_input": "2021-06-13T20:03:31.357079Z",
     "iopub.status.busy": "2021-06-13T20:03:31.356717Z",
     "iopub.status.idle": "2021-06-13T20:03:31.611856Z",
     "shell.execute_reply": "2021-06-13T20:03:31.610332Z",
     "shell.execute_reply.started": "2021-06-13T20:03:31.357037Z"
    }
   },
   "outputs": [],
   "source": [
    "from sklearn.ensemble import RandomForestClassifier\n",
    "rfc=RandomForestClassifier()\n",
    "rfc.fit(x_train,y_train)\n"
   ]
  },
  {
   "cell_type": "code",
   "execution_count": null,
   "metadata": {
    "execution": {
     "iopub.execute_input": "2021-06-13T20:03:31.613699Z",
     "iopub.status.busy": "2021-06-13T20:03:31.613339Z",
     "iopub.status.idle": "2021-06-13T20:03:31.669852Z",
     "shell.execute_reply": "2021-06-13T20:03:31.668728Z",
     "shell.execute_reply.started": "2021-06-13T20:03:31.613667Z"
    }
   },
   "outputs": [],
   "source": [
    "y_pred=rfc.predict(x_test)\n",
    "from sklearn.metrics import accuracy_score,classification_report,confusion_matrix\n",
    "from sklearn.metrics import r2_score\n",
    "from sklearn.metrics import mean_squared_error\n",
    "print(\"Classification Report is:\\n\",classification_report(y_test,y_pred))\n",
    "print(\"Confusion Matrix:\\n\",confusion_matrix(y_test,y_pred))\n",
    "print(\"Training Score:\\n\",rfc.score(x_train,y_train)*100)\n",
    "print(\"Mean Squared Error:\\n\",mean_squared_error(y_test,y_pred))\n",
    "print(\"R2 score is:\\n\",r2_score(y_test,y_pred))\n"
   ]
  },
  {
   "cell_type": "code",
   "execution_count": null,
   "metadata": {
    "execution": {
     "iopub.execute_input": "2021-06-13T20:03:31.671154Z",
     "iopub.status.busy": "2021-06-13T20:03:31.670864Z",
     "iopub.status.idle": "2021-06-13T20:03:31.678139Z",
     "shell.execute_reply": "2021-06-13T20:03:31.676937Z",
     "shell.execute_reply.started": "2021-06-13T20:03:31.671126Z"
    }
   },
   "outputs": [],
   "source": [
    "print(accuracy_score(y_test,y_pred)*100)"
   ]
  },
  {
   "cell_type": "markdown",
   "metadata": {},
   "source": [
    "**So we get a accuracy score of 81.18 % using RandomForestClassifier**"
   ]
  },
  {
   "cell_type": "markdown",
   "metadata": {},
   "source": [
    "# 7. AdaBoostClassifier"
   ]
  },
  {
   "cell_type": "code",
   "execution_count": null,
   "metadata": {
    "execution": {
     "iopub.execute_input": "2021-06-13T20:03:31.679905Z",
     "iopub.status.busy": "2021-06-13T20:03:31.679541Z",
     "iopub.status.idle": "2021-06-13T20:03:31.801193Z",
     "shell.execute_reply": "2021-06-13T20:03:31.800113Z",
     "shell.execute_reply.started": "2021-06-13T20:03:31.679867Z"
    }
   },
   "outputs": [],
   "source": [
    "from sklearn.ensemble import AdaBoostClassifier\n",
    "adb = AdaBoostClassifier(base_estimator = None)\n",
    "adb.fit(x_train,y_train)\n",
    "\n",
    "\n"
   ]
  },
  {
   "cell_type": "code",
   "execution_count": null,
   "metadata": {
    "execution": {
     "iopub.execute_input": "2021-06-13T20:03:31.802746Z",
     "iopub.status.busy": "2021-06-13T20:03:31.802452Z",
     "iopub.status.idle": "2021-06-13T20:03:31.85326Z",
     "shell.execute_reply": "2021-06-13T20:03:31.852007Z",
     "shell.execute_reply.started": "2021-06-13T20:03:31.802717Z"
    }
   },
   "outputs": [],
   "source": [
    "y_pred=adb.predict(x_test)\n",
    "from sklearn.metrics import accuracy_score,classification_report,confusion_matrix\n",
    "from sklearn.metrics import r2_score\n",
    "from sklearn.metrics import mean_squared_error\n",
    "print(\"Classification Report is:\\n\",classification_report(y_test,y_pred))\n",
    "print(\"Confusion Matrix:\\n\",confusion_matrix(y_test,y_pred))\n",
    "print(\"Training Score:\\n\",adb.score(x_train,y_train)*100)\n",
    "print(\"Mean Squared Error:\\n\",mean_squared_error(y_test,y_pred))\n",
    "print(\"R2 score is:\\n\",r2_score(y_test,y_pred))\n"
   ]
  },
  {
   "cell_type": "code",
   "execution_count": null,
   "metadata": {
    "execution": {
     "iopub.execute_input": "2021-06-13T20:03:31.855507Z",
     "iopub.status.busy": "2021-06-13T20:03:31.855032Z",
     "iopub.status.idle": "2021-06-13T20:03:31.862628Z",
     "shell.execute_reply": "2021-06-13T20:03:31.861277Z",
     "shell.execute_reply.started": "2021-06-13T20:03:31.855462Z"
    }
   },
   "outputs": [],
   "source": [
    "print(accuracy_score(y_test,y_pred)*100)"
   ]
  },
  {
   "cell_type": "markdown",
   "metadata": {},
   "source": [
    "**So we get a accuracy score of 77.92 % using AdaBoostClassifier**"
   ]
  },
  {
   "cell_type": "markdown",
   "metadata": {},
   "source": [
    "# 8. Gradient Boosting Classifier"
   ]
  },
  {
   "cell_type": "code",
   "execution_count": null,
   "metadata": {
    "execution": {
     "iopub.execute_input": "2021-06-13T20:03:31.864938Z",
     "iopub.status.busy": "2021-06-13T20:03:31.864481Z",
     "iopub.status.idle": "2021-06-13T20:03:32.032277Z",
     "shell.execute_reply": "2021-06-13T20:03:32.031097Z",
     "shell.execute_reply.started": "2021-06-13T20:03:31.86489Z"
    }
   },
   "outputs": [],
   "source": [
    "from sklearn.ensemble import GradientBoostingClassifier\n",
    "gbc=GradientBoostingClassifier()\n",
    "gbc.fit(x_train,y_train)\n"
   ]
  },
  {
   "cell_type": "code",
   "execution_count": null,
   "metadata": {
    "execution": {
     "iopub.execute_input": "2021-06-13T20:03:32.03435Z",
     "iopub.status.busy": "2021-06-13T20:03:32.033891Z",
     "iopub.status.idle": "2021-06-13T20:03:32.061212Z",
     "shell.execute_reply": "2021-06-13T20:03:32.060103Z",
     "shell.execute_reply.started": "2021-06-13T20:03:32.034307Z"
    }
   },
   "outputs": [],
   "source": [
    "y_pred=gbc.predict(x_test)\n",
    "from sklearn.metrics import accuracy_score,classification_report,confusion_matrix\n",
    "from sklearn.metrics import r2_score\n",
    "from sklearn.metrics import mean_squared_error\n",
    "print(\"Classification Report is:\\n\",classification_report(y_test,y_pred))\n",
    "print(\"Confusion Matrix:\\n\",confusion_matrix(y_test,y_pred))\n",
    "print(\"Training Score:\\n\",gbc.score(x_train,y_train)*100)\n",
    "print(\"Mean Squared Error:\\n\",mean_squared_error(y_test,y_pred))\n",
    "print(\"R2 score is:\\n\",r2_score(y_test,y_pred))"
   ]
  },
  {
   "cell_type": "code",
   "execution_count": null,
   "metadata": {
    "execution": {
     "iopub.execute_input": "2021-06-13T20:03:32.063336Z",
     "iopub.status.busy": "2021-06-13T20:03:32.063013Z",
     "iopub.status.idle": "2021-06-13T20:03:32.06979Z",
     "shell.execute_reply": "2021-06-13T20:03:32.068477Z",
     "shell.execute_reply.started": "2021-06-13T20:03:32.063305Z"
    }
   },
   "outputs": [],
   "source": [
    "print(accuracy_score(y_test,y_pred)*100)"
   ]
  },
  {
   "cell_type": "markdown",
   "metadata": {},
   "source": [
    "**So we get a accuracy score of 81.81 % using GradientBoostingClassifier**"
   ]
  },
  {
   "cell_type": "markdown",
   "metadata": {},
   "source": [
    "# 9. XGBClassifier"
   ]
  },
  {
   "cell_type": "code",
   "execution_count": null,
   "metadata": {
    "execution": {
     "iopub.execute_input": "2021-06-13T20:03:32.071781Z",
     "iopub.status.busy": "2021-06-13T20:03:32.071383Z",
     "iopub.status.idle": "2021-06-13T20:03:32.110896Z",
     "shell.execute_reply": "2021-06-13T20:03:32.109914Z",
     "shell.execute_reply.started": "2021-06-13T20:03:32.071752Z"
    }
   },
   "outputs": [],
   "source": [
    "from xgboost import XGBClassifier\n",
    "\n",
    "xgb =XGBClassifier(objective ='reg:linear', colsample_bytree = 0.3, learning_rate = 0.1,\n",
    "                max_depth = 5, alpha = 10, n_estimators = 10)\n",
    "\n",
    "xgb.fit(x_train, y_train)\n"
   ]
  },
  {
   "cell_type": "code",
   "execution_count": null,
   "metadata": {
    "execution": {
     "iopub.execute_input": "2021-06-13T20:03:32.112565Z",
     "iopub.status.busy": "2021-06-13T20:03:32.112223Z",
     "iopub.status.idle": "2021-06-13T20:03:32.140607Z",
     "shell.execute_reply": "2021-06-13T20:03:32.139595Z",
     "shell.execute_reply.started": "2021-06-13T20:03:32.112533Z"
    }
   },
   "outputs": [],
   "source": [
    "y_pred=xgb.predict(x_test)\n",
    "from sklearn.metrics import accuracy_score,classification_report,confusion_matrix\n",
    "from sklearn.metrics import r2_score\n",
    "from sklearn.metrics import mean_squared_error\n",
    "print(\"Classification Report is:\\n\",classification_report(y_test,y_pred))\n",
    "print(\"Confusion Matrix:\\n\",confusion_matrix(y_test,y_pred))\n",
    "print(\"Training Score:\\n\",xgb.score(x_train,y_train)*100)\n",
    "print(\"Mean Squared Error:\\n\",mean_squared_error(y_test,y_pred))\n",
    "print(\"R2 score is:\\n\",r2_score(y_test,y_pred))"
   ]
  },
  {
   "cell_type": "code",
   "execution_count": null,
   "metadata": {
    "execution": {
     "iopub.execute_input": "2021-06-13T20:03:32.145019Z",
     "iopub.status.busy": "2021-06-13T20:03:32.14466Z",
     "iopub.status.idle": "2021-06-13T20:03:32.155332Z",
     "shell.execute_reply": "2021-06-13T20:03:32.154159Z",
     "shell.execute_reply.started": "2021-06-13T20:03:32.144987Z"
    }
   },
   "outputs": [],
   "source": [
    "xbg_accuracy=print(accuracy_score(y_test,y_pred)*100)"
   ]
  },
  {
   "cell_type": "markdown",
   "metadata": {},
   "source": [
    "**So we get a accuracy score of 78.57 % using XGBClassifier**"
   ]
  },
  {
   "cell_type": "markdown",
   "metadata": {},
   "source": [
    "# 10. ExtraTreesClassifier"
   ]
  },
  {
   "cell_type": "code",
   "execution_count": null,
   "metadata": {
    "execution": {
     "iopub.execute_input": "2021-06-13T20:03:32.157127Z",
     "iopub.status.busy": "2021-06-13T20:03:32.156726Z",
     "iopub.status.idle": "2021-06-13T20:03:32.331755Z",
     "shell.execute_reply": "2021-06-13T20:03:32.330744Z",
     "shell.execute_reply.started": "2021-06-13T20:03:32.157083Z"
    }
   },
   "outputs": [],
   "source": [
    "from sklearn.ensemble import ExtraTreesClassifier\n",
    "etc = ExtraTreesClassifier(n_estimators=100, random_state=0)\n",
    "etc.fit(x_train,y_train)"
   ]
  },
  {
   "cell_type": "code",
   "execution_count": null,
   "metadata": {
    "execution": {
     "iopub.execute_input": "2021-06-13T20:03:32.333669Z",
     "iopub.status.busy": "2021-06-13T20:03:32.333263Z",
     "iopub.status.idle": "2021-06-13T20:03:32.396481Z",
     "shell.execute_reply": "2021-06-13T20:03:32.395245Z",
     "shell.execute_reply.started": "2021-06-13T20:03:32.333628Z"
    }
   },
   "outputs": [],
   "source": [
    "y_pred=etc.predict(x_test)\n",
    "from sklearn.metrics import accuracy_score,classification_report,confusion_matrix\n",
    "from sklearn.metrics import r2_score\n",
    "from sklearn.metrics import mean_squared_error\n",
    "print(\"Classification Report is:\\n\",classification_report(y_test,y_pred))\n",
    "print(\"Confusion Matrix:\\n\",confusion_matrix(y_test,y_pred))\n",
    "print(\"Training Score:\\n\",etc.score(x_train,y_train)*100)\n",
    "print(\"Mean Squared Error:\\n\",mean_squared_error(y_test,y_pred))\n",
    "print(\"R2 score is:\\n\",r2_score(y_test,y_pred))"
   ]
  },
  {
   "cell_type": "code",
   "execution_count": null,
   "metadata": {
    "execution": {
     "iopub.execute_input": "2021-06-13T20:03:32.39813Z",
     "iopub.status.busy": "2021-06-13T20:03:32.397808Z",
     "iopub.status.idle": "2021-06-13T20:03:32.403846Z",
     "shell.execute_reply": "2021-06-13T20:03:32.403023Z",
     "shell.execute_reply.started": "2021-06-13T20:03:32.398102Z"
    }
   },
   "outputs": [],
   "source": [
    "print(accuracy_score(y_test,y_pred)*100)"
   ]
  },
  {
   "cell_type": "markdown",
   "metadata": {},
   "source": [
    " **So we get a accuracy score of 80.51 % using ExtraTreesClassifier**"
   ]
  },
  {
   "cell_type": "code",
   "execution_count": null,
   "metadata": {
    "execution": {
     "iopub.execute_input": "2021-06-13T20:03:32.40533Z",
     "iopub.status.busy": "2021-06-13T20:03:32.404905Z",
     "iopub.status.idle": "2021-06-13T20:03:32.425759Z",
     "shell.execute_reply": "2021-06-13T20:03:32.424693Z",
     "shell.execute_reply.started": "2021-06-13T20:03:32.405289Z"
    }
   },
   "outputs": [],
   "source": [
    "data = pd.DataFrame({'Actual': y_test, 'Predicted': y_pred})\n",
    "data\n"
   ]
  },
  {
   "cell_type": "markdown",
   "metadata": {},
   "source": [
    "***So now we conclude the accuracy of different models:***\n",
    "\n",
    "* Logistic Regression= 82.46 %\n",
    "* KNeighbors Classifier= 75.97 %\n",
    "* SVC= 79.22 %\n",
    "* Naiye Bayes= 75.73 %\n",
    "* Decision Tree Classifier= 73.37%\n",
    "* Random Forest Classifier= 81.57%\n",
    "* Ada Boost Classifier= 77.92%\n",
    "* Gradient Boosting Classifier= 81.81%\n",
    "* XGB Classifier= 78.57%\n",
    "* Extra Trees Classifier= 80.51%\n",
    "\n",
    "\n",
    "\n"
   ]
  },
  {
   "cell_type": "markdown",
   "metadata": {},
   "source": [
    "# **If you liked this notebook, please UPVOTE it.**"
   ]
  }
 ],
 "metadata": {
  "kernelspec": {
   "display_name": "Python 3",
   "language": "python",
   "name": "python3"
  },
  "language_info": {
   "codemirror_mode": {
    "name": "ipython",
    "version": 3
   },
   "file_extension": ".py",
   "mimetype": "text/x-python",
   "name": "python",
   "nbconvert_exporter": "python",
   "pygments_lexer": "ipython3",
   "version": "3.9.0"
  }
 },
 "nbformat": 4,
 "nbformat_minor": 4
}
